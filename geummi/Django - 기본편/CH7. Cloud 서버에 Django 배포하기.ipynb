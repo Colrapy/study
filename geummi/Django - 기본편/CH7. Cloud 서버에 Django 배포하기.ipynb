{
 "cells": [
  {
   "cell_type": "markdown",
   "id": "2f366de4",
   "metadata": {},
   "source": [
    "# CH7. Cloude 서버에 Django 배포하기\n",
    "\n",
    "* 클라우드 서비스   \n",
    ": 인터넷에 있는 서버를 빌려서 사용할 수 있는 서비스   \n",
    "ex. AWS, Digital Ocean, Heroku, PythonAnywhere"
   ]
  },
  {
   "cell_type": "markdown",
   "id": "27f0cf6b",
   "metadata": {},
   "source": [
    "## 1. PythonAnywhere 가입\n",
    "\n",
    ": www.pythonanywhere.com 사이트의 LogIn\n",
    "\n",
    "* Begineer 계정   \n",
    ": 무료 사용 가능   \n",
    "  도메인명을 변경할 수 없음   \n",
    "  장고 앱을 하나만 실행할 수 있음   \n",
    "  처리 트래픽량이 제한적임\n",
    "  \n",
    "     \n",
    "* Username으로 도메인 명이 결정됨\n",
    "\n",
    "\n",
    "> **PythonAnywhere의 메뉴 기능**   \n",
    "> * Dashboard : 사이트에 대한 CPU 사용량 등 전체 현황 열람   \n",
    "> * Consoles : Bash 쉘이나 파이썬 쉘을 작업할 수 있는 터미널 창을 오픈 가능   \n",
    "> * Files : 파일과 디렉토리를 보거나 새로 생성할 수 있으며 파일 업로드 가능   \n",
    "> * Web : 장고 앱을 실행하기 위해 필요한 항목 설정 가능   \n",
    "> * Tasks : 주기적인 태스크를 실행\n",
    "> * Databases : MySQL 데이터베이스를 사용하기 위한 메뉴"
   ]
  },
  {
   "cell_type": "markdown",
   "id": "d3a164c6",
   "metadata": {},
   "source": [
    "## 2. 장고 소스 가져오기\n",
    "\n",
    "* 파일 업로드   \n",
    ": 장고 소스를 미리 zip 파일로 압축한 후, 이를 PythonAnywhere 서버로 업로드   \n",
    "  (PythonAnywhere - Files)"
   ]
  },
  {
   "cell_type": "markdown",
   "id": "9b98eb9f",
   "metadata": {},
   "source": [
    "## 3. 리눅스 명령으로 압축 풀기\n",
    "\n",
    ": (PythonAnywhere - Consoles - Other(Bash)\n",
    "\n",
    "```\n",
    "# 현재 디렉토리 경로 확인\n",
    "pwd\n",
    "\n",
    "# ch5 디렉토리로 이동\n",
    "cd /home/study/ch5\n",
    "\n",
    "# ch5 하위 디렉토리 확인\n",
    "ls -al\n",
    "\n",
    "# 압축 풀기\n",
    "unzip ch5.zip\n",
    "\n",
    "# 확인\n",
    "tree -L 2\n",
    "```"
   ]
  },
  {
   "cell_type": "markdown",
   "id": "fcca82ca",
   "metadata": {},
   "source": [
    "## 4. 가상 환경 만들기\n",
    "\n",
    ": (PythonAnywhere - Consoles - Other(Bash)\n",
    "\n",
    "```\n",
    "# 가상환경을 만들 디렉토리로 이동\n",
    "cd /home/hgm/VENV\n",
    "\n",
    "# 가상환경 생성\n",
    "virtualenv -python python3.6 v3PyBook\n",
    "\n",
    "# 가상환경 진입\n",
    "source /home/study/VENV/v3PyBook/bin/activate\n",
    "\n",
    "# 파이썬 버전 확인\n",
    "python -V\n",
    "\n",
    "# 장고 설치\n",
    "pip install Django == 2.0\n",
    "\n",
    "# 설치 패키지 확인\n",
    "pip list\n",
    "\n",
    "# 가상환경 종료\n",
    "deactivate\n",
    "```"
   ]
  },
  {
   "cell_type": "markdown",
   "id": "34b2c2ca",
   "metadata": {},
   "source": [
    "## 5. PythonAnywhere 서버에서 장고 설정 변경하기\n",
    "\n",
    ": CH6에서 설정한 서버에 배포하기 위한 설정 변경을 동일하게 가상 환경에서도 실행\n",
    "\n",
    "```\n",
    "mysite/settings.py\n",
    "\n",
    "# 변경\n",
    "ALLOWED_HOSTS = ['hgm.pythonanywhere.com', 'localhost', '127.0.0.1']\n",
    "\n",
    "# 추가\n",
    "STATIC_URL = '/static/'\n",
    "STATIC_ROOT = os.path.join(BASE_DIR, 'www_dir', 'static')\n",
    "```\n",
    "\n",
    "```\n",
    "# cmd에서 실행\n",
    "# v3PyBook에서 실행\n",
    "\n",
    "python manage.py collectstatic\n",
    "```"
   ]
  },
  {
   "cell_type": "markdown",
   "id": "95b52b3c",
   "metadata": {},
   "source": [
    "## 6. PythonAnywhere 웹 서버 설정하기\n",
    "\n",
    ": (PythonAnywhere - WEB - Add a new web app) 설정 마법사 실행\n",
    "\n",
    "1. 도메인 명 확인 (NEXT)   \n",
    "2. 파이썬 프레임워크 선택 (Manual configuration - NEXT)   \n",
    "3. 파이썬 버전 선택 (Python 3.6 - NEXT)   \n",
    "4. 설정 마법사 종료   \n",
    "5. (PythonAnywhere - WEB - Code - WSGI configuration file)     \n",
    "6. (/var/www/hgm_pythohnanywhere_com_wsgi.py) 파일 선택   \n",
    "7. 코드 수정   \n",
    "    ```\n",
    "    import os\n",
    "    import sys\n",
    "    \n",
    "    # 프로젝트 루트 디렉토리 지정\n",
    "    path = '/home/hgm/study/ch5'\n",
    "    if path not in sys.path :\n",
    "        sys.path.append(path)\n",
    "    \n",
    "    os.environ['DJANGO_SETTINGS_MODULE'] = 'mysite.settings'\n",
    "    \n",
    "    from django.core.wsgi import get_wsgi_application\n",
    "    application = get_wsgi_application()\n",
    "    ```\n",
    "8. (PythonAnywhere - WEB - Virtualenv - Enter apth to a virtualenv, if desired)   \n",
    "9. (/home/hgm/VENV/v3PyBook) 가상 환경 디렉토리 등록   \n",
    "10. (PythonAnywhere - WEB - Static files)   \n",
    "11. (URL : /static/ , Directory : /home/hgm/sutdy/ch5/www_dir/static) settings.py의 설정 기입\n",
    "12. (PythonAnywhere - WEB - Reload) 새로운 설정 등록\n",
    "13. (http://hgm.pythonanywhere.com) 접속 후 확인\n",
    "\n",
    "**Beginner 계정이므로 3개월마다 Reload하여 사용해야함**"
   ]
  }
 ],
 "metadata": {
  "kernelspec": {
   "display_name": "Python 3",
   "language": "python",
   "name": "python3"
  },
  "language_info": {
   "codemirror_mode": {
    "name": "ipython",
    "version": 3
   },
   "file_extension": ".py",
   "mimetype": "text/x-python",
   "name": "python",
   "nbconvert_exporter": "python",
   "pygments_lexer": "ipython3",
   "version": "3.8.8"
  }
 },
 "nbformat": 4,
 "nbformat_minor": 5
}
