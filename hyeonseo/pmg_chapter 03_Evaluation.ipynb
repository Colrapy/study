{
 "cells": [
  {
   "cell_type": "markdown",
   "id": "80053244",
   "metadata": {},
   "source": [
    "## || chapter 03. 평가 ||"
   ]
  },
  {
   "cell_type": "markdown",
   "id": "790e68c1",
   "metadata": {},
   "source": [
    "### 00-1. 성능 평가 지표\n",
    "   - 머신러닝의 프로세스\n",
    "     - 1) 데이터 가공/변환\n",
    "     - 2) 모델 학습/예측\n",
    "     - 3) 평가\n",
    "   - 성능평가 지표는 모델이 분류냐 회귀냐에 따라 변함\n",
    "      - 1) **회귀** : 실제값과 예측값의 오차평균값. 예측 오차 가지고 정규화 수준을 재가공\n",
    "      - 2) **분류** : 실제 결과 데이터와 예측 결과 데이터가 얼마나 정확하고 오류가 적게 발생하는가에 기반\n",
    "         + 이러한 정확도만 가지고 판단하면 잘못된 평가 발생\n",
    "         + 분류에 대한 평가지표. 특히 이진분류 성능 평가 지표에 대해 설명 예정\n",
    "        "
   ]
  },
  {
   "cell_type": "markdown",
   "id": "7565cf44",
   "metadata": {},
   "source": [
    "### 00-2. 분류의 성능 평가 지표\n",
    "- 정확도(Accuracy)\n",
    "- 오차행렬(Confusion Matrix)\n",
    "- 정밀도(Precision)\n",
    "- 재현율(Recall)\n",
    "- F1 스코어\n",
    "- ROC AUC"
   ]
  },
  {
   "cell_type": "markdown",
   "id": "a89850cc",
   "metadata": {},
   "source": [
    "### 01. 정확도(Accuracy)\n",
    "- 실제 데이터에서 예측 데이터가 **얼마나 같은지** 판단하는 지표\n",
    "- 직관적으로 모델 예측 성능을 나타내는 평가 지표 \n",
    "    - 이진 분류는 데이터 구성에 따라 ML모델 성능 왜곡할 수 있기 때문에 정확도만 가지고 성능평가X"
   ]
  },
  {
   "cell_type": "markdown",
   "id": "e8cd4cfe",
   "metadata": {},
   "source": [
    "$$ 정확도 =  \\frac{예측 결과가 동일한 데이터 건수}{전체 예측 데이터 건수} $$"
   ]
  },
  {
   "cell_type": "code",
   "execution_count": 24,
   "id": "289c54e5",
   "metadata": {},
   "outputs": [],
   "source": [
    "# 학습 하지 않고, 성별에 따라 생존자 예측하는 단순한 Classifier 예제\n",
    "from sklearn.base import BaseEstimator\n",
    "\n",
    "class MyDummyClassifier(BaseEstimator):\n",
    "    # fit() 메서드는 아무것도 학습하지 않음\n",
    "    def fit(self, X, y=None):\n",
    "        pass\n",
    "    # predict() 메서드는 단순히 Sex 피처가 1이면 0, 그렇지 않으면 1로 예측\n",
    "    def predict(self, X):\n",
    "        pred = np.zeros((X.shape[0], 1))\n",
    "        for i in range (X.shape[0]):\n",
    "            if X['Sex'].iloc[i] == 1:\n",
    "                pred[i] = 0\n",
    "            else:\n",
    "                pred[i] = 1\n",
    "                \n",
    "        return pred"
   ]
  },
  {
   "cell_type": "code",
   "execution_count": 27,
   "id": "13842a08",
   "metadata": {},
   "outputs": [],
   "source": [
    "## 데이터 전처리\n",
    "from sklearn.preprocessing import LabelEncoder\n",
    "import numpy as np\n",
    "# Null 처리 함수\n",
    "def fillna(df):\n",
    "    df['Age'].fillna(df['Age'].mean(), inplace=True)\n",
    "    df['Cabin'].fillna('N', inplace=True)\n",
    "    df['Embarked'].fillna('N', inplace=True)\n",
    "    df['Fare'].fillna(0, inplace=True)\n",
    "    return df\n",
    "\n",
    "# 머신러닝 알고리즘에 불필요한 속성 제거\n",
    "def drop_features(df):\n",
    "    df.drop(['PassengerId', 'Name', 'Ticket'], axis=1, inplace=True)\n",
    "    return df\n",
    "\n",
    "# 레이블 인코딩 수행\n",
    "def format_features(df):\n",
    "    df['Cabin'] = df['Cabin'].str[:1]\n",
    "    features = ['Cabin', 'Sex', 'Embarked']\n",
    "    for feature in features:\n",
    "        le = LabelEncoder()\n",
    "        le = le.fit(df[feature])\n",
    "        df[feature] = le.transform(df[feature])\n",
    "    return df\n",
    "\n",
    "# 앞에서 설정한 데이터 전처리 함수 호출\n",
    "def transform_features(df):\n",
    "    df = fillna(df)\n",
    "    df = drop_features(df)\n",
    "    df = format_features(df)\n",
    "    return df"
   ]
  },
  {
   "cell_type": "code",
   "execution_count": 28,
   "id": "d044170d",
   "metadata": {},
   "outputs": [
    {
     "name": "stdout",
     "output_type": "stream",
     "text": [
      "Dummy classifier의 정확도는: 0.7877\n"
     ]
    }
   ],
   "source": [
    "import pandas as pd\n",
    "from sklearn.model_selection import train_test_split\n",
    "from sklearn.metrics import accuracy_score\n",
    "\n",
    "# 원본 데이터를 재로딩, 데이터 가공, 학습 데이터/텍스트 데이터 분할\n",
    "titanic_df = pd.read_csv('./titanic_train.csv')\n",
    "y_titanic_df = titanic_df['Survived']\n",
    "X_titanic_df = titanic_df.drop('Survived', axis=1)\n",
    "X_titanic_df = transform_features(X_titanic_df)\n",
    "X_train, X_test, y_train, y_test = train_test_split(X_titanic_df, y_titanic_df, test_size=0.2, random_state=0)\n",
    "\n",
    "# 위에서 생성한 MyCummyClassifier 이용해 타이타닉 생존자 학습/예측/평가 수행\n",
    "myclf = MyDummyClassifier()\n",
    "myclf.fit(X_train, y_train)\n",
    "\n",
    "mypredictions = myclf.predict(X_test)\n",
    "print('Dummy classifier의 정확도는: {0:.4f}'.format(accuracy_score(y_test, mypredictions)))"
   ]
  },
  {
   "cell_type": "markdown",
   "id": "dd4be838",
   "metadata": {},
   "source": [
    "##### ==> 단순한 알고리즘으로 예측했음에도 높은 정확도가 나옴. 평가지표 정확도 신뢰 어려움.\n",
    "- 특히 불균형한 레이블 값 분포에서 ML 모델의 성능을 판단할 경우, 적합한 평가 지표가 아님\n",
    "    - ex) 100개 데이터 중 90개의 데이터 레이블이 0, 단10개의 데이터 레이블이 1이라고 한다면 무조건 0으로 예측하는 모델이라도 90%정확도"
   ]
  },
  {
   "cell_type": "markdown",
   "id": "886428b5",
   "metadata": {},
   "source": [
    "### MNIST 데이터 세트 변환해 불균형한 데이터 세트로 만든 뒤 정확도 지표 적용 해보기\n",
    "- MNIST 데이터 세트: 0부터 9까지 숫자 이미지 픽셀 정보 기반으로 숫자 digit 예측하는데 사용"
   ]
  },
  {
   "cell_type": "code",
   "execution_count": 30,
   "id": "2c6c2885",
   "metadata": {},
   "outputs": [],
   "source": [
    "from sklearn.datasets import load_digits\n",
    "from sklearn.model_selection import train_test_split\n",
    "from sklearn.base import BaseEstimator\n",
    "from sklearn.metrics import accuracy_score\n",
    "import numpy as np\n",
    "import pandas as pd\n",
    "\n",
    "class MyFakeClassifier(BaseEstimator):\n",
    "    def fit(self, X, y):\n",
    "        pass\n",
    "    \n",
    "    # 입력값으로 들어오는 X 데이터 세트의 크기만큼 모두 0값으로 만들어서 반환\n",
    "    def predict(self, X):\n",
    "        return np.zeros((len(X), 1), dtype=bool)\n",
    "    \n",
    "# 사이킷런의 내장 데이터 세트 이용해 MNIST 데이터 로딩\n",
    "digits = load_digits()\n",
    "\n",
    "# digits 번호가 7번이면 True이고 이를 astype(int)로 1로 변환, 7번이 아니면 False이고 0으로 변환\n",
    "y = (digits.target == 7).astype(int)\n",
    "X_train, X_test, y_train, y_test = train_test_split(digits.data, y, random_state=11)"
   ]
  },
  {
   "cell_type": "code",
   "execution_count": 32,
   "id": "4d55b07f",
   "metadata": {},
   "outputs": [
    {
     "name": "stdout",
     "output_type": "stream",
     "text": [
      "레이블 테스트 세트 크기 : (450,)\n",
      "테스트 세트 레이블 0과 1의 분포도\n",
      "0    405\n",
      "1     45\n",
      "dtype: int64\n",
      "모든 예측을 0으로 하여도 정확도는:0.900\n"
     ]
    }
   ],
   "source": [
    "# 불균형한 레이블 데이터 분포도 확인\n",
    "print('레이블 테스트 세트 크기 :', y_test.shape)\n",
    "print('테스트 세트 레이블 0과 1의 분포도')\n",
    "print(pd.Series(y_test).value_counts())\n",
    "\n",
    "# Dummy Classifier로 학습/예측/정확도 평가\n",
    "fakeclf = MyFakeClassifier()\n",
    "fakeclf.fit(X_train, y_train)\n",
    "fakepred = fakeclf.predict(X_test)\n",
    "print('모든 예측을 0으로 하여도 정확도는:{:.3f}'.format(accuracy_score(y_test, fakepred)))"
   ]
  },
  {
   "cell_type": "markdown",
   "id": "06300c49",
   "metadata": {},
   "source": [
    "### 02. 오차행렬(confusion matrix, 혼동행렬)\n",
    "- 학습된 분류 모델이 예측을 수행하면서 얼마나 헷갈리고 있는지도 함께 보여주는 지표\n",
    "- 즉, 이진분류의 예측 오류가 얼마인지와 더불어 어떠한 유형의 예측 오류가 발생하고 있는지 나타냄\n",
    "    -  TN(Ture Negative) : 예측값 negative(0) -> 실제값 negative(0)\n",
    "    -  FP(False positive) : 예측값 positive(1) -> 실제값 negative(0)\n",
    "    -  FN(False Negative) : 예측값 negative(0) -> 실제값 positive(1)\n",
    "    -  TP(True Positive) : 예측값 positive(1) -> 실제값 positive(1)"
   ]
  },
  {
   "cell_type": "code",
   "execution_count": 34,
   "id": "2ae1f309",
   "metadata": {},
   "outputs": [
    {
     "data": {
      "text/plain": [
       "array([[405,   0],\n",
       "       [ 45,   0]], dtype=int64)"
      ]
     },
     "execution_count": 34,
     "metadata": {},
     "output_type": "execute_result"
    }
   ],
   "source": [
    "# 오차행렬 배열 형태로 출력\n",
    "from sklearn.metrics import confusion_matrix\n",
    "\n",
    "confusion_matrix(y_test, fakepred)"
   ]
  },
  {
   "cell_type": "markdown",
   "id": "160760c7",
   "metadata": {},
   "source": [
    "#### fakepred는 위 MNIST예제의 결과. / y_test는 실제 값\n",
    "- 무조건 negative(0)으로 예측하는 모델(7이면 true==1, 7아니면 false==0)\n",
    "- TN(7이 아니라 예측해서O), FP(7이라 예측해서X), FN(7이 아니라 예측해서 X), TP(7이라 예측해서 O)\n",
    "- 모두 7이 아니라 예측함 -> 7이 아니라 예측해서 틀린 결과 FN==45\n",
    "      TN(405)   FP(0)\n",
    "      FN(45)    TP(0)\n",
    "$$정확도 = \\frac {예측결과와 실제 값이 동일한 건수}{전체 데이터 수} = \\frac{TN+TP}{TN+FP+FN+TP}$$\n",
    "\n",
    "=> **정확도 지표는 비대칭한 데이터 세트에서 Positive에 대한 예측 정확도를 판단하지 못한 채 Negative에 대한 예측 정확도만으도 분류 정확도가 매우 높게 나타나는 수치적인 판단 오류를 일으킨다**"
   ]
  },
  {
   "cell_type": "markdown",
   "id": "c224013b",
   "metadata": {},
   "source": [
    "### 03. 정밀도와 재현율\n",
    "- positive 데이터 세트의 예측 성능에 좀 더 초점을 맞춘 평가 지표\n",
    "\n",
    "\n",
    "- $정밀도(=양성예측도) = \\frac {TP}{FP+TP}$\n",
    "         - 예측을 Positive로 한 대상 중에 예측과 실제 값이 Positive로 일치한 데이터의 비율\n",
    "         - FP+TP : 예측을 Positive로 한 모든 데이터 건수\n",
    "         - TP : 예측값과 실제값이 Positive로 일치한 건수\n",
    "         - Negative데이터를 Positive로 잘못 판단하게 되면 문제있는 경우 중요 지표(ex: 스팸메일)\n",
    "         \n",
    "         \n",
    "- $재현율(=민감도, TPR) = \\frac {TP}{FN+TP}$\n",
    "         - 실제값이 Positive인 대상 중에 예측과 실제 값이 Positive로 일치한 데이터의 비율\n",
    "         - FN+TP : 실제 값이 Positive인 모든 데이터 건수\n",
    "         - TP : 예측값과 실제값이 Positive로 일치한 건수\n",
    "         - Positive데이터를 Negative로 잘못 판단하면 큰일나는 경우 중요 지표가 됨(ex: 암 판단 모델, 금융 사기 적발 모델)\n",
    "\n"
   ]
  },
  {
   "cell_type": "code",
   "execution_count": 48,
   "id": "5ccf7e67",
   "metadata": {},
   "outputs": [
    {
     "name": "stdout",
     "output_type": "stream",
     "text": [
      "오차행렬\n",
      "[[84 16]\n",
      " [28 51]]\n",
      "정확도: 0.7542, 정밀도: 0.7612, 재현율: 0.6456\n"
     ]
    },
    {
     "name": "stderr",
     "output_type": "stream",
     "text": [
      "C:\\Users\\USER\\anaconda3\\lib\\site-packages\\sklearn\\linear_model\\_logistic.py:763: ConvergenceWarning: lbfgs failed to converge (status=1):\n",
      "STOP: TOTAL NO. of ITERATIONS REACHED LIMIT.\n",
      "\n",
      "Increase the number of iterations (max_iter) or scale the data as shown in:\n",
      "    https://scikit-learn.org/stable/modules/preprocessing.html\n",
      "Please also refer to the documentation for alternative solver options:\n",
      "    https://scikit-learn.org/stable/modules/linear_model.html#logistic-regression\n",
      "  n_iter_i = _check_optimize_result(\n"
     ]
    }
   ],
   "source": [
    "# 타이타닉 예제서 오차행렬, 정밀도(precision_score), 재현율(recall_score) 평가\n",
    "from sklearn.metrics import accuracy_score, precision_score, recall_score, confusion_matrix\n",
    "import pandas as pd\n",
    "from sklearn.model_selection import train_test_split\n",
    "from sklearn.linear_model import LogisticRegression\n",
    "\n",
    "def get_clf_eval(y_test, pred):\n",
    "    confusion = confusion_matrix(y_test, pred)\n",
    "    accuracy = accuracy_score(y_test, pred)\n",
    "    precision = precision_score(y_test, pred)\n",
    "    recall = recall_score(y_test, pred)\n",
    "    print('오차행렬')\n",
    "    print(confusion)\n",
    "    print('정확도: {0:.4f}, 정밀도: {1:.4f}, 재현율: {2:.4f}'.format(accuracy, precision, recall))\n",
    "    \n",
    "# 로지스틱 회귀 기반으로 타이타닉 생존자 예측하고 confusion matrix, accuracy, precision, recall 평가 수행\n",
    "# 원본 데이터를 재로딩, 데이터 가공, 학습 데이터/테스트 데이터 분할\n",
    "titanic_df = pd.read_csv('./titanic_train.csv')\n",
    "y_titanic_df = titanic_df['Survived']\n",
    "X_titanic_df = titanic_df.drop('Survived', axis=1)\n",
    "X_titanic_df = transform_features(X_titanic_df)\n",
    "\n",
    "X_train, X_test, y_train, y_test = train_test_split(X_titanic_df, y_titanic_df, test_size=0.20, random_state=9)\n",
    "\n",
    "lr_clf = LogisticRegression()\n",
    "\n",
    "lr_clf.fit(X_train, y_train)\n",
    "pred = lr_clf.predict(X_test)\n",
    "get_clf_eval(y_test, pred)"
   ]
  },
  {
   "cell_type": "markdown",
   "id": "e6e20f29",
   "metadata": {},
   "source": [
    "#### 정밀도에 비해 재현율이 낮게 나옴 -> 재현율을 높일 방법?"
   ]
  },
  {
   "cell_type": "markdown",
   "id": "6236ef45",
   "metadata": {},
   "source": [
    "### 정밀도/재현율 트레이드오프\n",
    "- 정밀도 또는 재현율이 특별히 강조되어야하는 경우 **결정임계값** 을 조정해 정밀도 또는 재현율의 수치를 높일 수 있음\n",
    "- 주의할 점: 정밀도와 재현율은 상호보완적이므로 한쪽을 강제로 높이면 다른 한쪽의 수치 떨어짐\n",
    "- predict_proba(): 개별 데이터별로 예측 확률 반환하는 메서드\n",
    "- predic(): predict_proba() 메서드가 반환하는 확률 값을 가진 ndarray에서 정해진 임곗값을 만족하는 ndarray의 칼럼 위치 최종 예측 클래스로 결정"
   ]
  },
  {
   "cell_type": "code",
   "execution_count": 49,
   "id": "33be71d5",
   "metadata": {},
   "outputs": [
    {
     "name": "stdout",
     "output_type": "stream",
     "text": [
      "[[0. 0. 1.]\n",
      " [1. 0. 0.]\n",
      " [0. 0. 1.]]\n"
     ]
    }
   ],
   "source": [
    "from sklearn.preprocessing import Binarizer\n",
    "\n",
    "X = [[1, -2, 2],\n",
    "     [2, 0, 0],\n",
    "     [ 0, 1.1, 1.2]]\n",
    "\n",
    "# X의 개별 원소들이 threshold값보다 같거나 작으면 0을, 크면 1을 반환\n",
    "binarizer = Binarizer(threshold=1.1)\n",
    "print(binarizer.fit_transform(X))"
   ]
  },
  {
   "cell_type": "code",
   "execution_count": 53,
   "id": "d4ba2fcf",
   "metadata": {},
   "outputs": [
    {
     "name": "stdout",
     "output_type": "stream",
     "text": [
      "pred_proba()결과 Shap: (179, 2)\n",
      "pred_proba array에서 앞3개만 샘플로 추출\n",
      ": [[0.65584979 0.34415021]\n",
      " [0.93616361 0.06383639]\n",
      " [0.94940872 0.05059128]]\n",
      "두 개의 class 중에서 더 큰 확률을 클래스 값으로 예측 \n",
      " [[0.65584979 0.34415021 0.        ]\n",
      " [0.93616361 0.06383639 0.        ]\n",
      " [0.94940872 0.05059128 0.        ]]\n"
     ]
    }
   ],
   "source": [
    "# LogisticRegression 객체에서 predict_proba() 메서드 수행한 뒤 반환값 확인하고 predict() 메서드 결과와 비교\n",
    "pred_proba = lr_clf.predict_proba(X_test)\n",
    "pred = lr_clf.predict(X_test)\n",
    "print('pred_proba()결과 Shap: {0}'.format(pred_proba.shape))\n",
    "print('pred_proba array에서 앞3개만 샘플로 추출\\n:', pred_proba[:3])\n",
    "\n",
    "# 예측 확률 array와 예측 결괏괎 array를 병합(concatenate)해 에측 확률과 결괏값을 한눈에 확인\n",
    "pred_proba_result = np.concatenate([pred_proba, pred.reshape(-1,1)], axis=1)\n",
    "print('두 개의 class 중에서 더 큰 확률을 클래스 값으로 예측 \\n', pred_proba_result[:3])"
   ]
  },
  {
   "cell_type": "code",
   "execution_count": 54,
   "id": "707069d7",
   "metadata": {},
   "outputs": [
    {
     "name": "stdout",
     "output_type": "stream",
     "text": [
      "오차행렬\n",
      "[[84 16]\n",
      " [28 51]]\n",
      "정확도: 0.7542, 정밀도: 0.7612, 재현율: 0.6456\n"
     ]
    }
   ],
   "source": [
    "from sklearn.preprocessing import Binarizer\n",
    "\n",
    "# Binarizer의 threshold 설정값. 분류 결정 임곗값임\n",
    "custom_threshold = 0.5\n",
    "\n",
    "# predict_proba() 반환값의 두 번째 칼럼, 즉 Positive 클래스 칼럼 하나만 추출해 Binarizer를 적용\n",
    "pred_proba_1 = pred_proba[:, 1].reshape(-1, 1)\n",
    "\n",
    "binarizer = Binarizer(threshold=custom_threshold).fit(pred_proba_1)\n",
    "custom_predict = binarizer.transform(pred_proba_1)\n",
    "\n",
    "get_clf_eval(y_test, custom_predict)"
   ]
  },
  {
   "cell_type": "code",
   "execution_count": 57,
   "id": "ca09c571",
   "metadata": {},
   "outputs": [
    {
     "name": "stdout",
     "output_type": "stream",
     "text": [
      "오차행렬\n",
      "[[77 23]\n",
      " [18 61]]\n",
      "정확도: 0.7709, 정밀도: 0.7262, 재현율: 0.7722\n"
     ]
    }
   ],
   "source": [
    "# Binrizer의 threshold 설정값을 0.4로 설정. 즉 분류 결정 임곗갑을 0.5에서 0.3 낮춤\n",
    "custom_threshold = 0.3\n",
    "\n",
    "pred_proba_1 = pred_proba[:, 1].reshape(-1, 1)\n",
    "\n",
    "binarizer = Binarizer(threshold=custom_threshold).fit(pred_proba_1)\n",
    "custom_predict = binarizer.transform(pred_proba_1)\n",
    "\n",
    "get_clf_eval(y_test, custom_predict)"
   ]
  },
  {
   "cell_type": "markdown",
   "id": "e7fc39cc",
   "metadata": {},
   "source": [
    "#### 임곗값 낮추니 재현율 올라감 -> 임곗값은 Positive 예측값을 결정하는 확률의 기준\n",
    "- 0.5부터가 아닌 0.3부터 Positive로 예측을 하게 되므로 true값 많아짐\n",
    "- 양성 예측을 많이 하다보니 실제 양성을 음성으로 예측하는 횟수(FN) 상대적으로 줄어듦 -> 재현율은 FN 줄이는데 초점\n",
    "\n",
    "\n",
    "-> 임곗값에 따른 평가 지표 확인해보기"
   ]
  },
  {
   "cell_type": "code",
   "execution_count": 60,
   "id": "cdd21708",
   "metadata": {},
   "outputs": [
    {
     "name": "stdout",
     "output_type": "stream",
     "text": [
      "--------------------------\n",
      "임곗값: 0.3\n",
      "오차행렬\n",
      "[[77 23]\n",
      " [18 61]]\n",
      "정확도: 0.7709, 정밀도: 0.7262, 재현율: 0.7722\n",
      "--------------------------\n",
      "임곗값: 0.35\n",
      "오차행렬\n",
      "[[80 20]\n",
      " [21 58]]\n",
      "정확도: 0.7709, 정밀도: 0.7436, 재현율: 0.7342\n",
      "--------------------------\n",
      "임곗값: 0.4\n",
      "오차행렬\n",
      "[[80 20]\n",
      " [25 54]]\n",
      "정확도: 0.7486, 정밀도: 0.7297, 재현율: 0.6835\n",
      "--------------------------\n",
      "임곗값: 0.45\n",
      "오차행렬\n",
      "[[83 17]\n",
      " [27 52]]\n",
      "정확도: 0.7542, 정밀도: 0.7536, 재현율: 0.6582\n",
      "--------------------------\n",
      "임곗값: 0.5\n",
      "오차행렬\n",
      "[[84 16]\n",
      " [28 51]]\n",
      "정확도: 0.7542, 정밀도: 0.7612, 재현율: 0.6456\n"
     ]
    }
   ],
   "source": [
    "# 테스트를 수행할 모든 임곗값을 리스트 객체로 저장\n",
    "thresholds = [0.30, 0.35, 0.40, 0.45, 0.50]\n",
    "\n",
    "def get_eval_by_threshold(y_test, pred_proba_c1, thresholds):\n",
    "    # thresholds list객체 내의 값을 차례로 iteration 하면서 evaluation 수행\n",
    "    for custom_threshold in thresholds:\n",
    "        binarizer = Binarizer(threshold=custom_threshold).fit(pred_proba_c1)\n",
    "        custom_predict = binarizer.transform(pred_proba_c1)\n",
    "        print('--------------------------')\n",
    "        print('임곗값:', custom_threshold)\n",
    "        get_clf_eval(y_test, custom_predict)\n",
    "        \n",
    "get_eval_by_threshold(y_test, pred_proba[:,1].reshape(-1,1), thresholds)"
   ]
  },
  {
   "cell_type": "code",
   "execution_count": 61,
   "id": "42c30cdd",
   "metadata": {},
   "outputs": [
    {
     "name": "stdout",
     "output_type": "stream",
     "text": [
      "반환된 분류 결정 임곗값 배열의 Shape: (158,)\n",
      "샘플 추출을 위한 임계값 배열의 index 10개: [  0  15  30  45  60  75  90 105 120 135 150]\n",
      "샘플용 10개의 임계값: [0.05 0.1  0.11 0.14 0.17 0.3  0.43 0.61 0.7  0.76 0.92]\n",
      "샘플 임계값별 정밀도:  [0.467 0.494 0.549 0.569 0.66  0.729 0.757 0.818 0.846 0.917 1.   ]\n",
      "샘플 임계값별 재현율:  [1.    0.962 0.924 0.835 0.835 0.785 0.671 0.57  0.418 0.278 0.114]\n"
     ]
    }
   ],
   "source": [
    "from sklearn.metrics import precision_recall_curve\n",
    "\n",
    "# 레이블 값이 1일 때의 예측 확률을 추출\n",
    "pred_proba_class1 = lr_clf.predict_proba(X_test)[:,1]\n",
    "\n",
    "# 실제값 데이터 세트와 레이블 값이 1일 때의 예측 확률을 precision_recall_curve 인자로 입력\n",
    "precisions, recalls, thresholds = precision_recall_curve(y_test, pred_proba_class1)\n",
    "print('반환된 분류 결정 임곗값 배열의 Shape:', thresholds.shape)\n",
    "\n",
    "# 반환된 임곗값 배열 로우가 158건이므로 샘플로 10건만 추출하되, 임곗값을 15 step으로 추출\n",
    "thr_index = np.arange(0, thresholds.shape[0], 15)\n",
    "print('샘플 추출을 위한 임계값 배열의 index 10개:', thr_index)\n",
    "print('샘플용 10개의 임계값:', np.round(thresholds[thr_index],2))\n",
    "\n",
    "# 15 step 단위로 추출된 임계값에 따른 정밀도와 재현율 값\n",
    "print('샘플 임계값별 정밀도: ', np.round(precisions[thr_index], 3))\n",
    "print('샘플 임계값별 재현율: ', np.round(recalls[thr_index], 3))"
   ]
  },
  {
   "cell_type": "markdown",
   "id": "ad937a0d",
   "metadata": {},
   "source": [
    "#### 임계값 높아질 수록 -> 정밀도 증가, 재현율 감소\n",
    "-> 정밀도, 재현율 곡선 시각화"
   ]
  },
  {
   "cell_type": "code",
   "execution_count": 63,
   "id": "5cc55ffc",
   "metadata": {},
   "outputs": [
    {
     "data": {
      "image/png": "[encoded data removed]",
      "text/plain": [
       "<Figure size 576x432 with 1 Axes>"
      ]
     },
     "metadata": {
      "needs_background": "light"
     },
     "output_type": "display_data"
    }
   ],
   "source": [
    "import matplotlib.pyplot as plt\n",
    "import matplotlib.ticker as ticker\n",
    "%matplotlib inline\n",
    "\n",
    "def precision_recall_curve_plot(y_test, pred_proba_c1):\n",
    "    # threshold ndarray와 이 threshold에 따른 정밀도, 재현율 ndarray 추출\n",
    "    precisions, recalls, thresholds = precision_recall_curve(y_test, pred_proba_c1)\n",
    "    \n",
    "    # X축을 thresholdr값으로, Y축은 정밀도, 재현율 값으로 각각 plot수행. 정밀도는 점선\n",
    "    plt.figure(figsize=(8,6))\n",
    "    threshold_boundary = thresholds.shape[0]\n",
    "    plt.plot(thresholds, precisions[0:threshold_boundary], linestyle='--', label='precision')\n",
    "    plt.plot(thresholds, recalls[0:threshold_boundary], label='recall')\n",
    "    \n",
    "    # threshold 값 X 출의 scale을 0.1 단위로 변경\n",
    "    start, end = plt.xlim()\n",
    "    plt.xticks(np.round(np.arange(start, end, 0.1), 2))\n",
    "    \n",
    "    # X축, y축 label과 legend, 그리고 grid 설정\n",
    "    plt.xlabel('Threshold value');plt.ylabel('Precision and Recall value')\n",
    "    plt.legend(); plt.grid()\n",
    "    plt.show()\n",
    "    \n",
    "precision_recall_curve_plot(y_test, lr_clf.predict_proba(X_test)[:,1])"
   ]
  },
  {
   "cell_type": "markdown",
   "id": "d8a883f9",
   "metadata": {},
   "source": [
    "### 04. F1 스코어\n",
    "- 정밀도와 재현율 결합한 지표\n",
    "- 정밀도와 재현율 수치 적절하게 조합돼 분류의 종합적인 성능 평가에 사용될 수 있는 평가\n",
    "- 어느 한 쪽으로 **치우치지 않는 수치**를 나타낼 때 상대적으로 높은 값을 가짐\n",
    "\n",
    "$$ F1 = \\frac {2}{\\frac{1}{recall}+\\frac{1}{precision}} = 2*\\frac{precision*recall}{precision+recall}$$"
   ]
  },
  {
   "cell_type": "markdown",
   "id": "f449c37d",
   "metadata": {},
   "source": [
    "#### -> 타이타닉 생존자 예측에서 임계값 변화시키며 F1 스코어 포함 평가 지표 비교해보기"
   ]
  },
  {
   "cell_type": "code",
   "execution_count": 72,
   "id": "76126aaf",
   "metadata": {},
   "outputs": [
    {
     "name": "stdout",
     "output_type": "stream",
     "text": [
      "--------------------------\n",
      "임곗값: 0.2\n",
      "오차행렬\n",
      "[[71 29]\n",
      " [14 65]]\n",
      "정확도: 0.7598, 정밀도: 0.6915, 재현율: 0.8228, F1: 0.7514\n",
      "--------------------------\n",
      "임곗값: 0.25\n",
      "오차행렬\n",
      "[[75 25]\n",
      " [16 63]]\n",
      "정확도: 0.7709, 정밀도: 0.7159, 재현율: 0.7975, F1: 0.7545\n",
      "--------------------------\n",
      "임곗값: 0.3\n",
      "오차행렬\n",
      "[[77 23]\n",
      " [18 61]]\n",
      "정확도: 0.7709, 정밀도: 0.7262, 재현율: 0.7722, F1: 0.7485\n",
      "--------------------------\n",
      "임곗값: 0.33\n",
      "오차행렬\n",
      "[[78 22]\n",
      " [20 59]]\n",
      "정확도: 0.7654, 정밀도: 0.7284, 재현율: 0.7468, F1: 0.7375\n",
      "--------------------------\n",
      "임곗값: 0.35\n",
      "오차행렬\n",
      "[[80 20]\n",
      " [21 58]]\n",
      "정확도: 0.7709, 정밀도: 0.7436, 재현율: 0.7342, F1: 0.7389\n",
      "--------------------------\n",
      "임곗값: 0.4\n",
      "오차행렬\n",
      "[[80 20]\n",
      " [25 54]]\n",
      "정확도: 0.7486, 정밀도: 0.7297, 재현율: 0.6835, F1: 0.7059\n",
      "--------------------------\n",
      "임곗값: 0.45\n",
      "오차행렬\n",
      "[[83 17]\n",
      " [27 52]]\n",
      "정확도: 0.7542, 정밀도: 0.7536, 재현율: 0.6582, F1: 0.7027\n",
      "--------------------------\n",
      "임곗값: 0.5\n",
      "오차행렬\n",
      "[[84 16]\n",
      " [28 51]]\n",
      "정확도: 0.7542, 정밀도: 0.7612, 재현율: 0.6456, F1: 0.6986\n",
      "--------------------------\n",
      "임곗값: 0.55\n",
      "오차행렬\n",
      "[[89 11]\n",
      " [32 47]]\n",
      "정확도: 0.7598, 정밀도: 0.8103, 재현율: 0.5949, F1: 0.6861\n"
     ]
    }
   ],
   "source": [
    "from sklearn.metrics import f1_score\n",
    "\n",
    "def get_clf_eval(y_test, pred):\n",
    "    confusion = confusion_matrix(y_test, pred)\n",
    "    accuracy = accuracy_score(y_test, pred)\n",
    "    precision = precision_score(y_test, pred)\n",
    "    recall = recall_score(y_test, pred)\n",
    "    \n",
    "    # F1 스코어 추가\n",
    "    f1 = f1_score(y_test, pred)\n",
    "    print('오차행렬')\n",
    "    print(confusion)\n",
    "    \n",
    "    # f1 score print 추가\n",
    "    print('정확도: {0:.4f}, 정밀도: {1:.4f}, 재현율: {2:.4f}, F1: {3:.4f}'.format(accuracy, precision, recall, f1))\n",
    "          \n",
    "thresholds = [0.20, 0.25, 0.30, 0.33, 0.35, 0.4, 0.45, 0.50, 0.55]\n",
    "pred_proba = lr_clf.predict_proba(X_test)\n",
    "get_eval_by_threshold(y_test, pred_proba[:,1].reshape(-1,1), thresholds)"
   ]
  },
  {
   "cell_type": "markdown",
   "id": "08ae2328",
   "metadata": {},
   "source": [
    "### 05. ROC 곡선과 AUC\n",
    "1. ROC = FPR이 변할 때 TPR이 어떻게 변하는지를 나타내는 곡선\n",
    "- 임계값을 0부터 1까지 변화시키면서 FPR을 구하고 이 FPR 값의 변화에 따른 TPR 값을 구하는 것이 ROC 곡선"
   ]
  },
  {
   "cell_type": "markdown",
   "id": "c691ee04",
   "metadata": {},
   "source": [
    "$FPR = \\frac{FP}{FP+TN} = 1 - TNR = 1- 특이성$\n",
    "\n",
    "\n",
    "-> FPR(False Positive Rate) ==> ROC곡선의 X축\n",
    "\n",
    "\n",
    "    - FPR=0 만들기: FP=0만들기 => 임계값 1로 지정. Positive로 예측하지 않아 FP=0됨\n",
    "    - FPR=1 만들기: TN=0만들기 => 임계값 0으로 지정"
   ]
  },
  {
   "cell_type": "markdown",
   "id": "72ba6846",
   "metadata": {},
   "source": [
    "$TPR = \\frac{TP}{FN+TP}$\n",
    "\n",
    "\n",
    "-> TPR(True Positive Rate) = 민감도 = 재현율 ==> ROC곡선의 Y축"
   ]
  },
  {
   "cell_type": "markdown",
   "id": "22f12192",
   "metadata": {},
   "source": [
    "$TNR = \\frac{TN}{FP+TN}$\n",
    "\n",
    "\n",
    "-> TNR(True Negative Rate) = 특이성. 민감도에 대응하는 지표"
   ]
  },
  {
   "cell_type": "code",
   "execution_count": 77,
   "id": "030a6d38",
   "metadata": {},
   "outputs": [
    {
     "name": "stdout",
     "output_type": "stream",
     "text": [
      "샘플 추출을 위한 임계값 배열의 index: [ 1  6 11 16 21 26 31 36 41 46 51 56 61]\n",
      "샘플 index로 추출한 임계값:  [0.98 0.76 0.71 0.65 0.57 0.53 0.36 0.27 0.19 0.13 0.11 0.1  0.08]\n",
      "샘플 임계값별 FPR:  [0.   0.02 0.04 0.07 0.11 0.14 0.2  0.25 0.29 0.54 0.58 0.67 0.8 ]\n",
      "샘플 임계값별 TPR:  [0.013 0.278 0.392 0.506 0.595 0.633 0.734 0.785 0.835 0.848 0.911 0.949\n",
      " 0.987]\n"
     ]
    }
   ],
   "source": [
    "from sklearn.metrics import roc_curve\n",
    "\n",
    "# 레이블 값이 1일때의 예측 확률을 추출\n",
    "pred_proba_class1 = lr_clf.predict_proba(X_test)[:,1]\n",
    "\n",
    "fprs, tprs, thresholds = roc_curve(y_test, pred_proba_class1)\n",
    "# 반환된 임계값 배열에서 샘플로 데이터를 추출하되, 임계값을 5 step으로 추출\n",
    "# thresholds[0]은 max(예측확률)+1 로 임이 설정됨. 이를 제외하기 위해 np.arange는 1부터 시작\n",
    "thr_index = np.arange(1, thresholds.shape[0], 5)\n",
    "print('샘플 추출을 위한 임계값 배열의 index:', thr_index)\n",
    "print('샘플 index로 추출한 임계값: ', np.round(thresholds[thr_index], 2))\n",
    "\n",
    "# 5step 단위로 추출된 임계값에 따른 FPR, TPR 값\n",
    "print('샘플 임계값별 FPR: ', np.round(fprs[thr_index], 3))\n",
    "print('샘플 임계값별 TPR: ', np.round(tprs[thr_index], 3))"
   ]
  },
  {
   "cell_type": "code",
   "execution_count": 80,
   "id": "98fcb4d2",
   "metadata": {},
   "outputs": [
    {
     "data": {
      "image/png": "[encoded data removed]",
      "text/plain": [
       "<Figure size 432x288 with 1 Axes>"
      ]
     },
     "metadata": {
      "needs_background": "light"
     },
     "output_type": "display_data"
    }
   ],
   "source": [
    "def roc_curve_plot(y_test, pred_proba_c1):\n",
    "    # 임계값에 따른 RPF, TPR 값을 반환받음\n",
    "    fprs, tprs, thresholds = roc_curve(y_test, pred_proba_c1)\n",
    "    # ROC 곡선을 그래프 곡선으로 그림\n",
    "    plt.plot(fprs, tprs, label='ROC')\n",
    "    # 가운데 대각선 직선을 그림\n",
    "    plt.plot([0,1], [0,1], 'k--', label='Random')\n",
    "    \n",
    "    # FPR X축의 scale을 0.1단위로 변경. X,Y축 명 설정 등\n",
    "    start, end = plt.xlim()\n",
    "    plt.xticks(np.round(np.arange(start, end, 0.1), 2))\n",
    "    plt.xlim(0,1); plt.ylim(0,1)\n",
    "    plt.xlabel('FPR(1-Sensitivity)'); plt.ylabel('TPR(Recall)')\n",
    "    plt.legend()\n",
    "    \n",
    "roc_curve_plot(y_test, pred_proba[:,1])"
   ]
  },
  {
   "cell_type": "markdown",
   "id": "115d4494",
   "metadata": {},
   "source": [
    "2. AUC(Area Under Curve): ROC 곡선 밑의 면적. 1에 가까울수록 좋은 것\n",
    "        \n",
    "        -> AUC 커지려면: FPR이 작은 상태에서 얼마나 큰 TPR을 얻을 수 있느냐가 관건\n",
    "        = 가운데 직선에서 멀어지고 왼쪽 상단 모서리 쪽으로 가파르게 곡선이 이동할수록 직사각형에 가까워져 면적 커짐 \n",
    "        - 가운데 대각선 직선의 AUC는 0.5. 따라서 보통의 분류는 0.5 이상의 AUC 값을 가짐"
   ]
  },
  {
   "cell_type": "markdown",
   "id": "9dcbbe48",
   "metadata": {},
   "source": [
    "*타이타닉 생존자 예측 로지스틱 회귀 모델의 ROC AUC값*"
   ]
  },
  {
   "cell_type": "code",
   "execution_count": 81,
   "id": "b249b41f",
   "metadata": {},
   "outputs": [
    {
     "name": "stdout",
     "output_type": "stream",
     "text": [
      "ROC AUC 값: 0.8252\n"
     ]
    }
   ],
   "source": [
    "from sklearn.metrics import roc_auc_score\n",
    "\n",
    "pred_proba = lr_clf.predict_proba(X_test)[:,1]\n",
    "roc_score = roc_auc_score(y_test, pred_proba)\n",
    "print('ROC AUC 값: {0:.4f}'.format(roc_score))"
   ]
  },
  {
   "cell_type": "code",
   "execution_count": 107,
   "id": "61b657aa",
   "metadata": {},
   "outputs": [],
   "source": [
    "def get_clf_eval2(y_test, pred=None, pred_proba=None):\n",
    "    confusion = confusion_matrix(y_test, pred)\n",
    "    accuracy = accuracy_score(y_test, pred)\n",
    "    precision = precision_score(y_test, pred)\n",
    "    recall = recall_score(y_test, pred)\n",
    "    f1 = f1_score(y_test, pred)\n",
    "    \n",
    "    # ROC-AUC 추가\n",
    "    roc_auc = roc_auc_score(y_test, pred_proba)\n",
    "    print('오차행렬')\n",
    "    print(confusion)\n",
    "    \n",
    "    # ROC-AUC print 추가\n",
    "    print('정확도: {0:.4f}, 정밀도: {1:4f}, 재현율: {2:4f},\\\n",
    "    F1: {3:.4f}, AUC: {4:.4f}'.format(accuracy, precision, recall, f1, roc_auc))"
   ]
  },
  {
   "cell_type": "markdown",
   "id": "d37152da",
   "metadata": {},
   "source": [
    "### 06. 피마 인디언 당뇨병 예측\n",
    "- 북아메리카 피마 지역 원주민의 Type-2 당뇨병 결과 데이터\n",
    "- diabetes.csv"
   ]
  },
  {
   "cell_type": "code",
   "execution_count": 104,
   "id": "eeed9fd8",
   "metadata": {
    "scrolled": false
   },
   "outputs": [
    {
     "name": "stdout",
     "output_type": "stream",
     "text": [
      "0    500\n",
      "1    268\n",
      "Name: Outcome, dtype: int64\n",
      "-------------------------------------------\n",
      "<class 'pandas.core.frame.DataFrame'>\n",
      "RangeIndex: 768 entries, 0 to 767\n",
      "Data columns (total 9 columns):\n",
      " #   Column                    Non-Null Count  Dtype  \n",
      "---  ------                    --------------  -----  \n",
      " 0   Pregnancies               768 non-null    int64  \n",
      " 1   Glucose                   768 non-null    int64  \n",
      " 2   BloodPressure             768 non-null    int64  \n",
      " 3   SkinThickness             768 non-null    int64  \n",
      " 4   Insulin                   768 non-null    int64  \n",
      " 5   BMI                       768 non-null    float64\n",
      " 6   DiabetesPedigreeFunction  768 non-null    float64\n",
      " 7   Age                       768 non-null    int64  \n",
      " 8   Outcome                   768 non-null    int64  \n",
      "dtypes: float64(2), int64(7)\n",
      "memory usage: 54.1 KB\n",
      "-------------------------------------------\n"
     ]
    },
    {
     "data": {
      "text/html": [
       "<div>\n",
       "<style scoped>\n",
       "    .dataframe tbody tr th:only-of-type {\n",
       "        vertical-align: middle;\n",
       "    }\n",
       "\n",
       "    .dataframe tbody tr th {\n",
       "        vertical-align: top;\n",
       "    }\n",
       "\n",
       "    .dataframe thead th {\n",
       "        text-align: right;\n",
       "    }\n",
       "</style>\n",
       "<table border=\"1\" class=\"dataframe\">\n",
       "  <thead>\n",
       "    <tr style=\"text-align: right;\">\n",
       "      <th></th>\n",
       "      <th>Pregnancies</th>\n",
       "      <th>Glucose</th>\n",
       "      <th>BloodPressure</th>\n",
       "      <th>SkinThickness</th>\n",
       "      <th>Insulin</th>\n",
       "      <th>BMI</th>\n",
       "      <th>DiabetesPedigreeFunction</th>\n",
       "      <th>Age</th>\n",
       "      <th>Outcome</th>\n",
       "    </tr>\n",
       "  </thead>\n",
       "  <tbody>\n",
       "    <tr>\n",
       "      <th>0</th>\n",
       "      <td>6</td>\n",
       "      <td>148</td>\n",
       "      <td>72</td>\n",
       "      <td>35</td>\n",
       "      <td>0</td>\n",
       "      <td>33.6</td>\n",
       "      <td>0.627</td>\n",
       "      <td>50</td>\n",
       "      <td>1</td>\n",
       "    </tr>\n",
       "    <tr>\n",
       "      <th>1</th>\n",
       "      <td>1</td>\n",
       "      <td>85</td>\n",
       "      <td>66</td>\n",
       "      <td>29</td>\n",
       "      <td>0</td>\n",
       "      <td>26.6</td>\n",
       "      <td>0.351</td>\n",
       "      <td>31</td>\n",
       "      <td>0</td>\n",
       "    </tr>\n",
       "    <tr>\n",
       "      <th>2</th>\n",
       "      <td>8</td>\n",
       "      <td>183</td>\n",
       "      <td>64</td>\n",
       "      <td>0</td>\n",
       "      <td>0</td>\n",
       "      <td>23.3</td>\n",
       "      <td>0.672</td>\n",
       "      <td>32</td>\n",
       "      <td>1</td>\n",
       "    </tr>\n",
       "    <tr>\n",
       "      <th>3</th>\n",
       "      <td>1</td>\n",
       "      <td>89</td>\n",
       "      <td>66</td>\n",
       "      <td>23</td>\n",
       "      <td>94</td>\n",
       "      <td>28.1</td>\n",
       "      <td>0.167</td>\n",
       "      <td>21</td>\n",
       "      <td>0</td>\n",
       "    </tr>\n",
       "    <tr>\n",
       "      <th>4</th>\n",
       "      <td>0</td>\n",
       "      <td>137</td>\n",
       "      <td>40</td>\n",
       "      <td>35</td>\n",
       "      <td>168</td>\n",
       "      <td>43.1</td>\n",
       "      <td>2.288</td>\n",
       "      <td>33</td>\n",
       "      <td>1</td>\n",
       "    </tr>\n",
       "  </tbody>\n",
       "</table>\n",
       "</div>"
      ],
      "text/plain": [
       "   Pregnancies  Glucose  BloodPressure  SkinThickness  Insulin   BMI  \\\n",
       "0            6      148             72             35        0  33.6   \n",
       "1            1       85             66             29        0  26.6   \n",
       "2            8      183             64              0        0  23.3   \n",
       "3            1       89             66             23       94  28.1   \n",
       "4            0      137             40             35      168  43.1   \n",
       "\n",
       "   DiabetesPedigreeFunction  Age  Outcome  \n",
       "0                     0.627   50        1  \n",
       "1                     0.351   31        0  \n",
       "2                     0.672   32        1  \n",
       "3                     0.167   21        0  \n",
       "4                     2.288   33        1  "
      ]
     },
     "execution_count": 104,
     "metadata": {},
     "output_type": "execute_result"
    }
   ],
   "source": [
    "import pandas as pd\n",
    "diabetes_data = pd.read_csv('diabetes.csv')\n",
    "print(diabetes_data['Outcome'].value_counts())\n",
    "print('-------------------------------------------')\n",
    "diabetes_data.info()\n",
    "print('-------------------------------------------')\n",
    "diabetes_data.head(5)"
   ]
  },
  {
   "cell_type": "markdown",
   "id": "5891d051",
   "metadata": {},
   "source": [
    "*diabetes_data.info()결과 분석*\n",
    "- Null값 없으며 피처 타입 모두 숫자형 -> 별도의 피처 인코딩 필요없음"
   ]
  },
  {
   "cell_type": "code",
   "execution_count": 108,
   "id": "f748c77d",
   "metadata": {},
   "outputs": [
    {
     "name": "stdout",
     "output_type": "stream",
     "text": [
      "오차행렬\n",
      "[[88 12]\n",
      " [23 31]]\n",
      "정확도: 0.7727, 정밀도: 0.720930, 재현율: 0.574074,    F1: 0.6392, AUC: 0.7919\n"
     ]
    },
    {
     "name": "stderr",
     "output_type": "stream",
     "text": [
      "C:\\Users\\USER\\anaconda3\\lib\\site-packages\\sklearn\\linear_model\\_logistic.py:763: ConvergenceWarning: lbfgs failed to converge (status=1):\n",
      "STOP: TOTAL NO. of ITERATIONS REACHED LIMIT.\n",
      "\n",
      "Increase the number of iterations (max_iter) or scale the data as shown in:\n",
      "    https://scikit-learn.org/stable/modules/preprocessing.html\n",
      "Please also refer to the documentation for alternative solver options:\n",
      "    https://scikit-learn.org/stable/modules/linear_model.html#logistic-regression\n",
      "  n_iter_i = _check_optimize_result(\n"
     ]
    }
   ],
   "source": [
    "import numpy as np\n",
    "import matplotlib.pyplot as plt\n",
    "%matplotlib inline\n",
    "\n",
    "from sklearn.model_selection import train_test_split\n",
    "from sklearn.metrics import accuracy_score, precision_score, recall_score, roc_auc_score\n",
    "from sklearn.metrics import f1_score, confusion_matrix, precision_recall_curve, roc_curve\n",
    "from sklearn.preprocessing import StandardScaler\n",
    "from sklearn.linear_model import LogisticRegression\n",
    "\n",
    "# 피처 데이터 세트X, 레이블 데이터 세트 y 추출\n",
    "# 맨 끝이 outcome 칼럼으로 레이블 값임. 칼럼 위치 -1을 이용해 추출\n",
    "X = diabetes_data.iloc[:, :-1]\n",
    "y = diabetes_data.iloc[:, -1]\n",
    "\n",
    "X_train, X_test, y_train, y_test = train_test_split(X, y, test_size=0.2, random_state=156, stratify=y)\n",
    "\n",
    "# 로지스틱 회귀로 학습, 예측 및 평가 수행\n",
    "lr_clf = LogisticRegression()\n",
    "lr_clf.fit(X_train, y_train)\n",
    "pred = lr_clf.predict(X_test)\n",
    "pred_proba = lr_clf.predict_proba(X_test)[:,1]\n",
    "\n",
    "get_clf_eval2(y_test, pred, pred_proba)"
   ]
  },
  {
   "cell_type": "markdown",
   "id": "01ab2c8f",
   "metadata": {},
   "source": [
    "*재현율이 낮으므로 조정 필요 -> 정밀도 재현율 곡선*"
   ]
  },
  {
   "cell_type": "code",
   "execution_count": 109,
   "id": "3b4c25f6",
   "metadata": {},
   "outputs": [
    {
     "data": {
      "image/png": "[encoded data removed]",
      "text/plain": [
       "<Figure size 576x432 with 1 Axes>"
      ]
     },
     "metadata": {
      "needs_background": "light"
     },
     "output_type": "display_data"
    }
   ],
   "source": [
    "pred_proba_c1 = lr_clf.predict_proba(X_test)[:,1]\n",
    "precision_recall_curve_plot(y_test, pred_proba_c1)"
   ]
  },
  {
   "cell_type": "markdown",
   "id": "f8bd96bc",
   "metadata": {},
   "source": [
    "*임계값 0.42정도에서 정밀도와 재현율 어느정도 균형 맞는 것 확인*\n",
    "*but, 두 개 지표 모두 0.7이 안됨*"
   ]
  },
  {
   "cell_type": "code",
   "execution_count": 98,
   "id": "63153ec0",
   "metadata": {},
   "outputs": [
    {
     "data": {
      "text/html": [
       "<div>\n",
       "<style scoped>\n",
       "    .dataframe tbody tr th:only-of-type {\n",
       "        vertical-align: middle;\n",
       "    }\n",
       "\n",
       "    .dataframe tbody tr th {\n",
       "        vertical-align: top;\n",
       "    }\n",
       "\n",
       "    .dataframe thead th {\n",
       "        text-align: right;\n",
       "    }\n",
       "</style>\n",
       "<table border=\"1\" class=\"dataframe\">\n",
       "  <thead>\n",
       "    <tr style=\"text-align: right;\">\n",
       "      <th></th>\n",
       "      <th>Pregnancies</th>\n",
       "      <th>Glucose</th>\n",
       "      <th>BloodPressure</th>\n",
       "      <th>SkinThickness</th>\n",
       "      <th>Insulin</th>\n",
       "      <th>BMI</th>\n",
       "      <th>DiabetesPedigreeFunction</th>\n",
       "      <th>Age</th>\n",
       "      <th>Outcome</th>\n",
       "    </tr>\n",
       "  </thead>\n",
       "  <tbody>\n",
       "    <tr>\n",
       "      <th>count</th>\n",
       "      <td>768.000000</td>\n",
       "      <td>768.000000</td>\n",
       "      <td>768.000000</td>\n",
       "      <td>768.000000</td>\n",
       "      <td>768.000000</td>\n",
       "      <td>768.000000</td>\n",
       "      <td>768.000000</td>\n",
       "      <td>768.000000</td>\n",
       "      <td>768.000000</td>\n",
       "    </tr>\n",
       "    <tr>\n",
       "      <th>mean</th>\n",
       "      <td>3.845052</td>\n",
       "      <td>120.894531</td>\n",
       "      <td>69.105469</td>\n",
       "      <td>20.536458</td>\n",
       "      <td>79.799479</td>\n",
       "      <td>31.992578</td>\n",
       "      <td>0.471876</td>\n",
       "      <td>33.240885</td>\n",
       "      <td>0.348958</td>\n",
       "    </tr>\n",
       "    <tr>\n",
       "      <th>std</th>\n",
       "      <td>3.369578</td>\n",
       "      <td>31.972618</td>\n",
       "      <td>19.355807</td>\n",
       "      <td>15.952218</td>\n",
       "      <td>115.244002</td>\n",
       "      <td>7.884160</td>\n",
       "      <td>0.331329</td>\n",
       "      <td>11.760232</td>\n",
       "      <td>0.476951</td>\n",
       "    </tr>\n",
       "    <tr>\n",
       "      <th>min</th>\n",
       "      <td>0.000000</td>\n",
       "      <td>0.000000</td>\n",
       "      <td>0.000000</td>\n",
       "      <td>0.000000</td>\n",
       "      <td>0.000000</td>\n",
       "      <td>0.000000</td>\n",
       "      <td>0.078000</td>\n",
       "      <td>21.000000</td>\n",
       "      <td>0.000000</td>\n",
       "    </tr>\n",
       "    <tr>\n",
       "      <th>25%</th>\n",
       "      <td>1.000000</td>\n",
       "      <td>99.000000</td>\n",
       "      <td>62.000000</td>\n",
       "      <td>0.000000</td>\n",
       "      <td>0.000000</td>\n",
       "      <td>27.300000</td>\n",
       "      <td>0.243750</td>\n",
       "      <td>24.000000</td>\n",
       "      <td>0.000000</td>\n",
       "    </tr>\n",
       "    <tr>\n",
       "      <th>50%</th>\n",
       "      <td>3.000000</td>\n",
       "      <td>117.000000</td>\n",
       "      <td>72.000000</td>\n",
       "      <td>23.000000</td>\n",
       "      <td>30.500000</td>\n",
       "      <td>32.000000</td>\n",
       "      <td>0.372500</td>\n",
       "      <td>29.000000</td>\n",
       "      <td>0.000000</td>\n",
       "    </tr>\n",
       "    <tr>\n",
       "      <th>75%</th>\n",
       "      <td>6.000000</td>\n",
       "      <td>140.250000</td>\n",
       "      <td>80.000000</td>\n",
       "      <td>32.000000</td>\n",
       "      <td>127.250000</td>\n",
       "      <td>36.600000</td>\n",
       "      <td>0.626250</td>\n",
       "      <td>41.000000</td>\n",
       "      <td>1.000000</td>\n",
       "    </tr>\n",
       "    <tr>\n",
       "      <th>max</th>\n",
       "      <td>17.000000</td>\n",
       "      <td>199.000000</td>\n",
       "      <td>122.000000</td>\n",
       "      <td>99.000000</td>\n",
       "      <td>846.000000</td>\n",
       "      <td>67.100000</td>\n",
       "      <td>2.420000</td>\n",
       "      <td>81.000000</td>\n",
       "      <td>1.000000</td>\n",
       "    </tr>\n",
       "  </tbody>\n",
       "</table>\n",
       "</div>"
      ],
      "text/plain": [
       "       Pregnancies     Glucose  BloodPressure  SkinThickness     Insulin  \\\n",
       "count   768.000000  768.000000     768.000000     768.000000  768.000000   \n",
       "mean      3.845052  120.894531      69.105469      20.536458   79.799479   \n",
       "std       3.369578   31.972618      19.355807      15.952218  115.244002   \n",
       "min       0.000000    0.000000       0.000000       0.000000    0.000000   \n",
       "25%       1.000000   99.000000      62.000000       0.000000    0.000000   \n",
       "50%       3.000000  117.000000      72.000000      23.000000   30.500000   \n",
       "75%       6.000000  140.250000      80.000000      32.000000  127.250000   \n",
       "max      17.000000  199.000000     122.000000      99.000000  846.000000   \n",
       "\n",
       "              BMI  DiabetesPedigreeFunction         Age     Outcome  \n",
       "count  768.000000                768.000000  768.000000  768.000000  \n",
       "mean    31.992578                  0.471876   33.240885    0.348958  \n",
       "std      7.884160                  0.331329   11.760232    0.476951  \n",
       "min      0.000000                  0.078000   21.000000    0.000000  \n",
       "25%     27.300000                  0.243750   24.000000    0.000000  \n",
       "50%     32.000000                  0.372500   29.000000    0.000000  \n",
       "75%     36.600000                  0.626250   41.000000    1.000000  \n",
       "max     67.100000                  2.420000   81.000000    1.000000  "
      ]
     },
     "execution_count": 98,
     "metadata": {},
     "output_type": "execute_result"
    }
   ],
   "source": [
    "diabetes_data.describe()"
   ]
  },
  {
   "cell_type": "markdown",
   "id": "6c718530",
   "metadata": {},
   "source": [
    "*min값이 0인 피처 확인 -> 특히 Glucose는 포도당 수치인데 0값인건 말이 안됨*"
   ]
  },
  {
   "cell_type": "code",
   "execution_count": 111,
   "id": "6ff11a69",
   "metadata": {},
   "outputs": [
    {
     "name": "stdout",
     "output_type": "stream",
     "text": [
      "Glucose 0 건수는 5, 퍼센트는 0.65%\n",
      "BloodPressure 0 건수는 35, 퍼센트는 4.56%\n",
      "SkinThickness 0 건수는 227, 퍼센트는 29.56%\n",
      "Insulin 0 건수는 374, 퍼센트는 48.70%\n",
      "BMI 0 건수는 11, 퍼센트는 1.43%\n"
     ]
    }
   ],
   "source": [
    "# 0값을 검사할 피처 명 리스트\n",
    "zero_features = ['Glucose', 'BloodPressure', 'SkinThickness', 'Insulin', 'BMI']\n",
    "\n",
    "# 전체 데이터 건수\n",
    "total_count = diabetes_data['Glucose'].count()\n",
    "\n",
    "# 피처별로 반복하면서 데이터 값이 0인 데이터 건수 추출하고, 퍼센트 계산\n",
    "for feature in zero_features:\n",
    "    zero_count = diabetes_data[diabetes_data[feature]==0][feature].count()\n",
    "    print('{0} 0 건수는 {1}, 퍼센트는 {2:.2f}%'.format(feature, zero_count, 100*zero_count/total_count))"
   ]
  },
  {
   "cell_type": "markdown",
   "id": "5a9135ac",
   "metadata": {},
   "source": [
    "*많은 값이 0인 것을 확인할 수 있음 -> 데이터를 아예 삭제하면 학습을 효과적으로 수행하기 어려우므로 0값을 평균값으로 대체*"
   ]
  },
  {
   "cell_type": "code",
   "execution_count": 112,
   "id": "26f94de3",
   "metadata": {},
   "outputs": [],
   "source": [
    "mean_zero_features = diabetes_data[zero_features].mean()\n",
    "diabetes_data[zero_features]=diabetes_data[zero_features].replace(0, mean_zero_features)"
   ]
  },
  {
   "cell_type": "code",
   "execution_count": 113,
   "id": "6851e3c2",
   "metadata": {},
   "outputs": [
    {
     "name": "stdout",
     "output_type": "stream",
     "text": [
      "오차행렬\n",
      "[[89 11]\n",
      " [20 34]]\n",
      "정확도: 0.7987, 정밀도: 0.755556, 재현율: 0.629630,    F1: 0.6869, AUC: 0.8443\n"
     ]
    },
    {
     "name": "stderr",
     "output_type": "stream",
     "text": [
      "C:\\Users\\USER\\anaconda3\\lib\\site-packages\\sklearn\\linear_model\\_logistic.py:763: ConvergenceWarning: lbfgs failed to converge (status=1):\n",
      "STOP: TOTAL NO. of ITERATIONS REACHED LIMIT.\n",
      "\n",
      "Increase the number of iterations (max_iter) or scale the data as shown in:\n",
      "    https://scikit-learn.org/stable/modules/preprocessing.html\n",
      "Please also refer to the documentation for alternative solver options:\n",
      "    https://scikit-learn.org/stable/modules/linear_model.html#logistic-regression\n",
      "  n_iter_i = _check_optimize_result(\n"
     ]
    }
   ],
   "source": [
    "X = diabetes_data.iloc[:, :-1]\n",
    "y = diabetes_data.iloc[:, -1]\n",
    "\n",
    "# StandardScaler 클래스를 이용해 피처 데이터 세트에 일괄적으로 스케일링 적용\n",
    "scaler = StandardScaler()\n",
    "X_scaled = scaler.fit_transform(X)\n",
    "\n",
    "X_train, X_test, y_train, y_test = train_test_split(X, y, test_size=0.2, random_state=156, stratify=y)\n",
    "\n",
    "# 로지스틱 회귀로 학습, 예측 및 평가 수행\n",
    "lr_clf = LogisticRegression()\n",
    "lr_clf.fit(X_train, y_train)\n",
    "pred = lr_clf.predict(X_test)\n",
    "pred_proba = lr_clf.predict_proba(X_test)[:,1]\n",
    "\n",
    "get_clf_eval2(y_test, pred, pred_proba)"
   ]
  },
  {
   "cell_type": "markdown",
   "id": "52c52c67",
   "metadata": {},
   "source": [
    "*어느정도 개선된 것 확인 but 여전히 재현율 수치 떨어져 개선 필요 -> 임계값 비교*"
   ]
  },
  {
   "cell_type": "code",
   "execution_count": 116,
   "id": "251fc600",
   "metadata": {},
   "outputs": [
    {
     "name": "stdout",
     "output_type": "stream",
     "text": [
      "--------------------------\n",
      "임곗값: 0.3\n",
      "오차행렬\n",
      "[[68 32]\n",
      " [10 44]]\n",
      "정확도: 0.7273, 정밀도: 0.5789, 재현율: 0.8148, F1: 0.6769\n",
      "--------------------------\n",
      "임곗값: 0.33\n",
      "오차행렬\n",
      "[[72 28]\n",
      " [13 41]]\n",
      "정확도: 0.7338, 정밀도: 0.5942, 재현율: 0.7593, F1: 0.6667\n",
      "--------------------------\n",
      "임곗값: 0.36\n",
      "오차행렬\n",
      "[[75 25]\n",
      " [15 39]]\n",
      "정확도: 0.7403, 정밀도: 0.6094, 재현율: 0.7222, F1: 0.6610\n",
      "--------------------------\n",
      "임곗값: 0.39\n",
      "오차행렬\n",
      "[[79 21]\n",
      " [16 38]]\n",
      "정확도: 0.7597, 정밀도: 0.6441, 재현율: 0.7037, F1: 0.6726\n",
      "--------------------------\n",
      "임곗값: 0.42\n",
      "오차행렬\n",
      "[[81 19]\n",
      " [16 38]]\n",
      "정확도: 0.7727, 정밀도: 0.6667, 재현율: 0.7037, F1: 0.6847\n",
      "--------------------------\n",
      "임곗값: 0.45\n",
      "오차행렬\n",
      "[[84 16]\n",
      " [18 36]]\n",
      "정확도: 0.7792, 정밀도: 0.6923, 재현율: 0.6667, F1: 0.6792\n",
      "--------------------------\n",
      "임곗값: 0.48\n",
      "오차행렬\n",
      "[[87 13]\n",
      " [19 35]]\n",
      "정확도: 0.7922, 정밀도: 0.7292, 재현율: 0.6481, F1: 0.6863\n",
      "--------------------------\n",
      "임곗값: 0.5\n",
      "오차행렬\n",
      "[[89 11]\n",
      " [20 34]]\n",
      "정확도: 0.7987, 정밀도: 0.7556, 재현율: 0.6296, F1: 0.6869\n",
      "--------------------------\n",
      "임곗값: 0.52\n",
      "오차행렬\n",
      "[[90 10]\n",
      " [22 32]]\n",
      "정확도: 0.7922, 정밀도: 0.7619, 재현율: 0.5926, F1: 0.6667\n"
     ]
    }
   ],
   "source": [
    "thresholds = [0.3, 0.33, 0.36, 0.39, 0.42, 0.45, 0.48, 0.50, 0.52]\n",
    "pred_proba = lr_clf.predict_proba(X_test)\n",
    "get_eval_by_threshold(y_test, pred_proba[:,1].reshape(-1,1), thresholds)"
   ]
  },
  {
   "cell_type": "code",
   "execution_count": 117,
   "id": "4354ef20",
   "metadata": {},
   "outputs": [
    {
     "name": "stdout",
     "output_type": "stream",
     "text": [
      "오차행렬\n",
      "[[89 11]\n",
      " [20 34]]\n",
      "정확도: 0.7987, 정밀도: 0.755556, 재현율: 0.629630,    F1: 0.6869, AUC: 0.8443\n"
     ]
    }
   ],
   "source": [
    "# 임계값 0.5로 설정한 Binarizer 생성\n",
    "binarizer = Binarizer(threshold=0.5)\n",
    "\n",
    "# 위에서 구한 lr_clf의 predict_proba() 예측 확률array에서 1에 해당하는 칼럼값을 Binarizer 변환\n",
    "pred_th_05 = binarizer.fit_transform(pred_proba[:,1].reshape(-1,1))\n",
    "\n",
    "get_clf_eval2(y_test, pred_th_05, pred_proba[:,1])"
   ]
  },
  {
   "cell_type": "markdown",
   "id": "58193283",
   "metadata": {},
   "source": [
    "### 07. 정리"
   ]
  },
  {
   "cell_type": "markdown",
   "id": "57be6443",
   "metadata": {},
   "source": [
    "- 분류의 성능 평가 지표: 정확도, 오차행렬, 정밀도, 재현률, F1 스코어, ROC-AUC\n",
    "- 이진 분류의 레이블 값이 불균형하게 분포될경우 단순하게 예측해도 정확도 높게 나오는 문제O -> 정확도만으로는 부족\n",
    "- **오차행렬**: TN, FP, FN, TP 로 매핑되는 4분면 행렬을 기반으로 예측 성능 평가\n",
    "- **정밀도**, **재현률**: 데이터 세트의 예측 성능에 좀 더 초점을 맞춘 평가 지표\n",
    "     - 재현율 중요: 암 양성 예측 모델 등의 Positive 데이터를 Negative로 잘못 판단하면 문제 큰 경우\n",
    "- **F1 스코어**: 정밀도와 재현율을 결합한 평가 지표. 정밀도와 재현율이 어느 한쪽으로 치우치지 않을 때 높은 지표값\n",
    "- ROC-AUC: 이진 분류의 성능 평가를 위해 가장 많이 사용되는 지표\n",
    "     - AUC: ROC곡선 밑의 면적을 구한 것으로 일반적으로 1에 가까울수록 좋은 수치"
   ]
  },
  {
   "cell_type": "code",
   "execution_count": null,
   "id": "ff8d28db",
   "metadata": {},
   "outputs": [],
   "source": []
  }
 ],
 "metadata": {
  "kernelspec": {
   "display_name": "Python 3",
   "language": "python",
   "name": "python3"
  },
  "language_info": {
   "codemirror_mode": {
    "name": "ipython",
    "version": 3
   },
   "file_extension": ".py",
   "mimetype": "text/x-python",
   "name": "python",
   "nbconvert_exporter": "python",
   "pygments_lexer": "ipython3",
   "version": "3.8.8"
  }
 },
 "nbformat": 4,
 "nbformat_minor": 5
}
