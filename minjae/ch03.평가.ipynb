{
 "cells": [
  {
   "cell_type": "markdown",
   "id": "eafbf38d",
   "metadata": {},
   "source": [
    "## ch03. 평가"
   ]
  },
  {
   "cell_type": "markdown",
   "id": "98508156",
   "metadata": {},
   "source": [
    "#### - 분류의 성능 평가 지표 : 정확도, 오차행렬, 정밀도, 재현율, F1 스코어, ROC AUC"
   ]
  },
  {
   "cell_type": "markdown",
   "id": "b4630376",
   "metadata": {},
   "source": [
    "### 01. 정확도"
   ]
  },
  {
   "cell_type": "markdown",
   "id": "4dd53a40",
   "metadata": {},
   "source": [
    "#### : 실제 데이터에서 예측 데이터가 얼마나 같은지 판단하는 지표"
   ]
  },
  {
   "cell_type": "code",
   "execution_count": 1,
   "id": "3614576d",
   "metadata": {},
   "outputs": [],
   "source": [
    "# 라이브러리 로드\n",
    "from sklearn.base import BaseEstimator\n",
    "import pandas as pd\n",
    "import numpy as np\n",
    "from sklearn.preprocessing import LabelEncoder\n",
    "from sklearn.model_selection import train_test_split\n",
    "from sklearn.metrics import accuracy_score"
   ]
  },
  {
   "cell_type": "code",
   "execution_count": 2,
   "id": "5fd97b82",
   "metadata": {},
   "outputs": [],
   "source": [
    "# 전처리 함수 정의\n",
    "from sklearn.preprocessing import LabelEncoder\n",
    "\n",
    "# Null 처리 함수\n",
    "def fillna(df):\n",
    "    df['Age'].fillna(df['Age'].mean(),inplace=True)\n",
    "    df['Cabin'].fillna('N',inplace=True)\n",
    "    df['Embarked'].fillna('N',inplace=True)\n",
    "    df['Fare'].fillna(0,inplace=True)\n",
    "    return df\n",
    "\n",
    "# 불필요한 속성 제거 함수\n",
    "def drop_features(df):\n",
    "    df.drop(['PassengerId','Name','Ticket'],axis=1,inplace=True)\n",
    "    return df\n",
    "\n",
    "# 레이블 인코딩\n",
    "def format_features(df):\n",
    "    df['Cabin']=df['Cabin'].str[:1] # Carbin값의 첫번째 문자만 가져옴\n",
    "    features=['Cabin','Sex','Embarked']\n",
    "    for feature in features:\n",
    "        le=LabelEncoder()\n",
    "        le=le.fit(df[feature])\n",
    "        df[feature]=le.transform(df[feature])\n",
    "    return df\n",
    "\n",
    "# 전처리 함수 호출\n",
    "def transform_features(df):\n",
    "    df=fillna(df)\n",
    "    df=drop_features(df)\n",
    "    df=format_features(df)\n",
    "    return df"
   ]
  },
  {
   "cell_type": "code",
   "execution_count": 3,
   "id": "d76cb824",
   "metadata": {},
   "outputs": [],
   "source": [
    "# 분류 클래스\n",
    "class MyDummyClassifier(BaseEstimator):\n",
    "    # fit 메서드는 아무것도 학습하지 않음\n",
    "    def fit(self,X,y=None):\n",
    "        pass\n",
    "    # sex 피처가 1이면 0, 그렇지 않으면 1로 예측\n",
    "    def predict(self,X):\n",
    "        pred=np.zeros((X.shape[0],1))\n",
    "        for i in range(X.shape[0]):\n",
    "            if X['Sex'].iloc[i] ==1:\n",
    "                pred[i]=0\n",
    "            else:\n",
    "                pred[i]=1\n",
    "\n",
    "        return pred"
   ]
  },
  {
   "cell_type": "code",
   "execution_count": 4,
   "id": "9b540fbd",
   "metadata": {},
   "outputs": [
    {
     "name": "stdout",
     "output_type": "stream",
     "text": [
      "정확도: 0.7765\n"
     ]
    }
   ],
   "source": [
    "# 데이터 로딩, 가공, 테스트/학습 데이터 분리\n",
    "df = pd.read_csv('titanic_train.csv')\n",
    "y_df = df['Survived']\n",
    "X_df = df.drop('Survived',axis=1)\n",
    "X_df = transform_features(X_df)\n",
    "X_train, X_test, y_train, y_test = train_test_split(X_df, y_df, test_size=0.2, random_state=1)\n",
    "\n",
    "# Dummy Classifier 사용하여 학습/예측/평가\n",
    "myclf=MyDummyClassifier()\n",
    "myclf.fit(X_train,y_train)\n",
    "\n",
    "mypredictions = myclf.predict(X_test)\n",
    "print('정확도: {0:.4f}'.format(accuracy_score(y_test,mypredictions)))"
   ]
  },
  {
   "cell_type": "markdown",
   "id": "2b91ff8a",
   "metadata": {},
   "source": [
    "#### => 단순한 알고리즘으로 예측하더라도 정확도가 비교적 높게 측정\n",
    "#### => 정확도를 평가지표로 사용할 때는 매우 신중해야 함."
   ]
  },
  {
   "cell_type": "code",
   "execution_count": 5,
   "id": "395e40d4",
   "metadata": {},
   "outputs": [
    {
     "name": "stdout",
     "output_type": "stream",
     "text": [
      "레이블 테스트 셋 크기: (450,)\n",
      "테스트 셋 레이블 0과 1 분포\n",
      "0    402\n",
      "1     48\n",
      "dtype: int64\n",
      "모든예측을 0으로 하였을 때 정확도 : 0.893\n"
     ]
    }
   ],
   "source": [
    "from sklearn.datasets import load_digits\n",
    "from sklearn.model_selection import train_test_split\n",
    "from sklearn.base import BaseEstimator\n",
    "from sklearn.metrics import accuracy_score\n",
    "\n",
    "class MyFakeClassifier(BaseEstimator):\n",
    "    def fit(self,X,y):\n",
    "        pass\n",
    "    def predict(self,X):\n",
    "        return np.zeros((len(X),1),dtype=bool)\n",
    "    \n",
    "digits = load_digits()\n",
    "\n",
    "y = (digits.target==7).astype(int)\n",
    "X_train, X_test, y_train, y_test = train_test_split(digits.data, y, random_state=1)\n",
    "\n",
    "print('레이블 테스트 셋 크기:',y_test.shape)\n",
    "print('테스트 셋 레이블 0과 1 분포')\n",
    "print(pd.Series(y_test).value_counts())\n",
    "\n",
    "fakeclf = MyFakeClassifier()\n",
    "fakeclf.fit(X_train,y_train)\n",
    "fakepred = fakeclf.predict(X_test)\n",
    "print(\"모든예측을 0으로 하였을 때 정확도 : {0:.3f}\".format(accuracy_score(y_test,fakepred)))\n"
   ]
  },
  {
   "cell_type": "markdown",
   "id": "f90233d2",
   "metadata": {},
   "source": [
    "#### >> 단순히 모두 0 값으로 반환함에도 정확도가 약 90%임\n",
    "#### >>> 정확도 평가 지표는 불균형한 레이블 데이터 세트에서는 성능 수치로 사용되어서는 안됨."
   ]
  },
  {
   "cell_type": "markdown",
   "id": "00c62a02",
   "metadata": {},
   "source": [
    "### 02. 오차행렬"
   ]
  },
  {
   "cell_type": "markdown",
   "id": "604e40e6",
   "metadata": {},
   "source": [
    "#### : 이진 분류의 예측 오류가 얼마인지와 더불어 어떠한 유형의 예측 오류가 발생하고 있는지를 함께 나타내는 지표"
   ]
  },
  {
   "cell_type": "code",
   "execution_count": 12,
   "id": "d42d4750",
   "metadata": {},
   "outputs": [
    {
     "data": {
      "text/plain": [
       "array([[402,   0],\n",
       "       [ 48,   0]], dtype=int64)"
      ]
     },
     "execution_count": 12,
     "metadata": {},
     "output_type": "execute_result"
    }
   ],
   "source": [
    "from sklearn.metrics import confusion_matrix\n",
    "\n",
    "confusion_matrix(y_test, fakepred)"
   ]
  },
  {
   "cell_type": "markdown",
   "id": "f6bf1dc5",
   "metadata": {},
   "source": [
    "![](img/cm.png)"
   ]
  },
  {
   "cell_type": "markdown",
   "id": "0e2ff4d9",
   "metadata": {},
   "source": [
    "#### - TP, TN, FP, FN 값은 Classifier 성능의 여러 면모를 판단할 수 있는 기반 정보 제공\n",
    "#### - 이 값을 조합해 정확도, 정밀도, 재현율 값 알 수 있음"
   ]
  },
  {
   "cell_type": "markdown",
   "id": "ec1a4810",
   "metadata": {},
   "source": [
    "#### 정확도 = 결과와 실제가 동일한 건수 / 전체 데이터 수\n",
    "      = (TN + TP) / (TN + TF + PN + PF)"
   ]
  },
  {
   "cell_type": "markdown",
   "id": "566360bb",
   "metadata": {},
   "source": [
    "### 03. 정밀도와 재현율 "
   ]
  },
  {
   "cell_type": "markdown",
   "id": "bd063453",
   "metadata": {},
   "source": [
    "#### : Positive 데이터 세트의 예특 성능에 좀 더 초점을 맞춘 평가 지표"
   ]
  },
  {
   "cell_type": "markdown",
   "id": "ec9cee60",
   "metadata": {},
   "source": [
    "- 정밀도 : TP / (FP+TP) , \n",
    "    - 예측을 positive로 한 대상 중에 예측과 실제값이 positive로 일치한 데이터의 비율\n",
    "    - Positive 예측 성능을 더욱 정밀하게 측정하기 위한 평가 지표 = 양성 예측도\n",
    "    - **재현율이 중요한 경우** : positive를 negative로 잘못 판단하면 큰 영향이 발생하는 경우\n",
    "    \n",
    "    \n",
    "- 재현율(민감도, TPR) : TP / (FN+TP) \n",
    "    - 실제 값이 positive인 대상 중에 예측과 실제 값이 positive로 일치한 데이터의 비율\n",
    "    - **정밀도가 중요한 경우** : negative를 positive로 잘못 판단하면 큰 영향이 발생하는 경우"
   ]
  },
  {
   "cell_type": "code",
   "execution_count": 11,
   "id": "bf2ed161",
   "metadata": {},
   "outputs": [],
   "source": [
    "from sklearn.metrics import accuracy_score, precision_score, recall_score, confusion_matrix\n",
    "\n",
    "def get_clf_eval(y_test,pred):\n",
    "    confusion = confusion_matrix(y_test,pred)\n",
    "    accuracy = accuracy_score(y_test,pred)\n",
    "    precision = precision_score(y_test,pred)\n",
    "    recall = recall_score(y_test,pred)\n",
    "    # f1 score 추가\n",
    "    f1 = f1_score(y_test,pred)\n",
    "    print('오차행렬')\n",
    "    print(confusion)\n",
    "    print('정확도: {0:.4f}, 정밀도: {0:.4f}, 재현율: {0:.4f}, F1 : {0:.4f}'.format(accuracy,precision,recall,f1))"
   ]
  },
  {
   "cell_type": "code",
   "execution_count": 32,
   "id": "89aa2720",
   "metadata": {
    "scrolled": true
   },
   "outputs": [
    {
     "name": "stdout",
     "output_type": "stream",
     "text": [
      "오차행렬\n",
      "[[104  14]\n",
      " [ 13  48]]\n",
      "정확도: 0.8492, 정밀도: 0.8492, 재현율: 0.8492, F1 : 0.8492\n"
     ]
    },
    {
     "name": "stderr",
     "output_type": "stream",
     "text": [
      "C:\\Users\\qkral\\anaconda3\\lib\\site-packages\\sklearn\\linear_model\\_logistic.py:763: ConvergenceWarning: lbfgs failed to converge (status=1):\n",
      "STOP: TOTAL NO. of ITERATIONS REACHED LIMIT.\n",
      "\n",
      "Increase the number of iterations (max_iter) or scale the data as shown in:\n",
      "    https://scikit-learn.org/stable/modules/preprocessing.html\n",
      "Please also refer to the documentation for alternative solver options:\n",
      "    https://scikit-learn.org/stable/modules/linear_model.html#logistic-regression\n",
      "  n_iter_i = _check_optimize_result(\n"
     ]
    }
   ],
   "source": [
    "import pandas as pd\n",
    "import numpy as np\n",
    "from sklearn.linear_model import LogisticRegression\n",
    "from sklearn.model_selection import train_test_split\n",
    "\n",
    "\n",
    "df = pd.read_csv('titanic_train.csv')\n",
    "y_df = df['Survived']\n",
    "X_df = df.drop('Survived',axis=1)\n",
    "X_df = transform_features(X_df)\n",
    "X_train, X_test, y_train, y_test = train_test_split(X_df, y_df, test_size=0.2, random_state=11)\n",
    "\n",
    "lr_clf = LogisticRegression()\n",
    "\n",
    "lr_clf.fit(X_train,y_train)\n",
    "lr_pred = lr_clf.predict(X_test)\n",
    "get_clf_eval(y_test,lr_pred)"
   ]
  },
  {
   "cell_type": "markdown",
   "id": "1f6944bb",
   "metadata": {},
   "source": [
    "- **정밀도/재현율 트레이드 오프** : 서로 상호보완적인 평가지표이기 때문에 한쪽을 강제로 높이면 다른 하나의 수치는 떨어짐"
   ]
  },
  {
   "cell_type": "code",
   "execution_count": 33,
   "id": "113a8c19",
   "metadata": {},
   "outputs": [
    {
     "name": "stdout",
     "output_type": "stream",
     "text": [
      "pred_proba() 결과 shape : (179, 2)\n",
      "pred_proba array 앞 3개만 추출 : \n",
      " [[0.46161106 0.53838894]\n",
      " [0.87862428 0.12137572]\n",
      " [0.87719471 0.12280529]]\n",
      "두 개의  class 중에서 더 큰 확률을 클래스 값으로 예측 \n",
      " [[0.46161106 0.53838894 1.        ]\n",
      " [0.87862428 0.12137572 0.        ]\n",
      " [0.87719471 0.12280529 0.        ]]\n"
     ]
    }
   ],
   "source": [
    "# pred_proba() : 개별 데이터별로 예측 확률을 반환하는 메서드\n",
    "pred_proba = lr_clf.predict_proba(X_test)\n",
    "pred = lr_clf.predict(X_test)\n",
    "print('pred_proba() 결과 shape : {0}'.format(pred_proba.shape))\n",
    "print('pred_proba array 앞 3개만 추출 : \\n',pred_proba[:3])\n",
    "\n",
    "# 예측 확률 array와 예측 결괏값 array를 병합해 한눈에 확인\n",
    "pred_proba_result = np.concatenate([pred_proba,pred.reshape(-1,1)],axis=1)\n",
    "print('두 개의  class 중에서 더 큰 확률을 클래스 값으로 예측 \\n', pred_proba_result[:3])"
   ]
  },
  {
   "cell_type": "markdown",
   "id": "7ce77e2a",
   "metadata": {},
   "source": [
    "- binarizer : threshold 값보다 크면 1, 작으면 0 반환 => pred()는 Pred_proba() 기반으로 생성된 API"
   ]
  },
  {
   "cell_type": "code",
   "execution_count": 34,
   "id": "dbc1e41c",
   "metadata": {},
   "outputs": [
    {
     "name": "stdout",
     "output_type": "stream",
     "text": [
      "임곗값: 0.4\n",
      "오차행렬\n",
      "[[99 19]\n",
      " [10 51]]\n",
      "정확도: 0.8380, 정밀도: 0.8380, 재현율: 0.8380, F1 : 0.8380\n",
      "임곗값: 0.45\n",
      "오차행렬\n",
      "[[103  15]\n",
      " [ 12  49]]\n",
      "정확도: 0.8492, 정밀도: 0.8492, 재현율: 0.8492, F1 : 0.8492\n",
      "임곗값: 0.5\n",
      "오차행렬\n",
      "[[104  14]\n",
      " [ 13  48]]\n",
      "정확도: 0.8492, 정밀도: 0.8492, 재현율: 0.8492, F1 : 0.8492\n",
      "임곗값: 0.55\n",
      "오차행렬\n",
      "[[109   9]\n",
      " [ 15  46]]\n",
      "정확도: 0.8659, 정밀도: 0.8659, 재현율: 0.8659, F1 : 0.8659\n",
      "임곗값: 0.6\n",
      "오차행렬\n",
      "[[112   6]\n",
      " [ 16  45]]\n",
      "정확도: 0.8771, 정밀도: 0.8771, 재현율: 0.8771, F1 : 0.8771\n"
     ]
    }
   ],
   "source": [
    "from sklearn.preprocessing import Binarizer\n",
    "\n",
    "# 테스트를 수행할 모든 임곗값\n",
    "thresholds = [0.4,0.45,0.5,0.55,0.6]\n",
    "\n",
    "# 임계값에 따른 정확도, 정밀도, 재현율 구하기 위한 함수\n",
    "def get_eval_by_threshold(y_test,pred_proba_c1, thresholds):\n",
    "    for custom_threshold in thresholds:\n",
    "        binarizer = Binarizer(threshold=custom_threshold).fit(pred_proba_c1)\n",
    "        custom_predict = binarizer.transform(pred_proba_c1)\n",
    "        print('임곗값:', custom_threshold)\n",
    "        get_clf_eval(y_test,custom_predict)\n",
    "        \n",
    "get_eval_by_threshold(y_test, pred_proba[:,1].reshape(-1,1),thresholds)"
   ]
  },
  {
   "cell_type": "code",
   "execution_count": 35,
   "id": "f319e64e",
   "metadata": {},
   "outputs": [
    {
     "data": {
      "image/png": "[encoded data removed]",
      "text/plain": [
       "<Figure size 576x432 with 1 Axes>"
      ]
     },
     "metadata": {
      "needs_background": "light"
     },
     "output_type": "display_data"
    }
   ],
   "source": [
    "from sklearn.metrics import precision_recall_curve\n",
    "import matplotlib.pyplot as plt\n",
    "import matplotlib.ticker as ticker\n",
    "%matplotlib inline\n",
    "\n",
    "# precision_recall_curve 사용하여 정확도, 재현율, 정밀도 그래프로 나타내는 함수\n",
    "def precision_recall_curve_plot(y_test,pred_proba_c1):\n",
    "    precisions, recalls, thresholds = precision_recall_curve(y_test, pred_proba_c1)\n",
    "    \n",
    "    plt.figure(figsize=(8,6))\n",
    "    threshold_boundary = thresholds.shape[0]\n",
    "    plt.plot(thresholds, precisions[0:threshold_boundary],linestyle='--',label='precision')\n",
    "    plt.plot(thresholds, recalls[0:threshold_boundary],label='recall')\n",
    "    \n",
    "    start, end = plt.xlim()\n",
    "    plt.xticks(np.round(np.arange(start,end,0.1),2))\n",
    "    \n",
    "    plt.xlabel('Threshold value'); plt.ylabel('Precision and Recall value')\n",
    "    plt.legend(); plt.grid()\n",
    "    plt.show()\n",
    "    \n",
    "precision_recall_curve_plot(y_test,lr_clf.predict_proba(X_test)[:,1])"
   ]
  },
  {
   "cell_type": "markdown",
   "id": "bf38d6a0",
   "metadata": {},
   "source": [
    "- 임곗값이 낮을수록 많은 수의 양성 예측으로 인해 재현값이 극도로 높아짐\n",
    "- 임곗값을 계속 증가시키면 재현율이 낮아지고 정밀도가 높아짐\n",
    "- 두 수치 중 하나만 강조하는 상황이 돼서는 안됨.\n",
    "- 임곗값은 업무 환경에 맞게 **상호 보완할 수 있는 수준에서 적용**되어야 함."
   ]
  },
  {
   "cell_type": "markdown",
   "id": "4cdc6863",
   "metadata": {},
   "source": [
    "### 04. F1 스코어"
   ]
  },
  {
   "cell_type": "markdown",
   "id": "365cee63",
   "metadata": {},
   "source": [
    "#### : 정밀도와 재현율을 결합한 지표\n",
    "- 정밀도와 재현율이 어느 한쪽으로 치우치지 않는 수치를 나타낼 때 상대적으로 높은 값을 가짐."
   ]
  },
  {
   "cell_type": "markdown",
   "id": "d1bee5af",
   "metadata": {},
   "source": [
    "![](img/f1.jpg)"
   ]
  },
  {
   "cell_type": "code",
   "execution_count": 36,
   "id": "f20b9274",
   "metadata": {},
   "outputs": [
    {
     "name": "stdout",
     "output_type": "stream",
     "text": [
      "F1 스코어: 0.7805\n"
     ]
    }
   ],
   "source": [
    "from sklearn.metrics import f1_score\n",
    "\n",
    "f1 = f1_score(y_test,pred)\n",
    "print('F1 스코어: {0:.4f}'.format(f1))"
   ]
  },
  {
   "cell_type": "code",
   "execution_count": 37,
   "id": "e72602fc",
   "metadata": {},
   "outputs": [
    {
     "name": "stdout",
     "output_type": "stream",
     "text": [
      "임곗값: 0.4\n",
      "오차행렬\n",
      "[[99 19]\n",
      " [10 51]]\n",
      "정확도: 0.8380, 정밀도: 0.8380, 재현율: 0.8380, F1 : 0.8380\n",
      "임곗값: 0.45\n",
      "오차행렬\n",
      "[[103  15]\n",
      " [ 12  49]]\n",
      "정확도: 0.8492, 정밀도: 0.8492, 재현율: 0.8492, F1 : 0.8492\n",
      "임곗값: 0.5\n",
      "오차행렬\n",
      "[[104  14]\n",
      " [ 13  48]]\n",
      "정확도: 0.8492, 정밀도: 0.8492, 재현율: 0.8492, F1 : 0.8492\n",
      "임곗값: 0.55\n",
      "오차행렬\n",
      "[[109   9]\n",
      " [ 15  46]]\n",
      "정확도: 0.8659, 정밀도: 0.8659, 재현율: 0.8659, F1 : 0.8659\n",
      "임곗값: 0.6\n",
      "오차행렬\n",
      "[[112   6]\n",
      " [ 16  45]]\n",
      "정확도: 0.8771, 정밀도: 0.8771, 재현율: 0.8771, F1 : 0.8771\n"
     ]
    }
   ],
   "source": [
    "from sklearn.metrics import accuracy_score, precision_score, recall_score, confusion_matrix,f1_score\n",
    "\n",
    "def get_clf_eval(y_test,pred):\n",
    "    confusion = confusion_matrix(y_test,pred)\n",
    "    accuracy = accuracy_score(y_test,pred)\n",
    "    precision = precision_score(y_test,pred)\n",
    "    recall = recall_score(y_test,pred)\n",
    "    # f1 score 추가\n",
    "    f1 = f1_score(y_test,pred)\n",
    "    print('오차행렬')\n",
    "    print(confusion)\n",
    "    print('정확도: {0:.4f}, 정밀도: {0:.4f}, 재현율: {0:.4f}, F1 : {0:.4f}'.format(accuracy,precision,recall,f1))\n",
    "\n",
    "get_eval_by_threshold(y_test, pred_proba[:,1].reshape(-1,1),thresholds)"
   ]
  },
  {
   "cell_type": "markdown",
   "id": "ef12af3f",
   "metadata": {},
   "source": [
    "### ROC 곡선과 AUC"
   ]
  },
  {
   "cell_type": "markdown",
   "id": "adc31607",
   "metadata": {},
   "source": [
    "#### : 수신자 판단 곡선,  이진분류 모델의 예측 성능 판단하는 중요한 평가 지표\n",
    "- ROC 곡선 : FPR(X축)이 변할 때 TPR(Y축)이 어떻게 변하는지 나타내는 곡선\n",
    "    - TPR : 재현율 = 민감도, positive가 정확히 예측되어야 하는 수준\n",
    "    - TNR : 특이성, 민감도에 대응하는 지표, negative가 정확히 예측되어야 하는 수준\n",
    "    - **FPR = FP / (FP+TN) = 1 - TNR**\n",
    "    \n",
    "    \n",
    "- AUC ( Area Under Curve) : ROC 곡선 밑의 면적을 구한 것\n",
    "    - 1에 가까울수록 좋은 수치"
   ]
  },
  {
   "cell_type": "code",
   "execution_count": 38,
   "id": "d670f263",
   "metadata": {},
   "outputs": [
    {
     "name": "stdout",
     "output_type": "stream",
     "text": [
      "임곗값 배열 인덱스 :  [ 1  6 11 16 21 26 31 36 41 46 51]\n",
      "샘플 인덱스로 추출한 임곗값:  [0.97 0.65 0.63 0.56 0.45 0.4  0.35 0.15 0.13 0.11 0.11]\n",
      "FPR :  [0.    0.017 0.034 0.076 0.127 0.169 0.203 0.466 0.585 0.686 0.797]\n",
      "TPR :  [0.033 0.639 0.705 0.754 0.803 0.836 0.885 0.902 0.934 0.967 0.984]\n"
     ]
    }
   ],
   "source": [
    "from sklearn.metrics import roc_curve\n",
    "\n",
    "# 레이블 값이 1일때의 예측 확률\n",
    "pred_proba_class1 = lr_clf.predict_proba(X_test)[:,1]\n",
    "\n",
    "# fpr, tpr, 임계값 구하기\n",
    "fprs, tprs, thresholds = roc_curve(y_test, pred_proba_class1)\n",
    "\n",
    "# 반환된 임곗값 배열에서 샘플로 데이터를 추출하되, 임곗값을 5 단계로 추출\n",
    "# thresholds[0]은 max(예측확률)+1 로 임의 설정됨. 이를 제외하기 위해 1부터 시작\n",
    "thr_idx = np.arange(1, thresholds.shape[0],5)\n",
    "\n",
    "print('임곗값 배열 인덱스 : ', thr_idx)\n",
    "print('샘플 인덱스로 추출한 임곗값: ',np.round(thresholds[thr_idx],2))\n",
    "\n",
    "print('FPR : ',np.round(fprs[thr_idx],3))\n",
    "print('TPR : ',np.round(tprs[thr_idx],3))"
   ]
  },
  {
   "cell_type": "code",
   "execution_count": 39,
   "id": "4ca3cb4f",
   "metadata": {},
   "outputs": [
    {
     "data": {
      "image/png": "[encoded data removed]",
      "text/plain": [
       "<Figure size 432x288 with 1 Axes>"
      ]
     },
     "metadata": {
      "needs_background": "light"
     },
     "output_type": "display_data"
    }
   ],
   "source": [
    "# ROC 곡선으로 시각화\n",
    "\n",
    "def roc_curve_plot(y_test, pred_proba_c1):\n",
    "    fprs, tprs, thresholds = roc_curve(y_test, pred_proba_c1)\n",
    "    # 그래프\n",
    "    plt.plot(fprs,tprs,label='ROC')\n",
    "    # 가운데 대각선 직선\n",
    "    plt.plot([0,1],[0,1],'k--',label='Random')\n",
    "    \n",
    "    # FPR 축의 Scale을 0.1 단위로 변경, 축 명 설정\n",
    "    start, end = plt.xlim()\n",
    "    plt.xticks(np.round(np.arange(start,end,0.1),2))\n",
    "    plt.xlim(0,1);plt.ylim(0,1)\n",
    "    plt.xlabel('FPR(1-Sensitivity)'); plt.ylabel('TPR(Recall)')\n",
    "    plt.legend()\n",
    "    \n",
    "roc_curve_plot(y_test, pred_proba[:,1])"
   ]
  },
  {
   "cell_type": "code",
   "execution_count": 40,
   "id": "38c6779f",
   "metadata": {},
   "outputs": [
    {
     "name": "stdout",
     "output_type": "stream",
     "text": [
      "roc auc 값: 0.9023\n"
     ]
    }
   ],
   "source": [
    "# AUC\n",
    "from sklearn.metrics import roc_auc_score\n",
    "\n",
    "pred_proba = lr_clf.predict_proba(X_test)[:,1]\n",
    "roc_score = roc_auc_score(y_test,pred_proba)\n",
    "print('roc auc 값: {0:.4f}'.format(roc_score) )"
   ]
  },
  {
   "cell_type": "code",
   "execution_count": 41,
   "id": "a80c0f3a",
   "metadata": {},
   "outputs": [],
   "source": [
    "# 최종 평가 지표 함수\n",
    "\n",
    "from sklearn.metrics import accuracy_score, precision_score, recall_score, confusion_matrix,f1_score,roc_auc_score\n",
    "\n",
    "def get_clf_eval(y_test,pred,pred_proba=None):\n",
    "    confusion = confusion_matrix(y_test,pred)\n",
    "    accuracy = accuracy_score(y_test,pred)\n",
    "    precision = precision_score(y_test,pred)\n",
    "    recall = recall_score(y_test,pred)\n",
    "    # f1 score 추가\n",
    "    f1 = f1_score(y_test,pred)\n",
    "    # ROC_AUC 추가\n",
    "    roc_auc = roc_auc_score(y_test,pred_proba) \n",
    "    print('오차행렬')\n",
    "    print(confusion)\n",
    "    print('정확도: {0:.4f}, 정밀도: {0:.4f}, 재현율: {0:.4f}, F1 : {0:.4f}, AUC : {0:.4f}'.format(accuracy,precision,recall,f1,roc_auc))"
   ]
  },
  {
   "cell_type": "code",
   "execution_count": 44,
   "id": "68097c3e",
   "metadata": {},
   "outputs": [
    {
     "name": "stdout",
     "output_type": "stream",
     "text": [
      "오차행렬\n",
      "[[104  14]\n",
      " [ 13  48]]\n",
      "정확도: 0.8492, 정밀도: 0.8492, 재현율: 0.8492, F1 : 0.8492, AUC : 0.8492\n"
     ]
    }
   ],
   "source": [
    "get_clf_eval(y_test,pred,pred_proba)"
   ]
  },
  {
   "cell_type": "code",
   "execution_count": null,
   "id": "e968102d",
   "metadata": {},
   "outputs": [],
   "source": []
  }
 ],
 "metadata": {
  "kernelspec": {
   "display_name": "Python 3 (ipykernel)",
   "language": "python",
   "name": "python3"
  },
  "language_info": {
   "codemirror_mode": {
    "name": "ipython",
    "version": 3
   },
   "file_extension": ".py",
   "mimetype": "text/x-python",
   "name": "python",
   "nbconvert_exporter": "python",
   "pygments_lexer": "ipython3",
   "version": "3.8.11"
  }
 },
 "nbformat": 4,
 "nbformat_minor": 5
}
