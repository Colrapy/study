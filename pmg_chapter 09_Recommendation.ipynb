{
 "cells": [
  {
   "cell_type": "markdown",
   "id": "5fbb3475",
   "metadata": {},
   "source": [
    "# || Chapter 09 - 추천시스템 ||"
   ]
  },
  {
   "cell_type": "markdown",
   "id": "e1903b40",
   "metadata": {},
   "source": [
    "## 01. 추천 시스템의 개요와 배경"
   ]
  },
  {
   "cell_type": "markdown",
   "id": "7e650862",
   "metadata": {},
   "source": [
    "1. 추천 시스템의 개요\n",
    "    - 사용자 자신도 좋아하는지 몰랐던 취향을 시스템이 발견하고 추천해줌\n",
    "    - 고객을 오래 머무르게 하고 매출 증가\n",
    "\n",
    "\n",
    "2. 온라인 스토어의 필수 요소, 추천 시스템\n",
    "    - 좋은 추천 시스템은 사용자가 무엇을 원하는지 빠르게 찾아내 사용자의 온라인 쇼핑 즐거움을 배가함"
   ]
  },
  {
   "cell_type": "markdown",
   "id": "457b2c1d",
   "metadata": {},
   "source": [
    "![image](https://user-images.githubusercontent.com/79856553/151126453-460ca403-f842-4a06-9a30-d50e19977f27.png)"
   ]
  },
  {
   "cell_type": "markdown",
   "id": "29f4b7ba",
   "metadata": {},
   "source": [
    "3. 추천 시스템의 유형\n",
    "    1. **콘텐츠 기반 필터링**\n",
    "    2. **협업 필터링**\n",
    "        - **최근접 이웃 협업 필터링**: 아마존 사용\n",
    "        - **잠재 요인 협업 필터링**: 대부분 온라인 스토어에서 적용중\n",
    "    - 최근에는 개인화 특성을 좀 더 강화하기 위해 하이브리드 형식으로 콘텐츠 기반과 협업 기반을 적절히 결합해 사용하는 경우도 증가"
   ]
  },
  {
   "cell_type": "markdown",
   "id": "d236852f",
   "metadata": {},
   "source": [
    "## 02. 콘텐츠 기반 필터링 추천 시스템"
   ]
  },
  {
   "cell_type": "markdown",
   "id": "78d8a9e3",
   "metadata": {},
   "source": [
    "1. **콘텐츠 기반 필터링**: 사용자가 **특정한 아이템을 매우 선호**하는 경우, 그 아이템과 비슷한 콘텐츠를 가진 다른 아이템을 추천하는 방식\n",
    "    - ex) 사용자가 특정 영화에 높은 평점을 줬다면 그 영화의 장르, 출연 배우, 감독, 영화 키워드 등을 콘텐츠와 유사한 다른 영화 추천"
   ]
  },
  {
   "cell_type": "markdown",
   "id": "0f1b65b6",
   "metadata": {},
   "source": [
    "## 03. 최근접 이웃 협업 필터링"
   ]
  },
  {
   "cell_type": "markdown",
   "id": "9edfbeb1",
   "metadata": {},
   "source": [
    "1. **협업 필터링**: 친구들에게 물어보는 것과 유사한 방식으로, 사용자가 아이템에 매긴 평점 정보나 상품 구매 이력과 같은 **사용자 행동 양식만을 기반으로** 추천을 수행하는 것\n",
    "\n",
    "\n",
    "2. 주요 목표: 사용자-아이템 평점 매트릭스와 같은 축적된 **사용자 행동 데이터를 기반으로** 사용자가 아직 평가하지 않은 아이템을 **예측 평가**하는 것\n",
    "\n",
    "\n",
    "3. **사용자-아이템 평점 행렬**\n",
    "    - 행(Row): 개별 자용자\n",
    "    - 열(Column): 개별 아이템\n",
    "    - 레코드 레벨 형태 -> 평점 행렬 형태 변환(pivot_table())\n",
    "        - 희소 행렬 특성 가짐"
   ]
  },
  {
   "cell_type": "markdown",
   "id": "47307cc8",
   "metadata": {},
   "source": [
    "![image](https://user-images.githubusercontent.com/79856553/151132106-53459255-e6f5-4e6e-9913-42974efcc8f2.png)"
   ]
  },
  {
   "cell_type": "markdown",
   "id": "3a5f4646",
   "metadata": {},
   "source": [
    "4. **최근접 이웃 협업 필터링**(=메모리 협업 필터링)\n",
    "    1. **사용자 기반(User-User)**: 당신과 비슷한 고객들이 다음 상품도 구매\n",
    "        - 특정 사용자와 타 사용자 간의 유사도 측정: 유사도 높은 TOP-N사용자\n",
    "        - TOP-N 사용자가 선호하는 아이템 추천\n",
    "    2. **아이템 기반(Item-Item)**: 이 상품 선택한 다른 고객들은 다음 상품도 구매\n",
    "        - 사용자들이 그 아이템을 좋아하는지/싫어하는지 평가 척도가 유사한 아이템 추천\n",
    "        - **사용자 기반보다 정확도 높음**(유명한 영화는 취향과 관계X 모두 관람)\n",
    "    - 유사도 측정에는 **코사인 유사도** 이용\n",
    "    $$ similarity = \\cos\\theta = \\frac{\\vec{A}\\cdot\\vec{B}}{||A||||B||} = \\frac{\\sum_{i=1}^n A_iB_i}{\\sqrt{\\sum_{i=1}^n A_i^2}\\sqrt{\\sum_{i=1}^n B_i^2}} $$"
   ]
  },
  {
   "cell_type": "markdown",
   "id": "6cecb6c8",
   "metadata": {},
   "source": [
    "![image](https://user-images.githubusercontent.com/79856553/151133176-4dbd39a4-c30d-4a1f-8a0b-aa35d22a07b7.png)"
   ]
  },
  {
   "cell_type": "markdown",
   "id": "1945650d",
   "metadata": {},
   "source": [
    "![image](https://user-images.githubusercontent.com/79856553/151133234-e6501f50-0765-4cd7-8de0-843224f6da70.png)"
   ]
  },
  {
   "cell_type": "markdown",
   "id": "09781ac2",
   "metadata": {},
   "source": [
    "## 04. 잠재 요인 협업 필터링"
   ]
  },
  {
   "cell_type": "markdown",
   "id": "a70f4d93",
   "metadata": {},
   "source": [
    "1. **잠재 요인 협업 필터링**: 사용자-아이템 평점 매트릭스 속에 숨어 있는 **잠재 요인을 추출**해 추천 예측할 수 있게 하는 기법\n",
    "    - **행렬 분해**: 대규모 다차원 행렬을 SVD와 같은 **차원 감소 기법**으로 분해하는 과정에서 잠재 요인 추출"
   ]
  },
  {
   "cell_type": "markdown",
   "id": "ca081d12",
   "metadata": {},
   "source": [
    "![image](https://user-images.githubusercontent.com/79856553/151136214-244a5daf-1a00-4e68-814a-5397cb77a2a7.png)"
   ]
  },
  {
   "cell_type": "markdown",
   "id": "a3d758c0",
   "metadata": {},
   "source": [
    "2. **잠재요인**\n",
    "    - 잠재 요인이 정확히 어떤건지 특정할 수는 없음\n",
    "    - ex) 영화 평점 기반 [사용자-아이템]평점행렬이라면 영화가 가지는 장르별 특성 선호도로 가정할 수 있음(사용자: 영화 장르 선호도, 아이템: 영화 장르별 특성값)"
   ]
  },
  {
   "cell_type": "markdown",
   "id": "36f282a3",
   "metadata": {},
   "source": [
    "![image](https://user-images.githubusercontent.com/79856553/151137857-169b730d-ddd8-4671-b2a7-b12c2ec81ae7.png)"
   ]
  },
  {
   "cell_type": "markdown",
   "id": "bcd572f8",
   "metadata": {},
   "source": [
    "-> $ R(u,i) = P(u,k) \\cdot Q(i,k) $\n",
    "\n",
    ": 행렬R 행렬분해 -> 행렬P, 행렬Q, P와 Q의 내적을 통해 R값을 예측할 수 있음\n",
    "\n",
    "- R(u,i): 사용자-아이템 평점 행렬(u: 사용자 아이디, i: 아이템 아이디)\n",
    "- P(u,k): 사용자-잠재요인 행렬(u: 사용자 아이디, k: 장르별 선호도(잠재요인))\n",
    "- Q(i,k): 아이템-잠재요인 행렬(i: 아이템 아이디, k: 장르별 요소(잠재요인))\n",
    "    - Q.T(k,i): P와의 내적 계산 위해 전치행렬로 변환"
   ]
  },
  {
   "cell_type": "markdown",
   "id": "2dea64b5",
   "metadata": {},
   "source": [
    "3. **행렬 분해의 이해**\n",
    "    1. 행렬분해: 다차원의 매트릭스를 저차원 매트릭스로 분해하는 기법\n",
    "        - SVD, NMF 등이 있음\n",
    "    2. **R = P * Q.T**\n",
    "        - R행렬: MxN차원 -> M개의 사용자 행 & N개의 아이템 열\n",
    "        - P행렬: MxK차원 -> M개의 사용자 & K개의 잠재요인\n",
    "        - Q행렬: KxN차원 -> K개의 잠재요인 & N개의 아이템\n",
    "    3. 평점데이터 $ r(u,i) = P_u * q_i^t $\n",
    "        - ex) $ r(2,3) = p_2 * q_3^t $"
   ]
  },
  {
   "cell_type": "markdown",
   "id": "63b630ee",
   "metadata": {},
   "source": [
    "![image](https://user-images.githubusercontent.com/79856553/151140781-9e93ee8f-f283-46ef-9566-06428df42caa.png)"
   ]
  },
  {
   "cell_type": "markdown",
   "id": "db71aed5",
   "metadata": {},
   "source": [
    "4. 행렬R을 행렬P와 Q로 분해하는 방법\n",
    "    1. 행렬분해는 주로 SVD: SVD는 널값이 없는 행렬에만 적용 가능\n",
    "    2. **확률적 경사 하강법** or **ALS(Alternating Least Squares)** 이용해 SVD 수행"
   ]
  },
  {
   "cell_type": "markdown",
   "id": "c91648c7",
   "metadata": {},
   "source": [
    "5. 확률적 경사 하강법을 이용한 행렬 분해\n",
    "    1. **P와 Q행렬로 계산된 예측 R행렬 값이 실제 R행렬 값과 가장 최소의 오류를 가질 수 있도록 반복적인 비용 함수 최적화를 통해 P와 Q을 유추해내는 것**\n",
    "    2. 확률적 경사 하강법 절차\n",
    "        1. P와 Q를 임의의 값을 가진 행렬로 설정\n",
    "        2. P와 Q.T값을 곱해 예측R행렬을 계산하고 **예측R행렬과 실제R행렬에 해당하는 오류 값 계산**\n",
    "        3. 이 **오류 값을 최소화**할 수 있도록 P와 Q행렬을 적절한 값으로 각각 업데이트\n",
    "        4. 만족할 만한 오류 값을 가질 때까지 2,3번 작업을 반복하면서 P와 Q값을 업데이트해 근사화\n",
    "    3. **비용함수식**: 실제값과 예측값의 오류 최소화와 L2규제 고려\n",
    "$$ min\\sum(r(u,i)-P_u Q_i^t)^2 + \\lambda(||q_i||^2 + ||p_u||^2) $$\n",
    "        - $\\acute{p_u} = p_u + \\eta(e(u,i)*q_i-\\lambda*p_u) $\n",
    "        - $\\acute{q_i} = p_u + \\eta(e(u,i)*p_i-\\lambda*q_u) $\n",
    "        - $e(u,i)=r(u,i)-\\hat{r}(u,i)$:u행,i열에 위치한 실제 행렬 값과 예측 행렬 값의 차이 오류\n",
    "        - $\\eta$: SGD 학습률\n",
    "        - $\\lambda$: L2 규제 계수"
   ]
  },
  {
   "cell_type": "markdown",
   "id": "4b79c484",
   "metadata": {},
   "source": [
    "<font color=darkred> SGD 이용한 행렬분해 </font>"
   ]
  },
  {
   "cell_type": "code",
   "execution_count": 1,
   "id": "775e869e",
   "metadata": {},
   "outputs": [],
   "source": [
    "# R: 널 값 포함해 생성(np.NaN), P,Q는 정규분포 가진 랜던 값으로 초기화\n",
    "import numpy as np\n",
    "\n",
    "# 원본 행렬 R 생성, 분해 행렬 P와 Q 초기화, 잠재요인 차원 K는 3 설정. \n",
    "R = np.array([[4, np.NaN, np.NaN, 2, np.NaN ],\n",
    "              [np.NaN, 5, np.NaN, 3, 1 ],\n",
    "              [np.NaN, np.NaN, 3, 4, 4 ],\n",
    "              [5, 2, 1, 2, np.NaN ]])\n",
    "num_users, num_items = R.shape\n",
    "K=3\n",
    "\n",
    "# P와 Q 매트릭스의 크기를 지정하고 정규분포를 가진 random한 값으로 입력합니다. \n",
    "np.random.seed(1)\n",
    "P = np.random.normal(scale=1./K, size=(num_users, K))\n",
    "Q = np.random.normal(scale=1./K, size=(num_items, K))"
   ]
  },
  {
   "cell_type": "code",
   "execution_count": 2,
   "id": "070198ca",
   "metadata": {},
   "outputs": [],
   "source": [
    "# 실제 R행렬과 예측행렬의 오차 구하는 함수 - get_rmse()\n",
    "from sklearn.metrics import mean_squared_error\n",
    "\n",
    "def get_rmse(R, P, Q, non_zeros):\n",
    "    error = 0\n",
    "    # 두개의 분해된 행렬 P와 Q.T의 내적으로 예측 R 행렬 생성\n",
    "    full_pred_matrix = np.dot(P, Q.T)\n",
    "    \n",
    "    # 실제 R 행렬에서 널이 아닌 값의 위치 인덱스 추출하여 실제 R 행렬과 예측 행렬의 RMSE 추출\n",
    "    x_non_zero_ind = [non_zero[0] for non_zero in non_zeros]\n",
    "    y_non_zero_ind = [non_zero[1] for non_zero in non_zeros]\n",
    "    R_non_zeros = R[x_non_zero_ind, y_non_zero_ind]\n",
    "    full_pred_matrix_non_zeros = full_pred_matrix[x_non_zero_ind, y_non_zero_ind]\n",
    "      \n",
    "    mse = mean_squared_error(R_non_zeros, full_pred_matrix_non_zeros)\n",
    "    rmse = np.sqrt(mse)\n",
    "    \n",
    "    return rmse"
   ]
  },
  {
   "cell_type": "code",
   "execution_count": 3,
   "id": "803a208e",
   "metadata": {},
   "outputs": [
    {
     "name": "stdout",
     "output_type": "stream",
     "text": [
      "### iteration step :  0  rmse :  3.2388050277987723\n",
      "### iteration step :  50  rmse :  0.4876723101369648\n",
      "### iteration step :  100  rmse :  0.1564340384819247\n",
      "### iteration step :  150  rmse :  0.07455141311978046\n",
      "### iteration step :  200  rmse :  0.04325226798579314\n",
      "### iteration step :  250  rmse :  0.029248328780878973\n",
      "### iteration step :  300  rmse :  0.022621116143829466\n",
      "### iteration step :  350  rmse :  0.019493636196525135\n",
      "### iteration step :  400  rmse :  0.018022719092132704\n",
      "### iteration step :  450  rmse :  0.01731968595344266\n",
      "### iteration step :  500  rmse :  0.016973657887570753\n",
      "### iteration step :  550  rmse :  0.016796804595895633\n",
      "### iteration step :  600  rmse :  0.01670132290188466\n",
      "### iteration step :  650  rmse :  0.01664473691247669\n",
      "### iteration step :  700  rmse :  0.016605910068210026\n",
      "### iteration step :  750  rmse :  0.016574200475705\n",
      "### iteration step :  800  rmse :  0.01654431582921597\n",
      "### iteration step :  850  rmse :  0.01651375177473524\n",
      "### iteration step :  900  rmse :  0.01648146573819501\n",
      "### iteration step :  950  rmse :  0.016447171683479155\n"
     ]
    }
   ],
   "source": [
    "# R > 0 인 행 위치, 열 위치, 값을 non_zeros 리스트에 저장. \n",
    "non_zeros = [ (i, j, R[i,j]) for i in range(num_users) for j in range(num_items) if R[i,j] > 0 ]\n",
    "\n",
    "# steps: SGD 반복해서 업데이트할 횟수, learning_rate: SGD 학습률, r_lambda: L2 Regularization 계수\n",
    "steps=1000\n",
    "learning_rate=0.01\n",
    "r_lambda=0.01\n",
    "\n",
    "# SGD 기법으로 P와 Q 매트릭스를 계속 업데이트. \n",
    "for step in range(steps):\n",
    "    for i, j, r in non_zeros:\n",
    "        # 실제 값과 예측 값의 차이인 오류 값 구함\n",
    "        eij = r - np.dot(P[i, :], Q[j, :].T)\n",
    "        # Regularization을 반영한 SGD 업데이트 공식 적용\n",
    "        P[i,:] = P[i,:] + learning_rate*(eij * Q[j, :] - r_lambda*P[i,:])\n",
    "        Q[j,:] = Q[j,:] + learning_rate*(eij * P[i, :] - r_lambda*Q[j,:])\n",
    "\n",
    "    rmse = get_rmse(R, P, Q, non_zeros)\n",
    "    if (step % 50) == 0 :\n",
    "        print(\"### iteration step : \", step,\" rmse : \", rmse)"
   ]
  },
  {
   "cell_type": "code",
   "execution_count": 4,
   "id": "0ad882ad",
   "metadata": {
    "scrolled": true
   },
   "outputs": [
    {
     "name": "stdout",
     "output_type": "stream",
     "text": [
      "예측 행렬:\n",
      " [[3.991 0.897 1.306 2.002 1.663]\n",
      " [6.696 4.978 0.979 2.981 1.003]\n",
      " [6.677 0.391 2.987 3.977 3.986]\n",
      " [4.968 2.005 1.006 2.017 1.14 ]]\n"
     ]
    }
   ],
   "source": [
    "pred_matrix = np.dot(P, Q.T)\n",
    "print('예측 행렬:\\n', np.round(pred_matrix, 3))"
   ]
  },
  {
   "cell_type": "markdown",
   "id": "562a2200",
   "metadata": {},
   "source": [
    "<font color=darkred> 원본 행렬과 비교해 널이 아닌 값은 큰 차이 나이 않으며, 널인 값은 새로운 예측값으로 채워짐 </font> "
   ]
  },
  {
   "cell_type": "markdown",
   "id": "4b5f100b",
   "metadata": {},
   "source": [
    "## <font color = (blue)> 05. (실습1)콘텐츠 기반 필터링 실습 - TMDB 5000 영화 데이터 세트 </font>"
   ]
  },
  {
   "cell_type": "markdown",
   "id": "d0f5bae8",
   "metadata": {},
   "source": [
    "1. **TMDB 5000 영화 데이터 세트**: 유명한 영화 데이터 정보 사이트인 IMDB의 많은 영화 중 주요 5000개 영화에 대한 메타 정보를 새롭게 가공해 캐글에서 제공하는 데이터 세트\n",
    "\n",
    "\n",
    "2. **장르 속성을 이용한 영화 콘텐츠 기반 필터링**: 사용자가 특정 영화를 감상하고 그 영화를 좋아했다면 그 영화와 **비슷한 특성/속성, 구성 요소** 등을 가진 다른 영화를 추천하는 것\n",
    "    - 유사성 판단 기준이 영화를 구성하는 다양한 콘텐츠: 장르, 감독, 배우, 평점, 키워드, 영화 설명"
   ]
  },
  {
   "cell_type": "markdown",
   "id": "cdc9dbb7",
   "metadata": {},
   "source": [
    "<font color=magenta> 1. 데이터 로밍 및 가공 </font>"
   ]
  },
  {
   "cell_type": "code",
   "execution_count": 7,
   "id": "6fdfe902",
   "metadata": {},
   "outputs": [
    {
     "name": "stdout",
     "output_type": "stream",
     "text": [
      "(4803, 20)\n"
     ]
    },
    {
     "data": {
      "text/html": [
       "<div>\n",
       "<style scoped>\n",
       "    .dataframe tbody tr th:only-of-type {\n",
       "        vertical-align: middle;\n",
       "    }\n",
       "\n",
       "    .dataframe tbody tr th {\n",
       "        vertical-align: top;\n",
       "    }\n",
       "\n",
       "    .dataframe thead th {\n",
       "        text-align: right;\n",
       "    }\n",
       "</style>\n",
       "<table border=\"1\" class=\"dataframe\">\n",
       "  <thead>\n",
       "    <tr style=\"text-align: right;\">\n",
       "      <th></th>\n",
       "      <th>budget</th>\n",
       "      <th>genres</th>\n",
       "      <th>homepage</th>\n",
       "      <th>id</th>\n",
       "      <th>keywords</th>\n",
       "      <th>original_language</th>\n",
       "      <th>original_title</th>\n",
       "      <th>overview</th>\n",
       "      <th>popularity</th>\n",
       "      <th>production_companies</th>\n",
       "      <th>production_countries</th>\n",
       "      <th>release_date</th>\n",
       "      <th>revenue</th>\n",
       "      <th>runtime</th>\n",
       "      <th>spoken_languages</th>\n",
       "      <th>status</th>\n",
       "      <th>tagline</th>\n",
       "      <th>title</th>\n",
       "      <th>vote_average</th>\n",
       "      <th>vote_count</th>\n",
       "    </tr>\n",
       "  </thead>\n",
       "  <tbody>\n",
       "    <tr>\n",
       "      <th>0</th>\n",
       "      <td>237000000</td>\n",
       "      <td>[{\"id\": 28, \"name\": \"Action\"}, {\"id\": 12, \"nam...</td>\n",
       "      <td>http://www.avatarmovie.com/</td>\n",
       "      <td>19995</td>\n",
       "      <td>[{\"id\": 1463, \"name\": \"culture clash\"}, {\"id\":...</td>\n",
       "      <td>en</td>\n",
       "      <td>Avatar</td>\n",
       "      <td>In the 22nd century, a paraplegic Marine is di...</td>\n",
       "      <td>150.437577</td>\n",
       "      <td>[{\"name\": \"Ingenious Film Partners\", \"id\": 289...</td>\n",
       "      <td>[{\"iso_3166_1\": \"US\", \"name\": \"United States o...</td>\n",
       "      <td>2009-12-10</td>\n",
       "      <td>2787965087</td>\n",
       "      <td>162.0</td>\n",
       "      <td>[{\"iso_639_1\": \"en\", \"name\": \"English\"}, {\"iso...</td>\n",
       "      <td>Released</td>\n",
       "      <td>Enter the World of Pandora.</td>\n",
       "      <td>Avatar</td>\n",
       "      <td>7.2</td>\n",
       "      <td>11800</td>\n",
       "    </tr>\n",
       "  </tbody>\n",
       "</table>\n",
       "</div>"
      ],
      "text/plain": [
       "      budget                                             genres  \\\n",
       "0  237000000  [{\"id\": 28, \"name\": \"Action\"}, {\"id\": 12, \"nam...   \n",
       "\n",
       "                      homepage     id  \\\n",
       "0  http://www.avatarmovie.com/  19995   \n",
       "\n",
       "                                            keywords original_language  \\\n",
       "0  [{\"id\": 1463, \"name\": \"culture clash\"}, {\"id\":...                en   \n",
       "\n",
       "  original_title                                           overview  \\\n",
       "0         Avatar  In the 22nd century, a paraplegic Marine is di...   \n",
       "\n",
       "   popularity                               production_companies  \\\n",
       "0  150.437577  [{\"name\": \"Ingenious Film Partners\", \"id\": 289...   \n",
       "\n",
       "                                production_countries release_date     revenue  \\\n",
       "0  [{\"iso_3166_1\": \"US\", \"name\": \"United States o...   2009-12-10  2787965087   \n",
       "\n",
       "   runtime                                   spoken_languages    status  \\\n",
       "0    162.0  [{\"iso_639_1\": \"en\", \"name\": \"English\"}, {\"iso...  Released   \n",
       "\n",
       "                       tagline   title  vote_average  vote_count  \n",
       "0  Enter the World of Pandora.  Avatar           7.2       11800  "
      ]
     },
     "execution_count": 7,
     "metadata": {},
     "output_type": "execute_result"
    }
   ],
   "source": [
    "# 1. 데이터 로밍 및 가공: tmdb_5000_movies.csv\n",
    "import pandas as pd\n",
    "import numpy as np\n",
    "import warnings; warnings.filterwarnings('ignore')\n",
    "\n",
    "movies =pd.read_csv('./tmdb-5000-movie-dataset/tmdb_5000_movies.csv')\n",
    "print(movies.shape)\n",
    "movies.head(1)"
   ]
  },
  {
   "cell_type": "markdown",
   "id": "6e403807",
   "metadata": {},
   "source": [
    "-> 구성: 4803개 레코드 & 20개 피처"
   ]
  },
  {
   "cell_type": "code",
   "execution_count": 8,
   "id": "b302464f",
   "metadata": {},
   "outputs": [],
   "source": [
    "# 콘텐츠 기반 필터링 추천 분석에 사용할 주요 칼럼만 추출\n",
    "movies_df = movies[['id','title', 'genres', 'vote_average', 'vote_count',\n",
    "                 'popularity', 'keywords', 'overview']]"
   ]
  },
  {
   "cell_type": "code",
   "execution_count": 9,
   "id": "d1fb0774",
   "metadata": {},
   "outputs": [
    {
     "data": {
      "text/html": [
       "<div>\n",
       "<style scoped>\n",
       "    .dataframe tbody tr th:only-of-type {\n",
       "        vertical-align: middle;\n",
       "    }\n",
       "\n",
       "    .dataframe tbody tr th {\n",
       "        vertical-align: top;\n",
       "    }\n",
       "\n",
       "    .dataframe thead th {\n",
       "        text-align: right;\n",
       "    }\n",
       "</style>\n",
       "<table border=\"1\" class=\"dataframe\">\n",
       "  <thead>\n",
       "    <tr style=\"text-align: right;\">\n",
       "      <th></th>\n",
       "      <th>genres</th>\n",
       "      <th>keywords</th>\n",
       "    </tr>\n",
       "  </thead>\n",
       "  <tbody>\n",
       "    <tr>\n",
       "      <th>0</th>\n",
       "      <td>[{\"id\": 28, \"name\": \"Action\"}, {\"id\": 12, \"name\": \"Adventure\"}, {\"id\": 14, \"name\": \"Fantasy\"}, {...</td>\n",
       "      <td>[{\"id\": 1463, \"name\": \"culture clash\"}, {\"id\": 2964, \"name\": \"future\"}, {\"id\": 3386, \"name\": \"sp...</td>\n",
       "    </tr>\n",
       "  </tbody>\n",
       "</table>\n",
       "</div>"
      ],
      "text/plain": [
       "                                                                                                genres  \\\n",
       "0  [{\"id\": 28, \"name\": \"Action\"}, {\"id\": 12, \"name\": \"Adventure\"}, {\"id\": 14, \"name\": \"Fantasy\"}, {...   \n",
       "\n",
       "                                                                                              keywords  \n",
       "0  [{\"id\": 1463, \"name\": \"culture clash\"}, {\"id\": 2964, \"name\": \"future\"}, {\"id\": 3386, \"name\": \"sp...  "
      ]
     },
     "execution_count": 9,
     "metadata": {},
     "output_type": "execute_result"
    }
   ],
   "source": [
    "# 해당 칼럼이 어떤 형태로 되어있는지 확인\n",
    "pd.set_option('max_colwidth', 100)\n",
    "movies_df[['genres','keywords']][:1]"
   ]
  },
  {
   "cell_type": "markdown",
   "id": "3a23e71b",
   "metadata": {},
   "source": [
    "-> 여러 개의 개별 장르 데이터 갖음. 개별 장르의 명칭은 딕셔너리의 키인 name으로 추출할 수 있음"
   ]
  },
  {
   "cell_type": "code",
   "execution_count": 10,
   "id": "c1b663f3",
   "metadata": {},
   "outputs": [],
   "source": [
    "# 문자열을 객체로 변환\n",
    "from ast import literal_eval\n",
    "\n",
    "movies_df['genres'] = movies_df['genres'].apply(literal_eval)\n",
    "movies_df['keywords'] = movies_df['keywords'].apply(literal_eval)"
   ]
  },
  {
   "cell_type": "code",
   "execution_count": 11,
   "id": "dfa1097e",
   "metadata": {},
   "outputs": [
    {
     "data": {
      "text/html": [
       "<div>\n",
       "<style scoped>\n",
       "    .dataframe tbody tr th:only-of-type {\n",
       "        vertical-align: middle;\n",
       "    }\n",
       "\n",
       "    .dataframe tbody tr th {\n",
       "        vertical-align: top;\n",
       "    }\n",
       "\n",
       "    .dataframe thead th {\n",
       "        text-align: right;\n",
       "    }\n",
       "</style>\n",
       "<table border=\"1\" class=\"dataframe\">\n",
       "  <thead>\n",
       "    <tr style=\"text-align: right;\">\n",
       "      <th></th>\n",
       "      <th>genres</th>\n",
       "      <th>keywords</th>\n",
       "    </tr>\n",
       "  </thead>\n",
       "  <tbody>\n",
       "    <tr>\n",
       "      <th>0</th>\n",
       "      <td>[Action, Adventure, Fantasy, Science Fiction]</td>\n",
       "      <td>[culture clash, future, space war, space colony, society, space travel, futuristic, romance, spa...</td>\n",
       "    </tr>\n",
       "  </tbody>\n",
       "</table>\n",
       "</div>"
      ],
      "text/plain": [
       "                                          genres  \\\n",
       "0  [Action, Adventure, Fantasy, Science Fiction]   \n",
       "\n",
       "                                                                                              keywords  \n",
       "0  [culture clash, future, space war, space colony, society, space travel, futuristic, romance, spa...  "
      ]
     },
     "execution_count": 11,
     "metadata": {},
     "output_type": "execute_result"
    }
   ],
   "source": [
    "# name 키에 해당하는 값 추출 -> 리스트 객체로 변환\n",
    "movies_df['genres'] = movies_df['genres'].apply(lambda x : [ y['name'] for y in x])\n",
    "movies_df['keywords'] = movies_df['keywords'].apply(lambda x : [ y['name'] for y in x])\n",
    "movies_df[['genres', 'keywords']][:1]"
   ]
  },
  {
   "cell_type": "markdown",
   "id": "5521d6bf",
   "metadata": {},
   "source": [
    "<font color=magenta> 2. 장르 콘텐츠 유사도 측정 </font>\n",
    "1. genres 문자열로 변경\n",
    "2. 이를 CountVectorizer로 피처벡터화한 행렬 데이터 값을 코사인 유사도로 비교\n",
    "3. 장르 유사도가 높은 영화 중, 평점이 높은 순으로 영화 추천"
   ]
  },
  {
   "cell_type": "code",
   "execution_count": 12,
   "id": "4662ff70",
   "metadata": {},
   "outputs": [
    {
     "name": "stdout",
     "output_type": "stream",
     "text": [
      "(4803, 276)\n"
     ]
    }
   ],
   "source": [
    "# CountVectorizer 이용해 피처 벡터 행렬 만들기\n",
    "from sklearn.feature_extraction.text import CountVectorizer\n",
    "\n",
    "# CountVectorizer를 적용하기 위해 공백문자로 word 단위가 구분되는 문자열로 변환. \n",
    "movies_df['genres_literal'] = movies_df['genres'].apply(lambda x : (' ').join(x))\n",
    "count_vect = CountVectorizer(min_df=0, ngram_range=(1,2))\n",
    "genre_mat = count_vect.fit_transform(movies_df['genres_literal'])\n",
    "print(genre_mat.shape)"
   ]
  },
  {
   "cell_type": "code",
   "execution_count": 13,
   "id": "27d41026",
   "metadata": {},
   "outputs": [
    {
     "name": "stdout",
     "output_type": "stream",
     "text": [
      "(4803, 4803)\n",
      "[[1.         0.59628479 0.4472136  ... 0.         0.         0.        ]\n",
      " [0.59628479 1.         0.4        ... 0.         0.         0.        ]]\n"
     ]
    }
   ],
   "source": [
    "# 코사인 유사도 구하기: cosine_similairities()\n",
    "from sklearn.metrics.pairwise import cosine_similarity\n",
    "\n",
    "genre_sim = cosine_similarity(genre_mat, genre_mat)\n",
    "print(genre_sim.shape)\n",
    "print(genre_sim[:2])"
   ]
  },
  {
   "cell_type": "code",
   "execution_count": 14,
   "id": "8f469eeb",
   "metadata": {},
   "outputs": [
    {
     "name": "stdout",
     "output_type": "stream",
     "text": [
      "[[   0 3494  813 ... 3038 3037 2401]]\n"
     ]
    }
   ],
   "source": [
    "# argsort()[:, ::-1]: 유사도 높은 순으로 정리된 genre_sim 객체의 비교 행 위치 인덱스 값\n",
    "# 높은 순으로 정렬된 비교 행 위치 인덱스 값을 가져오고,\n",
    "# 그중 0번 레코드의 비교 행 위치 인덱스 값만 샘플로 추출\n",
    "genre_sim_sorted_ind = genre_sim.argsort()[:, ::-1]\n",
    "print(genre_sim_sorted_ind[:1])"
   ]
  },
  {
   "cell_type": "markdown",
   "id": "af4273d0",
   "metadata": {},
   "source": [
    "-> 0번 레코드의 경우 자신이 0번인 레코드를 제외하면 3494번 레코드 유사도 가장 높음. 그 다음이 813이고 가장 낲은 레코드는 2401"
   ]
  },
  {
   "cell_type": "markdown",
   "id": "c9a5b788",
   "metadata": {},
   "source": [
    "<font color=magenta> 3. 장르 콘텐츠 필터링을 이용한 영화 추천 </font>"
   ]
  },
  {
   "cell_type": "code",
   "execution_count": 15,
   "id": "c8e56442",
   "metadata": {},
   "outputs": [],
   "source": [
    "def find_sim_movie(df, sorted_ind, title_name, top_n=10):\n",
    "    \n",
    "    # 인자로 입력된 movies_df DataFrame에서 'title' 컬럼이 입력된 title_name 값인 DataFrame추출\n",
    "    title_movie = df[df['title'] == title_name]\n",
    "    \n",
    "    # title_named을 가진 DataFrame의 index 객체를 ndarray로 반환하고 \n",
    "    # sorted_ind 인자로 입력된 genre_sim_sorted_ind 객체에서 유사도 순으로 top_n 개의 index 추출\n",
    "    title_index = title_movie.index.values\n",
    "    similar_indexes = sorted_ind[title_index, :(top_n)]\n",
    "    \n",
    "    # 추출된 top_n index들 출력. top_n index는 2차원 데이터 임. \n",
    "    #dataframe에서 index로 사용하기 위해서 1차원 array로 변경\n",
    "    print(similar_indexes)\n",
    "    similar_indexes = similar_indexes.reshape(-1)\n",
    "    \n",
    "    return df.iloc[similar_indexes]"
   ]
  },
  {
   "cell_type": "code",
   "execution_count": 16,
   "id": "08abe2d7",
   "metadata": {},
   "outputs": [
    {
     "name": "stdout",
     "output_type": "stream",
     "text": [
      "[[2731 1243 3636 1946 2640 4065 1847 4217  883 3866]]\n"
     ]
    },
    {
     "data": {
      "text/html": [
       "<div>\n",
       "<style scoped>\n",
       "    .dataframe tbody tr th:only-of-type {\n",
       "        vertical-align: middle;\n",
       "    }\n",
       "\n",
       "    .dataframe tbody tr th {\n",
       "        vertical-align: top;\n",
       "    }\n",
       "\n",
       "    .dataframe thead th {\n",
       "        text-align: right;\n",
       "    }\n",
       "</style>\n",
       "<table border=\"1\" class=\"dataframe\">\n",
       "  <thead>\n",
       "    <tr style=\"text-align: right;\">\n",
       "      <th></th>\n",
       "      <th>title</th>\n",
       "      <th>vote_average</th>\n",
       "    </tr>\n",
       "  </thead>\n",
       "  <tbody>\n",
       "    <tr>\n",
       "      <th>2731</th>\n",
       "      <td>The Godfather: Part II</td>\n",
       "      <td>8.3</td>\n",
       "    </tr>\n",
       "    <tr>\n",
       "      <th>1243</th>\n",
       "      <td>Mean Streets</td>\n",
       "      <td>7.2</td>\n",
       "    </tr>\n",
       "    <tr>\n",
       "      <th>3636</th>\n",
       "      <td>Light Sleeper</td>\n",
       "      <td>5.7</td>\n",
       "    </tr>\n",
       "    <tr>\n",
       "      <th>1946</th>\n",
       "      <td>The Bad Lieutenant: Port of Call - New Orleans</td>\n",
       "      <td>6.0</td>\n",
       "    </tr>\n",
       "    <tr>\n",
       "      <th>2640</th>\n",
       "      <td>Things to Do in Denver When You're Dead</td>\n",
       "      <td>6.7</td>\n",
       "    </tr>\n",
       "    <tr>\n",
       "      <th>4065</th>\n",
       "      <td>Mi America</td>\n",
       "      <td>0.0</td>\n",
       "    </tr>\n",
       "    <tr>\n",
       "      <th>1847</th>\n",
       "      <td>GoodFellas</td>\n",
       "      <td>8.2</td>\n",
       "    </tr>\n",
       "    <tr>\n",
       "      <th>4217</th>\n",
       "      <td>Kids</td>\n",
       "      <td>6.8</td>\n",
       "    </tr>\n",
       "    <tr>\n",
       "      <th>883</th>\n",
       "      <td>Catch Me If You Can</td>\n",
       "      <td>7.7</td>\n",
       "    </tr>\n",
       "    <tr>\n",
       "      <th>3866</th>\n",
       "      <td>City of God</td>\n",
       "      <td>8.1</td>\n",
       "    </tr>\n",
       "  </tbody>\n",
       "</table>\n",
       "</div>"
      ],
      "text/plain": [
       "                                               title  vote_average\n",
       "2731                          The Godfather: Part II           8.3\n",
       "1243                                    Mean Streets           7.2\n",
       "3636                                   Light Sleeper           5.7\n",
       "1946  The Bad Lieutenant: Port of Call - New Orleans           6.0\n",
       "2640         Things to Do in Denver When You're Dead           6.7\n",
       "4065                                      Mi America           0.0\n",
       "1847                                      GoodFellas           8.2\n",
       "4217                                            Kids           6.8\n",
       "883                              Catch Me If You Can           7.7\n",
       "3866                                     City of God           8.1"
      ]
     },
     "execution_count": 16,
     "metadata": {},
     "output_type": "execute_result"
    }
   ],
   "source": [
    "# 영화 '대부(The Godfather)' 장르별로 유사한 영화 10개 추천\n",
    "similar_movies = find_sim_movie(movies_df, genre_sim_sorted_ind, 'The Godfather',10)\n",
    "similar_movies[['title', 'vote_average']]"
   ]
  },
  {
   "cell_type": "markdown",
   "id": "35285296",
   "metadata": {},
   "source": [
    "-> 대부 2편 가장 먼저 추천됨. 그 다음은 좋은 친구들\n",
    "\n",
    "-> 섣불리 추천하기에 이해하기 어려운 영화들도 보임. 평점0점 영화도 존재\n",
    "\n",
    "-> 좀 더 **많은 후보군**을 선정한 뒤 영화의 **평점에 따라 필터링**해서 최종 추천하는 방식으로 변경"
   ]
  },
  {
   "cell_type": "code",
   "execution_count": 17,
   "id": "be760064",
   "metadata": {},
   "outputs": [
    {
     "data": {
      "text/html": [
       "<div>\n",
       "<style scoped>\n",
       "    .dataframe tbody tr th:only-of-type {\n",
       "        vertical-align: middle;\n",
       "    }\n",
       "\n",
       "    .dataframe tbody tr th {\n",
       "        vertical-align: top;\n",
       "    }\n",
       "\n",
       "    .dataframe thead th {\n",
       "        text-align: right;\n",
       "    }\n",
       "</style>\n",
       "<table border=\"1\" class=\"dataframe\">\n",
       "  <thead>\n",
       "    <tr style=\"text-align: right;\">\n",
       "      <th></th>\n",
       "      <th>title</th>\n",
       "      <th>vote_average</th>\n",
       "      <th>vote_count</th>\n",
       "    </tr>\n",
       "  </thead>\n",
       "  <tbody>\n",
       "    <tr>\n",
       "      <th>3519</th>\n",
       "      <td>Stiff Upper Lips</td>\n",
       "      <td>10.0</td>\n",
       "      <td>1</td>\n",
       "    </tr>\n",
       "    <tr>\n",
       "      <th>4247</th>\n",
       "      <td>Me You and Five Bucks</td>\n",
       "      <td>10.0</td>\n",
       "      <td>2</td>\n",
       "    </tr>\n",
       "    <tr>\n",
       "      <th>4045</th>\n",
       "      <td>Dancer, Texas Pop. 81</td>\n",
       "      <td>10.0</td>\n",
       "      <td>1</td>\n",
       "    </tr>\n",
       "    <tr>\n",
       "      <th>4662</th>\n",
       "      <td>Little Big Top</td>\n",
       "      <td>10.0</td>\n",
       "      <td>1</td>\n",
       "    </tr>\n",
       "    <tr>\n",
       "      <th>3992</th>\n",
       "      <td>Sardaarji</td>\n",
       "      <td>9.5</td>\n",
       "      <td>2</td>\n",
       "    </tr>\n",
       "    <tr>\n",
       "      <th>2386</th>\n",
       "      <td>One Man's Hero</td>\n",
       "      <td>9.3</td>\n",
       "      <td>2</td>\n",
       "    </tr>\n",
       "    <tr>\n",
       "      <th>2970</th>\n",
       "      <td>There Goes My Baby</td>\n",
       "      <td>8.5</td>\n",
       "      <td>2</td>\n",
       "    </tr>\n",
       "    <tr>\n",
       "      <th>1881</th>\n",
       "      <td>The Shawshank Redemption</td>\n",
       "      <td>8.5</td>\n",
       "      <td>8205</td>\n",
       "    </tr>\n",
       "    <tr>\n",
       "      <th>2796</th>\n",
       "      <td>The Prisoner of Zenda</td>\n",
       "      <td>8.4</td>\n",
       "      <td>11</td>\n",
       "    </tr>\n",
       "    <tr>\n",
       "      <th>3337</th>\n",
       "      <td>The Godfather</td>\n",
       "      <td>8.4</td>\n",
       "      <td>5893</td>\n",
       "    </tr>\n",
       "  </tbody>\n",
       "</table>\n",
       "</div>"
      ],
      "text/plain": [
       "                         title  vote_average  vote_count\n",
       "3519          Stiff Upper Lips          10.0           1\n",
       "4247     Me You and Five Bucks          10.0           2\n",
       "4045     Dancer, Texas Pop. 81          10.0           1\n",
       "4662            Little Big Top          10.0           1\n",
       "3992                 Sardaarji           9.5           2\n",
       "2386            One Man's Hero           9.3           2\n",
       "2970        There Goes My Baby           8.5           2\n",
       "1881  The Shawshank Redemption           8.5        8205\n",
       "2796     The Prisoner of Zenda           8.4          11\n",
       "3337             The Godfather           8.4        5893"
      ]
     },
     "execution_count": 17,
     "metadata": {},
     "output_type": "execute_result"
    }
   ],
   "source": [
    "movies_df[['title','vote_average','vote_count']].sort_values('vote_average', ascending=False)[:10]"
   ]
  },
  {
   "cell_type": "markdown",
   "id": "94005b1f",
   "metadata": {},
   "source": [
    "-> 이름도 들어본 적 없는 영화가 유명한 영화보다 더 높은 평점. 이들은 모두 평가 횟수 매우 작음\n",
    "\n",
    "-> **평점에 평가 횟수를 반영할 필요성**\n",
    "\n",
    "-> 평가 횟수에 가중치가 부여된 평점\n",
    "$$가중평점 = \\frac{v}{v+m}*R+\\frac{m}{v+m}*c$$\n",
    "- v: 개별 영화에 평점 투표한 횟수\n",
    "- m: 평점 부여하기 위한 최소 투표 횟수 -> 가중치 직접 조절하는 역할\n",
    "- R: 개별 영화에 대한 평균 평점\n",
    "- C: 전체 영화에 대한 평균 평점"
   ]
  },
  {
   "cell_type": "code",
   "execution_count": 18,
   "id": "a3637c99",
   "metadata": {},
   "outputs": [
    {
     "name": "stdout",
     "output_type": "stream",
     "text": [
      "C: 6.092 m: 370.2\n"
     ]
    }
   ],
   "source": [
    "# m 높이면 평점 투표 횟수가 많은 영화에 더 많은 가중 평점 부여 -> 60%\n",
    "C = movies_df['vote_average'].mean()\n",
    "m = movies_df['vote_count'].quantile(0.6)\n",
    "print('C:',round(C,3), 'm:',round(m,3))"
   ]
  },
  {
   "cell_type": "code",
   "execution_count": 19,
   "id": "aa8a9e33",
   "metadata": {},
   "outputs": [],
   "source": [
    "# weighted_vote_average(): 기존 평점을 새로운 가중 평점으로 변경하는 함수\n",
    "percentile = 0.6\n",
    "m = movies_df['vote_count'].quantile(percentile)\n",
    "C = movies_df['vote_average'].mean()\n",
    "\n",
    "def weighted_vote_average(record):\n",
    "    v = record['vote_count']\n",
    "    R = record['vote_average']\n",
    "    \n",
    "    return ( (v/(v+m)) * R ) + ( (m/(m+v)) * C )   \n",
    "\n",
    "movies_df['weighted_vote'] = movies_df.apply(weighted_vote_average, axis=1) "
   ]
  },
  {
   "cell_type": "code",
   "execution_count": 20,
   "id": "b412a52c",
   "metadata": {},
   "outputs": [
    {
     "data": {
      "text/html": [
       "<div>\n",
       "<style scoped>\n",
       "    .dataframe tbody tr th:only-of-type {\n",
       "        vertical-align: middle;\n",
       "    }\n",
       "\n",
       "    .dataframe tbody tr th {\n",
       "        vertical-align: top;\n",
       "    }\n",
       "\n",
       "    .dataframe thead th {\n",
       "        text-align: right;\n",
       "    }\n",
       "</style>\n",
       "<table border=\"1\" class=\"dataframe\">\n",
       "  <thead>\n",
       "    <tr style=\"text-align: right;\">\n",
       "      <th></th>\n",
       "      <th>title</th>\n",
       "      <th>vote_average</th>\n",
       "      <th>weighted_vote</th>\n",
       "      <th>vote_count</th>\n",
       "    </tr>\n",
       "  </thead>\n",
       "  <tbody>\n",
       "    <tr>\n",
       "      <th>1881</th>\n",
       "      <td>The Shawshank Redemption</td>\n",
       "      <td>8.5</td>\n",
       "      <td>8.396052</td>\n",
       "      <td>8205</td>\n",
       "    </tr>\n",
       "    <tr>\n",
       "      <th>3337</th>\n",
       "      <td>The Godfather</td>\n",
       "      <td>8.4</td>\n",
       "      <td>8.263591</td>\n",
       "      <td>5893</td>\n",
       "    </tr>\n",
       "    <tr>\n",
       "      <th>662</th>\n",
       "      <td>Fight Club</td>\n",
       "      <td>8.3</td>\n",
       "      <td>8.216455</td>\n",
       "      <td>9413</td>\n",
       "    </tr>\n",
       "    <tr>\n",
       "      <th>3232</th>\n",
       "      <td>Pulp Fiction</td>\n",
       "      <td>8.3</td>\n",
       "      <td>8.207102</td>\n",
       "      <td>8428</td>\n",
       "    </tr>\n",
       "    <tr>\n",
       "      <th>65</th>\n",
       "      <td>The Dark Knight</td>\n",
       "      <td>8.2</td>\n",
       "      <td>8.136930</td>\n",
       "      <td>12002</td>\n",
       "    </tr>\n",
       "    <tr>\n",
       "      <th>1818</th>\n",
       "      <td>Schindler's List</td>\n",
       "      <td>8.3</td>\n",
       "      <td>8.126069</td>\n",
       "      <td>4329</td>\n",
       "    </tr>\n",
       "    <tr>\n",
       "      <th>3865</th>\n",
       "      <td>Whiplash</td>\n",
       "      <td>8.3</td>\n",
       "      <td>8.123248</td>\n",
       "      <td>4254</td>\n",
       "    </tr>\n",
       "    <tr>\n",
       "      <th>809</th>\n",
       "      <td>Forrest Gump</td>\n",
       "      <td>8.2</td>\n",
       "      <td>8.105954</td>\n",
       "      <td>7927</td>\n",
       "    </tr>\n",
       "    <tr>\n",
       "      <th>2294</th>\n",
       "      <td>Spirited Away</td>\n",
       "      <td>8.3</td>\n",
       "      <td>8.105867</td>\n",
       "      <td>3840</td>\n",
       "    </tr>\n",
       "    <tr>\n",
       "      <th>2731</th>\n",
       "      <td>The Godfather: Part II</td>\n",
       "      <td>8.3</td>\n",
       "      <td>8.079586</td>\n",
       "      <td>3338</td>\n",
       "    </tr>\n",
       "  </tbody>\n",
       "</table>\n",
       "</div>"
      ],
      "text/plain": [
       "                         title  vote_average  weighted_vote  vote_count\n",
       "1881  The Shawshank Redemption           8.5       8.396052        8205\n",
       "3337             The Godfather           8.4       8.263591        5893\n",
       "662                 Fight Club           8.3       8.216455        9413\n",
       "3232              Pulp Fiction           8.3       8.207102        8428\n",
       "65             The Dark Knight           8.2       8.136930       12002\n",
       "1818          Schindler's List           8.3       8.126069        4329\n",
       "3865                  Whiplash           8.3       8.123248        4254\n",
       "809               Forrest Gump           8.2       8.105954        7927\n",
       "2294             Spirited Away           8.3       8.105867        3840\n",
       "2731    The Godfather: Part II           8.3       8.079586        3338"
      ]
     },
     "execution_count": 20,
     "metadata": {},
     "output_type": "execute_result"
    }
   ],
   "source": [
    "# 상위 10개의 영화 추출\n",
    "movies_df[['title','vote_average','weighted_vote','vote_count']].sort_values('weighted_vote',\n",
    "                                                                          ascending=False)[:10]"
   ]
  },
  {
   "cell_type": "markdown",
   "id": "73f23b2d",
   "metadata": {},
   "source": [
    "<font color=magenta> 최종 추천 </font>\n",
    "영화'대부'"
   ]
  },
  {
   "cell_type": "code",
   "execution_count": 22,
   "id": "93d7b55b",
   "metadata": {
    "scrolled": true
   },
   "outputs": [
    {
     "data": {
      "text/html": [
       "<div>\n",
       "<style scoped>\n",
       "    .dataframe tbody tr th:only-of-type {\n",
       "        vertical-align: middle;\n",
       "    }\n",
       "\n",
       "    .dataframe tbody tr th {\n",
       "        vertical-align: top;\n",
       "    }\n",
       "\n",
       "    .dataframe thead th {\n",
       "        text-align: right;\n",
       "    }\n",
       "</style>\n",
       "<table border=\"1\" class=\"dataframe\">\n",
       "  <thead>\n",
       "    <tr style=\"text-align: right;\">\n",
       "      <th></th>\n",
       "      <th>title</th>\n",
       "      <th>vote_average</th>\n",
       "      <th>weighted_vote</th>\n",
       "    </tr>\n",
       "  </thead>\n",
       "  <tbody>\n",
       "    <tr>\n",
       "      <th>2731</th>\n",
       "      <td>The Godfather: Part II</td>\n",
       "      <td>8.3</td>\n",
       "      <td>8.079586</td>\n",
       "    </tr>\n",
       "    <tr>\n",
       "      <th>1847</th>\n",
       "      <td>GoodFellas</td>\n",
       "      <td>8.2</td>\n",
       "      <td>7.976937</td>\n",
       "    </tr>\n",
       "    <tr>\n",
       "      <th>3866</th>\n",
       "      <td>City of God</td>\n",
       "      <td>8.1</td>\n",
       "      <td>7.759693</td>\n",
       "    </tr>\n",
       "    <tr>\n",
       "      <th>1663</th>\n",
       "      <td>Once Upon a Time in America</td>\n",
       "      <td>8.2</td>\n",
       "      <td>7.657811</td>\n",
       "    </tr>\n",
       "    <tr>\n",
       "      <th>883</th>\n",
       "      <td>Catch Me If You Can</td>\n",
       "      <td>7.7</td>\n",
       "      <td>7.557097</td>\n",
       "    </tr>\n",
       "    <tr>\n",
       "      <th>281</th>\n",
       "      <td>American Gangster</td>\n",
       "      <td>7.4</td>\n",
       "      <td>7.141396</td>\n",
       "    </tr>\n",
       "    <tr>\n",
       "      <th>4041</th>\n",
       "      <td>This Is England</td>\n",
       "      <td>7.4</td>\n",
       "      <td>6.739664</td>\n",
       "    </tr>\n",
       "    <tr>\n",
       "      <th>1149</th>\n",
       "      <td>American Hustle</td>\n",
       "      <td>6.8</td>\n",
       "      <td>6.717525</td>\n",
       "    </tr>\n",
       "    <tr>\n",
       "      <th>1243</th>\n",
       "      <td>Mean Streets</td>\n",
       "      <td>7.2</td>\n",
       "      <td>6.626569</td>\n",
       "    </tr>\n",
       "    <tr>\n",
       "      <th>2839</th>\n",
       "      <td>Rounders</td>\n",
       "      <td>6.9</td>\n",
       "      <td>6.530427</td>\n",
       "    </tr>\n",
       "  </tbody>\n",
       "</table>\n",
       "</div>"
      ],
      "text/plain": [
       "                            title  vote_average  weighted_vote\n",
       "2731       The Godfather: Part II           8.3       8.079586\n",
       "1847                   GoodFellas           8.2       7.976937\n",
       "3866                  City of God           8.1       7.759693\n",
       "1663  Once Upon a Time in America           8.2       7.657811\n",
       "883           Catch Me If You Can           7.7       7.557097\n",
       "281             American Gangster           7.4       7.141396\n",
       "4041              This Is England           7.4       6.739664\n",
       "1149              American Hustle           6.8       6.717525\n",
       "1243                 Mean Streets           7.2       6.626569\n",
       "2839                     Rounders           6.9       6.530427"
      ]
     },
     "execution_count": 22,
     "metadata": {},
     "output_type": "execute_result"
    }
   ],
   "source": [
    "def find_sim_movie(df, sorted_ind, title_name, top_n=10):\n",
    "    title_movie = df[df['title'] == title_name]\n",
    "    title_index = title_movie.index.values\n",
    "    \n",
    "    # top_n의 2배에 해당하는 쟝르 유사성이 높은 index 추출 \n",
    "    similar_indexes = sorted_ind[title_index, :(top_n*2)]\n",
    "    similar_indexes = similar_indexes.reshape(-1)\n",
    "# 기준 영화 index는 제외\n",
    "    similar_indexes = similar_indexes[similar_indexes != title_index]\n",
    "    \n",
    "    # top_n의 2배에 해당하는 후보군에서 weighted_vote 높은 순으로 top_n 만큼 추출 \n",
    "    return df.iloc[similar_indexes].sort_values('weighted_vote', ascending=False)[:top_n]\n",
    "\n",
    "similar_movies = find_sim_movie(movies_df, genre_sim_sorted_ind, 'The Godfather',10)\n",
    "similar_movies[['title', 'vote_average', 'weighted_vote']]"
   ]
  },
  {
   "cell_type": "markdown",
   "id": "800d58be",
   "metadata": {},
   "source": [
    "-> 이전에 추천된 영화보다 훨씬 나은 영화 추천됨\n",
    "\n",
    "-> 한계: 개인이 좋아하는 성향을 반영하기에는 조금 부족할 수 있음"
   ]
  },
  {
   "cell_type": "markdown",
   "id": "ef22f3dd",
   "metadata": {},
   "source": [
    "## <font color = (blue)> 06. (실습2)아이템 기반 최근접 이웃 협업 필터링 실습 </font>"
   ]
  },
  {
   "cell_type": "markdown",
   "id": "340e1a21",
   "metadata": {},
   "source": [
    "최근접 이웃 협업 필터링: 사용자 기반 & 아이템 기반\n",
    "- 일반적으로 추천 정확도 뛰어난 **아이템 기반 협업 필터링**\n",
    "- Grouplens사이트에서 만든 MovieLens 데이터 세트: 십만 개의 평점 정보"
   ]
  },
  {
   "cell_type": "markdown",
   "id": "9b40a9e0",
   "metadata": {},
   "source": [
    "<font color=red> $\\otimes$ 데이터세트 다운 X -> 코드&결과만 확인 </font>"
   ]
  },
  {
   "cell_type": "markdown",
   "id": "1a338645",
   "metadata": {},
   "source": [
    "<font color=magenta> 1. 데이터 가공 및 변환 </font>"
   ]
  },
  {
   "cell_type": "code",
   "execution_count": null,
   "id": "bf8115cf",
   "metadata": {},
   "outputs": [],
   "source": [
    "import pandas as pd\n",
    "import numpy as np\n",
    "\n",
    "# movies.csv: 영화에 대한 메타 정보인 title과 genres를 가지고 있는 영화 정보\n",
    "movies = pd.read_csv('./ml-latest-small/movies.csv')\n",
    "# ratings.csv: 사용자별로 영화에 대한 평점 매긴 데이터 세트\n",
    "ratings = pd.read_csv('./ml-latest-small/ratings.csv')\n",
    "print(movies.shape)\n",
    "print(ratings.shape)"
   ]
  },
  {
   "cell_type": "markdown",
   "id": "1b679836",
   "metadata": {},
   "source": [
    "![image](https://user-images.githubusercontent.com/79856553/151739946-bf3c852e-6075-4d04-8564-112b9a509de4.png)"
   ]
  },
  {
   "cell_type": "markdown",
   "id": "326c6a66",
   "metadata": {},
   "source": [
    "![image](https://user-images.githubusercontent.com/79856553/151740073-7453bb79-690f-4b80-bf42-e2a73b636667.png)"
   ]
  },
  {
   "cell_type": "markdown",
   "id": "9ac4f55e",
   "metadata": {},
   "source": [
    "- 협업 필터링은 ratings.csv 데이터 세트와 같이 사용자와 아이템 간의 평점에 기반해 추천하는 시스템\n",
    "- 로우(행) 레벨 형태의 원본 데이터 세트를 다음 그림과 같이 **모든 사용자를 로우로**, **모든 영화를 칼럼으로** 구성한 데이터 세트로 변경해야 함"
   ]
  },
  {
   "cell_type": "markdown",
   "id": "0cfcffab",
   "metadata": {},
   "source": [
    "![image](https://user-images.githubusercontent.com/79856553/151740332-fc742966-eb32-4b9c-8865-99b8dc4b2172.png)"
   ]
  },
  {
   "cell_type": "code",
   "execution_count": null,
   "id": "061e7166",
   "metadata": {},
   "outputs": [],
   "source": [
    "# pivot_table(): 로우 레벨의 값을 칼럼으로 변경하는데 사용\n",
    "ratings = ratings[['userId', 'movieId', 'rating']]\n",
    "# 로우(행): userId, 칼럼(열): movieId값, 데이터: rating칼럼 값 으로 변경됨\n",
    "ratings_matrix = ratings.pivot_table('rating', index='userId', columns='movieId')\n",
    "ratings_matrix.head(3)"
   ]
  },
  {
   "cell_type": "markdown",
   "id": "392594e5",
   "metadata": {},
   "source": [
    "![image](https://user-images.githubusercontent.com/79856553/151740559-659e65b3-8840-422d-a1fd-ad323297d0bd.png)"
   ]
  },
  {
   "cell_type": "markdown",
   "id": "6c4db49a",
   "metadata": {},
   "source": [
    "-> 칼럼명이 영화 제목(title)이 아닌 숫자 값(1,2,3..)으로 할당돼있음\n",
    "\n",
    "-> 가독성 높이기 위해 칼럼명 movieId -> 영화명 title로 변경\n",
    "\n",
    "-> 영화명은 movies 데이터 세트에 존재: ratings와 movies 조인해 title 칼럼 가져온 뒤, pivot_table()의 인자로 columns에 'movieId'가 아닌 'title' 입력해 title로 pivot"
   ]
  },
  {
   "cell_type": "code",
   "execution_count": null,
   "id": "5c089d88",
   "metadata": {},
   "outputs": [],
   "source": [
    "# title 컬럼을 얻기 이해 movies 와 조인 수행\n",
    "rating_movies = pd.merge(ratings, movies, on='movieId')\n",
    "\n",
    "# columns='title' 로 title 컬럼으로 pivot 수행. \n",
    "ratings_matrix = rating_movies.pivot_table('rating', index='userId', columns='title')\n",
    "\n",
    "# NaN 값을 모두 0 으로 변환\n",
    "ratings_matrix = ratings_matrix.fillna(0)\n",
    "ratings_matrix.head(3)"
   ]
  },
  {
   "cell_type": "markdown",
   "id": "6d22b23d",
   "metadata": {},
   "source": [
    "![image](https://user-images.githubusercontent.com/79856553/151740838-42fe734a-0483-46d5-9f7d-c72d6116b657.png)"
   ]
  },
  {
   "cell_type": "markdown",
   "id": "b70f2b82",
   "metadata": {},
   "source": [
    "<font color=magenta> 2. 영화 간 유사도 산출 </font>\n",
    "- 영화 간 유사도: 코사인 유사도 기반. cosine_similarity()\n",
    "- ratings_matrix는 userId가 기준인 행 레벨 데이터이므로 아이템(영화) 기준으로 코사인 유사도를 적용하려면 ratings_matrix가 행 기준이 영화가 되어야함\n",
    "   - ratins_matrix 전치행렬: transpose()"
   ]
  },
  {
   "cell_type": "code",
   "execution_count": null,
   "id": "d0ff83ec",
   "metadata": {},
   "outputs": [],
   "source": [
    "# 전치행렬 만들기\n",
    "ratings_matrix_T = ratings_matrix.transpose()\n",
    "ratings_matrix_T.head(3)"
   ]
  },
  {
   "cell_type": "code",
   "execution_count": null,
   "id": "fbf54231",
   "metadata": {},
   "outputs": [],
   "source": [
    "# 코사인 유사도 구하기\n",
    "from sklearn.metrics.pairwise import cosine_similarity\n",
    "\n",
    "item_sim = cosine_similarity(ratings_matrix_T, ratings_matrix_T)\n",
    "\n",
    "# cosine_similarity() 로 반환된 넘파이 행렬을 영화명을 매핑하여 DataFrame으로 변환\n",
    "item_sim_df = pd.DataFrame(data=item_sim, index=ratings_matrix.columns,\n",
    "                          columns=ratings_matrix.columns)\n",
    "print(item_sim_df.shape)\n",
    "item_sim_df.head(3)"
   ]
  },
  {
   "cell_type": "markdown",
   "id": "d53fc07b",
   "metadata": {},
   "source": [
    "-> 유사도행렬 item_sim 생성됨"
   ]
  },
  {
   "cell_type": "code",
   "execution_count": null,
   "id": "ca85e4ce",
   "metadata": {},
   "outputs": [],
   "source": [
    "# 유사도 행렬을 df로 변환한 item_sim_df 이용해 영화 '대부'와 유사도 높은 상위 6개 영화 추출\n",
    "item_sim_df[\"Godfather, The (1972)\"].sort_values(ascending=False)[:6]"
   ]
  },
  {
   "cell_type": "markdown",
   "id": "9e28a3e9",
   "metadata": {},
   "source": [
    "- 콘텐츠 기반 필터링과 차이점\n",
    ": 장르가 완전히 다른 영화도 유사도가 매우 높게 나타남\n",
    "- 개인적 취향 반영X, 영화간의 유사도만 가지고 추천해줌"
   ]
  },
  {
   "cell_type": "markdown",
   "id": "49847b35",
   "metadata": {},
   "source": [
    "<font color=magenta> 3. 아이템 기반 최근접 이웃 협업 필터링으로 **개인화된 영화 추천** </font>\n",
    "- 아이템 기반 협업 필터링에서 개인화된 예측 평점 구하기\n",
    "$$\\hat{R}_{u,i} =\\frac{ \\sum N(S_{i,N} * R_{u,N})}{ \\sum N(|S_{i,N}|)}$$\n",
    "- $\\hat{R}_{u,i}$: 사용자 u, 아이템 i의 개인화된 예측 평점 값\n",
    "- $S_{i,N}$: 아이템 i와 가장 유사도 높은 Top_N개 아이템의 유사도 벡터\n",
    "- $R_{u,N}$: 사용자 u의 아이템 i와 가장 유사도 높은 Top_N개 아이템에 대한 실제 평점 벡터\n",
    "- N: 아이템의 최근접 이웃 범위 계수. 특정 아이템과 유사도가 가장 높은 Top-N개의 다른 아이템 추출하는 데 사용됨"
   ]
  },
  {
   "cell_type": "markdown",
   "id": "e91d025b",
   "metadata": {},
   "source": [
    "- 영화 간 유사도 가지는 item_sim_df\n",
    "- 사용자-영화 평점 df인 ratings_matrix\n",
    "- 두 가지 활용해 사용자별로 최적화된 평점 스코어 예측하는 함수 만들기 -> predict_rating()\n",
    "    - 인자로 넘파이 행렬 변환된 rating_matrix와 item_sim_df를 입력받아, \n",
    "    - $\\hat{R}_{u,i}$ 식으로 개인화된 예측 평점 계산"
   ]
  },
  {
   "cell_type": "code",
   "execution_count": null,
   "id": "88937aa0",
   "metadata": {},
   "outputs": [],
   "source": [
    "# 사용자별로 최적화된 평점 스코어 예측하는 함수\n",
    "def predict_rating(ratings_arr, item_sim_arr ):\n",
    "    ratings_pred = ratings_arr.dot(item_sim_arr)/ np.array([np.abs(item_sim_arr).sum(axis=1)])\n",
    "    return ratings_pred"
   ]
  },
  {
   "cell_type": "code",
   "execution_count": null,
   "id": "d2e5cfe6",
   "metadata": {},
   "outputs": [],
   "source": [
    "# 개인화된 예측 평점 구하기\n",
    "ratings_pred = predict_rating(ratings_matrix.values , item_sim_df.values)\n",
    "ratings_pred_matrix = pd.DataFrame(data=ratings_pred, index= ratings_matrix.index,\n",
    "                                   columns = ratings_matrix.columns)\n",
    "ratings_pred_matrix.head(3)"
   ]
  },
  {
   "cell_type": "code",
   "execution_count": null,
   "id": "9f6d9837",
   "metadata": {},
   "outputs": [],
   "source": [
    "# 예측 결과가 실제 평점과 얼마나 차이가 있는지 확인\n",
    "from sklearn.metrics import mean_squared_error\n",
    "\n",
    "# 사용자가 평점을 부여한 영화에 대해서만 예측 성능 평가 MSE 를 구함. \n",
    "def get_mse(pred, actual):\n",
    "    # Ignore nonzero terms.\n",
    "    pred = pred[actual.nonzero()].flatten()\n",
    "    actual = actual[actual.nonzero()].flatten()\n",
    "    return mean_squared_error(pred, actual)\n",
    "\n",
    "print('아이템 기반 모든 인접 이웃 MSE: ', get_mse(ratings_pred, ratings_matrix.values ))"
   ]
  },
  {
   "cell_type": "markdown",
   "id": "1f27ff16",
   "metadata": {},
   "source": [
    "- MSE 결과 약 9.89나옴\n",
    "- 실제값과 예측값은 서로 스케일이 다르기 때문에 MSE 클 수도 있음. 중요한건 감소시키는 방향으로 개선하는 것.\n",
    "\n",
    "\n",
    "-> 특정 영화와 **가장 비슷한 유사도를 가지는 영화에 대해서만** 유사도 벡터를 적용하는 함수로 변경\n",
    "- **predict_rating_topsim()**\n",
    "    - **N인자**를 가지고있어 TOP-N 유사도를 가지는 영화 유사도벡터만 예측값 계산하는데 적용\n",
    "    - 개별 예측값을 구하기위해 행,열별로 for루프를 반복 수행하기 때문에 **수행시간 오래걸림**"
   ]
  },
  {
   "cell_type": "code",
   "execution_count": null,
   "id": "abe572fa",
   "metadata": {},
   "outputs": [],
   "source": [
    "def predict_rating_topsim(ratings_arr, item_sim_arr, n=20):\n",
    "    # 사용자-아이템 평점 행렬 크기만큼 0으로 채운 예측 행렬 초기화\n",
    "    pred = np.zeros(ratings_arr.shape)\n",
    "\n",
    "    # 사용자-아이템 평점 행렬의 열 크기만큼 Loop 수행. \n",
    "    for col in range(ratings_arr.shape[1]):\n",
    "        # 유사도 행렬에서 유사도가 큰 순으로 n개 데이터 행렬의 index 반환\n",
    "        top_n_items = [np.argsort(item_sim_arr[:, col])[:-n-1:-1]]\n",
    "        # 개인화된 예측 평점을 계산\n",
    "        for row in range(ratings_arr.shape[0]):\n",
    "            pred[row, col] = item_sim_arr[col, :][top_n_items].dot(ratings_arr[row, :][top_n_items].T) \n",
    "            pred[row, col] /= np.sum(np.abs(item_sim_arr[col, :][top_n_items]))        \n",
    "    return pred"
   ]
  },
  {
   "cell_type": "code",
   "execution_count": null,
   "id": "60d2c018",
   "metadata": {},
   "outputs": [],
   "source": [
    "# 1. predict_rating_topsim() 함수 이용해 예측 평점 계산\n",
    "# 2. 실제 평점과의 MSE 구하기\n",
    "ratings_pred = predict_rating_topsim(ratings_matrix.values , item_sim_df.values, n=20)\n",
    "print('아이템 기반 인접 TOP-20 이웃 MSE: ', get_mse(ratings_pred, ratings_matrix.values ))\n",
    "\n",
    "\n",
    "# 계산된 예측 평점 데이터는 DataFrame으로 재생성\n",
    "ratings_pred_matrix = pd.DataFrame(data=ratings_pred, index= ratings_matrix.index,\n",
    "                                   columns = ratings_matrix.columns)"
   ]
  },
  {
   "cell_type": "markdown",
   "id": "2dc95372",
   "metadata": {},
   "source": [
    "- MSE 약3.69\n",
    "- 이전보다 향상됨"
   ]
  },
  {
   "cell_type": "code",
   "execution_count": null,
   "id": "fab487dc",
   "metadata": {},
   "outputs": [],
   "source": [
    "# 9번 사용자가 평점 준 영화 높은 순으로 나열\n",
    "user_rating_id = ratings_matrix.loc[9, :]\n",
    "user_rating_id[ user_rating_id > 0].sort_values(ascending=False)[:10]"
   ]
  },
  {
   "cell_type": "markdown",
   "id": "05e8bfff",
   "metadata": {},
   "source": [
    "![image](https://user-images.githubusercontent.com/79856553/151984419-19c5a731-e4d6-456a-b268-d6bb85947d97.png)"
   ]
  },
  {
   "cell_type": "markdown",
   "id": "9f675243",
   "metadata": {},
   "source": [
    "-> 전반적으로 흥행성 좋은 영화에 높은 평점 줌"
   ]
  },
  {
   "cell_type": "code",
   "execution_count": null,
   "id": "59535527",
   "metadata": {},
   "outputs": [],
   "source": [
    "# 사용자가 이미 평점을 준 영화를 제외하고 추천할 수 있도록 \n",
    "# 평점 주지 않은 영화를 리스트 객체로 반환하는 함수 생성\n",
    "def get_unseen_movies(ratings_matrix, userId):\n",
    "    # userId로 입력받은 사용자의 모든 영화정보 추출하여 Series로 반환함. \n",
    "    # 반환된 user_rating 은 영화명(title)을 index로 가지는 Series 객체임. \n",
    "    user_rating = ratings_matrix.loc[userId,:]\n",
    "    \n",
    "    # user_rating이 0보다 크면 기존에 관람한 영화임. 대상 index를 추출하여 list 객체로 만듬\n",
    "    already_seen = user_rating[ user_rating > 0].index.tolist()\n",
    "    \n",
    "    # 모든 영화명을 list 객체로 만듬. \n",
    "    movies_list = ratings_matrix.columns.tolist()\n",
    "    \n",
    "    # list comprehension으로 already_seen에 해당하는 movie는 movies_list에서 제외함. \n",
    "    unseen_list = [ movie for movie in movies_list if movie not in already_seen]\n",
    "    \n",
    "    return unseen_list"
   ]
  },
  {
   "cell_type": "code",
   "execution_count": null,
   "id": "d02fa186",
   "metadata": {},
   "outputs": [],
   "source": [
    "# 사용자가 영화의 평점을 주지 않은 추천 대상 영화 정보와\n",
    "# predict_rating_topsim()에서 추출한 사용자별 아이템 유사도에 기반한 예측 평점 데이터 세트 이용해\n",
    "# 최종적으로 사용자에게 영화 추천하는 함수\n",
    "def recomm_movie_by_userid(pred_df, userId, unseen_list, top_n=10):\n",
    "    # 예측 평점 DataFrame에서 사용자id index와 unseen_list로 들어온 영화명 컬럼을 추출하여\n",
    "    # 가장 예측 평점이 높은 순으로 정렬함. \n",
    "    recomm_movies = pred_df.loc[userId, unseen_list].sort_values(ascending=False)[:top_n]\n",
    "    return recomm_movies\n",
    "    \n",
    "# 사용자가 관람하지 않는 영화명 추출   \n",
    "unseen_list = get_unseen_movies(ratings_matrix, 9)\n",
    "\n",
    "# 아이템 기반의 인접 이웃 협업 필터링으로 영화 추천 \n",
    "recomm_movies = recomm_movie_by_userid(ratings_pred_matrix, 9, unseen_list, top_n=10)\n",
    "\n",
    "# 평점 데이타를 DataFrame으로 생성. \n",
    "recomm_movies = pd.DataFrame(data=recomm_movies.values,index=recomm_movies.index,columns=['pred_score'])\n",
    "recomm_movies"
   ]
  },
  {
   "cell_type": "markdown",
   "id": "0a88a3c3",
   "metadata": {},
   "source": [
    "![image](https://user-images.githubusercontent.com/79856553/151985044-b2c5702d-edb7-4a75-b46e-57a5602edfd5.png)"
   ]
  },
  {
   "cell_type": "markdown",
   "id": "633c345a",
   "metadata": {},
   "source": [
    "-> 다양하지만 높은 흥행성 가진 작품 추천됨"
   ]
  },
  {
   "cell_type": "markdown",
   "id": "b0dac8e6",
   "metadata": {},
   "source": [
    "## <font color = (blue)> 07. (실습3)행렬 분해를 이용한 잠재 요인 협업 필터링 실습 </font>"
   ]
  },
  {
   "cell_type": "markdown",
   "id": "80bf6f4a",
   "metadata": {},
   "source": [
    "1. SVD: 일반적으로 행렬 분해해 자주 사용됨\n",
    "    - 사용자-사이템 평점 행렬에는 사용자가 평점 매기지 않은 널 데이터가 많기 때문에 **주로 SGD나 ALS기반의 행렬 분해 이용**\n",
    "    - 여기서는 SGD기반 이용\n",
    "    \n",
    "    \n",
    "2. 4절의 \"잠재 요인 협업 필터링-확률적 경사 하강법을 이용한 행렬 분해\" 예제 코드 사용\n",
    "    - 단, 이번에는 행렬 분해 로직 부분을 함수로 만듦 -> matrix_factorization()\n",
    "    - **matrix_factorization**(R, K, steps=200, learning_rate=0.01, r_lambda=0.01)\n",
    "        - R: 원본 사용자-아이템 평점 행렬\n",
    "        - K: 잠재 요인의 차원의 수\n",
    "        - steps: SGD의 반복 횟수\n",
    "        - learning rate: 학습률\n",
    "        - r_lambda: L2 규제 계수"
   ]
  },
  {
   "cell_type": "markdown",
   "id": "56bf2dae",
   "metadata": {},
   "source": [
    "3. Suprise 이용한 추천 시스템 구축"
   ]
  },
  {
   "cell_type": "code",
   "execution_count": 25,
   "id": "bf37af40",
   "metadata": {},
   "outputs": [],
   "source": [
    "# 경사 하강법을 이횽한 행렬 분해\n",
    "import numpy as np\n",
    "from sklearn.metrics import mean_squared_error\n",
    "\n",
    "def get_rmse(R, P, Q, non_zeros):\n",
    "    error = 0\n",
    "    # 두개의 분해된 행렬 P와 Q.T의 내적 곱으로 예측 R 행렬 생성\n",
    "    full_pred_matrix = np.dot(P, Q.T)\n",
    "    \n",
    "    # 실제 R 행렬에서 널이 아닌 값의 위치 인덱스 추출하여 실제 R 행렬과 예측 행렬의 RMSE 추출\n",
    "    x_non_zero_ind = [non_zero[0] for non_zero in non_zeros]\n",
    "    y_non_zero_ind = [non_zero[1] for non_zero in non_zeros]\n",
    "    R_non_zeros = R[x_non_zero_ind, y_non_zero_ind]\n",
    "    \n",
    "    full_pred_matrix_non_zeros = full_pred_matrix[x_non_zero_ind, y_non_zero_ind]\n",
    "      \n",
    "    mse = mean_squared_error(R_non_zeros, full_pred_matrix_non_zeros)\n",
    "    rmse = np.sqrt(mse)\n",
    "    \n",
    "    return rmse"
   ]
  },
  {
   "cell_type": "code",
   "execution_count": 24,
   "id": "3c397643",
   "metadata": {},
   "outputs": [],
   "source": [
    "def matrix_factorization(R, K, steps=200, learning_rate=0.01, r_lambda = 0.01):\n",
    "    num_users, num_items = R.shape\n",
    "    # P와 Q 매트릭스의 크기를 지정하고 정규분포를 가진 랜덤한 값으로 입력합니다. \n",
    "    np.random.seed(1)\n",
    "    P = np.random.normal(scale=1./K, size=(num_users, K))\n",
    "    Q = np.random.normal(scale=1./K, size=(num_items, K))\n",
    "\n",
    "    break_count = 0\n",
    "       \n",
    "    # R > 0 인 행 위치, 열 위치, 값을 non_zeros 리스트 객체에 저장. \n",
    "    non_zeros = [ (i, j, R[i,j]) for i in range(num_users) for j in range(num_items) if R[i,j] > 0 ]\n",
    "   \n",
    "    # SGD기법으로 P와 Q 매트릭스를 계속 업데이트. \n",
    "    for step in range(steps):\n",
    "        for i, j, r in non_zeros:\n",
    "            # 실제 값과 예측 값의 차이인 오류 값 구함\n",
    "            eij = r - np.dot(P[i, :], Q[j, :].T)\n",
    "            # Regularization을 반영한 SGD 업데이트 공식 적용\n",
    "            P[i,:] = P[i,:] + learning_rate*(eij * Q[j, :] - r_lambda*P[i,:])\n",
    "            Q[j,:] = Q[j,:] + learning_rate*(eij * P[i, :] - r_lambda*Q[j,:])\n",
    "       \n",
    "        rmse = get_rmse(R, P, Q, non_zeros)\n",
    "        if (step % 10) == 0 :\n",
    "            print(\"### iteration step : \", step,\" rmse : \", rmse)\n",
    "            \n",
    "    return P, Q"
   ]
  },
  {
   "cell_type": "code",
   "execution_count": null,
   "id": "0b5ccec1",
   "metadata": {},
   "outputs": [],
   "source": [
    "# 영화 평점 데이터 새롭게 df 로딩 & 사용자-아이템 평점 행렬 만들기\n",
    "import pandas as pd\n",
    "import numpy as np\n",
    "\n",
    "movies = pd.read_csv('./ml-latest-small/movies.csv')\n",
    "ratings = pd.read_csv('./ml-latest-small/ratings.csv')\n",
    "ratings = ratings[['userId', 'movieId', 'rating']]\n",
    "ratings_matrix = ratings.pivot_table('rating', index='userId', columns='movieId')\n",
    "\n",
    "# title 컬럼을 얻기 이해 movies 와 조인 수행\n",
    "rating_movies = pd.merge(ratings, movies, on='movieId')\n",
    "\n",
    "# columns='title' 로 title 컬럼으로 pivot 수행. \n",
    "ratings_matrix = rating_movies.pivot_table('rating', index='userId', columns='title')"
   ]
  },
  {
   "cell_type": "code",
   "execution_count": null,
   "id": "30e73e3c",
   "metadata": {},
   "outputs": [],
   "source": [
    "# matrix_factorization() 함수 이용해 행렬 분해\n",
    "# 시간 오래걸리므로 steop(SGD 반복횟수) 200으로 지정\n",
    "P, Q = matrix_factorization(ratings_matrix.values, K=50, steps=200, learning_rate=0.01, r_lambda = 0.01)\n",
    "pred_matrix = np.dot(P, Q.T)"
   ]
  },
  {
   "cell_type": "markdown",
   "id": "9cd9d3f2",
   "metadata": {},
   "source": [
    "![image](https://user-images.githubusercontent.com/79856553/151985892-4a22f0dc-eb76-47ef-8298-c09548aead63.png)"
   ]
  },
  {
   "cell_type": "code",
   "execution_count": null,
   "id": "99e3a6af",
   "metadata": {},
   "outputs": [],
   "source": [
    "# 사용자-아이템 평점 행렬을 영화 타이틀을 칼럼명으로 가지는 df로 변경\n",
    "ratings_pred_matrix = pd.DataFrame(data=pred_matrix, index= ratings_matrix.index,\n",
    "                                   columns = ratings_matrix.columns)\n",
    "\n",
    "ratings_pred_matrix.head(3)"
   ]
  },
  {
   "cell_type": "markdown",
   "id": "c676a45b",
   "metadata": {},
   "source": [
    "![image](https://user-images.githubusercontent.com/79856553/151986065-5e57b972-e43e-4241-b04e-3b8109f16e83.png)"
   ]
  },
  {
   "cell_type": "code",
   "execution_count": null,
   "id": "20675377",
   "metadata": {},
   "outputs": [],
   "source": [
    "# 사용자가 관람하지 않는 영화명 추출   \n",
    "unseen_list = get_unseen_movies(ratings_matrix, 9)\n",
    "\n",
    "# 아이템 기반의 인접 이웃 협업 필터링으로 영화 추천 \n",
    "recomm_movies = recomm_movie_by_userid(ratings_pred_matrix, 9, unseen_list, top_n=10)\n",
    "\n",
    "# 평점 데이타를 DataFrame으로 생성. \n",
    "recomm_movies = pd.DataFrame(data=recomm_movies.values,index=recomm_movies.index,columns=['pred_score'])\n",
    "recomm_movies"
   ]
  },
  {
   "cell_type": "markdown",
   "id": "4d053bac",
   "metadata": {},
   "source": [
    "![image](https://user-images.githubusercontent.com/79856553/151986261-32912bab-5ddf-48f6-9c1c-8df9da2aa345.png)"
   ]
  },
  {
   "cell_type": "markdown",
   "id": "090d0bfe",
   "metadata": {},
   "source": [
    "## 08. 파이썬 추천 시스템 패키지 - Surprise"
   ]
  },
  {
   "cell_type": "markdown",
   "id": "ed8a42da",
   "metadata": {},
   "source": [
    "1. Surprise 패키지\n",
    "    - 파이썬 기반의 **추천 시스템 구축**을 위한 전용 패키지 중 하나\n",
    "    - 파이썬 기반에서 사이킷런과 유사한 API와 프레임워크 제공\n",
    "    - conda나 pip통해 설치\n",
    "    \n",
    "\n",
    "2. Suprise 패키지 **장점**\n",
    "    - **다양한 추천 알고리즘**: 사용자 또는 아이템 기반 최근접 이웃 필터링, SVD, SVD++, NMF 기반의 잠재 요인 협업 필터링을 쉽게 적용해 추천 시스템 구축할 수 있음\n",
    "    - Surprise의 핵심 API는 사이킷런의 핵심 API와 유사한 API명 가짐\n",
    "        - fit(), predict(), train_test_split(), cross_validate(), GridSearchCV클래스"
   ]
  },
  {
   "cell_type": "markdown",
   "id": "b04e2da2",
   "metadata": {},
   "source": [
    "![image](https://user-images.githubusercontent.com/79856553/151738466-7ecd0e79-02c4-45e0-9b8e-63dcdbb4a1fe.png)"
   ]
  },
  {
   "cell_type": "markdown",
   "id": "f3cc9768",
   "metadata": {},
   "source": [
    "3. Surprise를 이용한 추천 시스템 구축"
   ]
  },
  {
   "cell_type": "code",
   "execution_count": 27,
   "id": "bcb01ecd",
   "metadata": {},
   "outputs": [],
   "source": [
    "# Surprise 관련 모듈 임포트\n",
    "from surprise import SVD\n",
    "from surprise import Dataset \n",
    "from surprise import accuracy \n",
    "from surprise.model_selection import train_test_split"
   ]
  },
  {
   "cell_type": "code",
   "execution_count": 28,
   "id": "ad145ac0",
   "metadata": {},
   "outputs": [
    {
     "name": "stdout",
     "output_type": "stream",
     "text": [
      "Dataset ml-100k could not be found. Do you want to download it? [Y/n] y\n",
      "Trying to download dataset from http://files.grouplens.org/datasets/movielens/ml-100k.zip...\n",
      "Done! Dataset ml-100k has been saved to C:\\Users\\USER/.surprise_data/ml-100k\n"
     ]
    }
   ],
   "source": [
    "# 추천을 위한 데이터 세트 로딩\n",
    "# -> Surprise에서 데이터 로딩은 Dataset클래스를 이용해서만 가능\n",
    "data = Dataset.load_builtin('ml-100k') \n",
    "trainset, testset = train_test_split(data, test_size=.25, random_state=0) "
   ]
  },
  {
   "cell_type": "markdown",
   "id": "ead39438",
   "metadata": {},
   "source": [
    "- ml-100k: 무비렌즈 사이트에서 제공하는 과거 버전 데이터 세트. 10만개 평점 데이터\n",
    "- 로컬 디렉터리에 데이터 저장된 후에는 사이트에 접속하지 않고 저장된 데이터 로딩\n",
    "    - Dataset.load_builtin('ml-100k')\n",
    "- 주의)과거 버전 데이터 세트: 칼럼 분리문자가 콤마가 아닌 탭(\\t)"
   ]
  },
  {
   "cell_type": "code",
   "execution_count": 30,
   "id": "86d993dd",
   "metadata": {},
   "outputs": [
    {
     "data": {
      "text/plain": [
       "<surprise.prediction_algorithms.matrix_factorization.SVD at 0x1d937e49be0>"
      ]
     },
     "execution_count": 30,
     "metadata": {},
     "output_type": "execute_result"
    }
   ],
   "source": [
    "# 알고리즘 객체 생성 & 학습\n",
    "algo = SVD()\n",
    "algo.fit(trainset) "
   ]
  },
  {
   "cell_type": "code",
   "execution_count": 31,
   "id": "c4dcecbc",
   "metadata": {},
   "outputs": [
    {
     "name": "stdout",
     "output_type": "stream",
     "text": [
      "prediction type : <class 'list'>  size: 25000\n",
      "prediction 결과의 최초 5개 추출\n"
     ]
    },
    {
     "data": {
      "text/plain": [
       "[Prediction(uid='120', iid='282', r_ui=4.0, est=3.386932093447826, details={'was_impossible': False}),\n",
       " Prediction(uid='882', iid='291', r_ui=4.0, est=3.8147246721394614, details={'was_impossible': False}),\n",
       " Prediction(uid='535', iid='507', r_ui=5.0, est=3.9161230361701462, details={'was_impossible': False}),\n",
       " Prediction(uid='697', iid='244', r_ui=5.0, est=3.7186230640100977, details={'was_impossible': False}),\n",
       " Prediction(uid='751', iid='385', r_ui=4.0, est=3.351433998597597, details={'was_impossible': False})]"
      ]
     },
     "execution_count": 31,
     "metadata": {},
     "output_type": "execute_result"
    }
   ],
   "source": [
    "# test(): 입력된 데이터 세트에 대해 추천 데이터 세트 만들어줌\n",
    "# predict(): 개별 사용자와 영화에 대한 추천 평점 반환\n",
    "predictions = algo.test( testset )\n",
    "print('prediction type :',type(predictions), ' size:',len(predictions))\n",
    "print('prediction 결과의 최초 5개 추출')\n",
    "predictions[:5]"
   ]
  },
  {
   "cell_type": "markdown",
   "id": "dec5f084",
   "metadata": {},
   "source": [
    "##### * test() 호출 결과\n",
    "- **파이썬 리스트**\n",
    "- 크기: 입력 인자 데이터 세트 크기와 같은 25,000개\n",
    "- 호출 결과로 반환된 리스트 객체는 25,000개의 Prediction 객체를 내부에 가지고 있음\n",
    "    - **Prediction객체**: surprise 패키지에서 제공하는 데이터 타입\n",
    "        - 개별 사용자 아이디, 영화 아이디, 실제 평점 정보에 기반해 Surprise의 추천 예측 평점 데이터를 튜플 형태로 가지고 있음\n",
    "    - **Prediction 객체의 details 속성**: 내부 처리 시 추천 예측할 수 없는 경우 로그 남기는데 사용\n",
    "         - details={'was_impossible': True}: 예측값 생성할 수 없는 데이터"
   ]
  },
  {
   "cell_type": "code",
   "execution_count": 32,
   "id": "d25a277c",
   "metadata": {},
   "outputs": [
    {
     "data": {
      "text/plain": [
       "[('120', '282', 3.386932093447826),\n",
       " ('882', '291', 3.8147246721394614),\n",
       " ('535', '507', 3.9161230361701462)]"
      ]
     },
     "execution_count": 32,
     "metadata": {},
     "output_type": "execute_result"
    }
   ],
   "source": [
    "# Prediction 객체에서 uid, iid, est 속성 추출\n",
    "[ (pred.uid, pred.iid, pred.est) for pred in predictions[:3] ]"
   ]
  },
  {
   "cell_type": "code",
   "execution_count": 33,
   "id": "ffdb37e6",
   "metadata": {},
   "outputs": [
    {
     "name": "stdout",
     "output_type": "stream",
     "text": [
      "user: 196        item: 302        r_ui = None   est = 4.17   {'was_impossible': False}\n"
     ]
    }
   ],
   "source": [
    "# 사용자 아이디, 아이템 아이디는 문자열로 입력해야 함. \n",
    "uid = str(196)\n",
    "iid = str(302)\n",
    "pred = algo.predict(uid, iid)\n",
    "print(pred)"
   ]
  },
  {
   "cell_type": "markdown",
   "id": "c53e83ed",
   "metadata": {},
   "source": [
    "##### * predict()\n",
    "- 개별 사용자의 아이템에 대한 추천 평점 예측 -> est로 반환\n",
    "- **test()메서드는** 입력 데이터 세트의 모든 사용자와 아이템 아이디에 대해서 **predict()를 반복적으로 수행한 결과**라고 생각하면 이해하기 쉬움\n"
   ]
  },
  {
   "cell_type": "code",
   "execution_count": 34,
   "id": "f170179a",
   "metadata": {},
   "outputs": [
    {
     "name": "stdout",
     "output_type": "stream",
     "text": [
      "RMSE: 0.9482\n"
     ]
    },
    {
     "data": {
      "text/plain": [
       "0.9481869292906402"
      ]
     },
     "execution_count": 34,
     "metadata": {},
     "output_type": "execute_result"
    }
   ],
   "source": [
    "# 추천 예측 평점과 실제 평점과의 차이 평가\n",
    "# Surpreise accuracy 모듈은 RMSE, MSE 등 제공\n",
    "accuracy.rmse(predictions)"
   ]
  },
  {
   "cell_type": "markdown",
   "id": "627eea70",
   "metadata": {},
   "source": [
    "4. Surprise 주요 모듈 소개\n",
    "    - **Dataset**: Suprise는 user_id, item_id, rating 데이터가 로우 레벨로 된 데이터 세트만 적용할 수 있음\n",
    "    - 데이터 세트의 칼럼 순서가 사용자 아이디, 아이템 아이디, 평점 순으로 돼 있어야 함\n",
    "    1. Dataset.load_builtin: 무비렌즈 아카이브 FTP 서버에서 무비렌즈 데이터 다운\n",
    "    2. Dataset.load_from_file: OS 파일에서 데이터 로딩할 때 사용\n",
    "        - 입력 파라미터로 os파일명, reader로 파일의 포맷 지정\n",
    "    3. Dataset.load_from_df: 판다스의 DataFrame에서 데이터 로딩\n",
    "        - df는 반드시 3개의 칼럼 user_id, item_df, rating 순\n",
    "        - 입력 파라미터로 df객체, reader로 파일 포맷 지정"
   ]
  },
  {
   "cell_type": "markdown",
   "id": "08f0e6f1",
   "metadata": {},
   "source": [
    "##### <font color=magenta> OS 파일 데이터를 Surprise 데이터 세트로 로딩 </font>\n",
    "<font color=red>-> Grouplens 사이트 접속 불가(ratings.csv, movies.csv)</font>"
   ]
  },
  {
   "cell_type": "markdown",
   "id": "9d88b563",
   "metadata": {},
   "source": [
    "Surprise에 OS 파일 로딩 시 주의점\n",
    "- 데이터 파일에 칼럼명 가지는 헤더 문자열 있으면 안됨\n",
    "- ratings.csv 파일 칼럼명 헤더로 가짐 -> to_csv() 이용해 헤더 삭제"
   ]
  },
  {
   "cell_type": "code",
   "execution_count": null,
   "id": "c9b2b6e2",
   "metadata": {},
   "outputs": [],
   "source": [
    "import pandas as pd\n",
    "\n",
    "ratings = pd.read_csv('./ml-latest-small/ratings.csv')\n",
    "# ratings_noh.csv 파일로 unload 시 index 와 header를 모두 제거한 새로운 파일 생성.  \n",
    "ratings.to_csv('./ml-latest-small/ratings_noh.csv', index=False, header=False)"
   ]
  },
  {
   "cell_type": "markdown",
   "id": "624e932a",
   "metadata": {},
   "source": [
    "1) Reader 클래스 이용해 데이터 파일의 파싱 포맷 정의\n",
    "\n",
    "\n",
    "2) Reader 클래스 생성자에 각 필드의 칼럼명, 칼럼 분리문자, 최소~최대 평점 입력해 객체 생성\n",
    "\n",
    "\n",
    "3) load_from_file()로 생성된 Reader객체 참조에 데이터 파일 파싱하면서 로딩"
   ]
  },
  {
   "cell_type": "code",
   "execution_count": null,
   "id": "3e7a2b92",
   "metadata": {},
   "outputs": [],
   "source": [
    "from surprise import Reader\n",
    "\n",
    "reader = Reader(line_format='user item rating timestamp', sep=',', rating_scale=(0.5, 5))\n",
    "data=Dataset.load_from_file('./ml-latest-small/ratings_noh.csv',reader=reader)"
   ]
  },
  {
   "cell_type": "markdown",
   "id": "6e760e0f",
   "metadata": {},
   "source": [
    "** Reader 클래스 주요 생성 파라미터\n",
    "1) **line_format(string)**: 칼럼 순서대로 나열. 입력된 문자열 공백으로 분리해 칼럼 인식\n",
    "\n",
    "2) **sep(char)**: 칼럼 분리하는 분리자. 디폴트는 \\t. 판다스 df에서 입력받을 경우 기재할 필요 없음\n",
    "\n",
    "3) **rating_scale(tuple, optional)**: 평점 값의 최소~최대 평점 설정. 디폴트 (1,5)"
   ]
  },
  {
   "cell_type": "code",
   "execution_count": null,
   "id": "fafe4444",
   "metadata": {},
   "outputs": [],
   "source": [
    "# SVD 행렬 분해 기법 이용해 추천 예측\n",
    "trainset, testset = train_test_split(data, test_size=.25, random_state=0)\n",
    "\n",
    "# 수행시마다 동일한 결과 도출을 위해 random_state 설정 \n",
    "algo = SVD(n_factors=50, random_state=0)\n",
    "\n",
    "# 학습 데이터 세트로 학습 후 테스트 데이터 세트로 평점 예측 후 RMSE 평가\n",
    "algo.fit(trainset) \n",
    "predictions = algo.test( testset )\n",
    "accuracy.rmse(predictions)"
   ]
  },
  {
   "cell_type": "markdown",
   "id": "6184a5bf",
   "metadata": {},
   "source": [
    "##### <font color=magenta> 판다스 DataFrame에서 Surprise 데이터 세트로 로딩 </font>\n",
    "- 사용자아이디, 아이템아이디, 평점 칼럼 순서 주의"
   ]
  },
  {
   "cell_type": "code",
   "execution_count": null,
   "id": "b4214595",
   "metadata": {},
   "outputs": [],
   "source": [
    "import pandas as pd\n",
    "from surprise import Reader, Dataset\n",
    "\n",
    "ratings = pd.read_csv('./ml-latest-small/ratings.csv') \n",
    "reader = Reader(rating_scale=(0.5, 5.0))\n",
    "\n",
    "# ratings DataFrame 에서 컬럼은 사용자 아이디, 아이템 아이디, 평점 순서를 지켜야 합니다. \n",
    "data = Dataset.load_from_df(ratings[['userId', 'movieId', 'rating']], reader)\n",
    "trainset, testset = train_test_split(data, test_size=.25, random_state=0)\n",
    "\n",
    "algo = SVD(n_factors=50, random_state=0)\n",
    "algo.fit(trainset) \n",
    "predictions = algo.test( testset )\n",
    "accuracy.rmse(predictions)"
   ]
  },
  {
   "cell_type": "markdown",
   "id": "3c4ef451",
   "metadata": {},
   "source": [
    "5. Surprise 추천 알고리즘 클래스\n",
    "    1. **SVD**: 행렬 분해를 통한 잠재 요인 협업 필터링을 위한 SVD 알고리즘\n",
    "        1. SVD 클래스의 입력 파라미터\n",
    "            - **n_factors**: 잠재요인 K의 개수. **디폴트 100**. 커질수록 정확도 높음/과적합 주의\n",
    "            - **n_epochs**: SGD 수행 시 반복 횟수. **디폴트 20**\n",
    "            - **biased(bool)**: 베이스라인 사용자 편향 적용 여부. **디폴트 True**\n",
    "        2. Surprise SVD의 비용 함수: 사용자 베이스라인 편향성을 감안한 평점 예측에 Regularization 적용한 것         \n",
    "    2. **KNNBasic**: 최근접 이웃 협업 필터링을 위한 KNN 알고리즘\n",
    "    3. **BaselineOnly**: 사용자 Bias와 아이템 Bias를 감안한 SGD 베이스라인 알고리즘"
   ]
  },
  {
   "cell_type": "markdown",
   "id": "27339b3c",
   "metadata": {},
   "source": [
    "![image](https://user-images.githubusercontent.com/79856553/151997969-625c0cfd-e0b9-4cbd-a63d-e3707b6b6e04.png)"
   ]
  },
  {
   "cell_type": "markdown",
   "id": "ef406849",
   "metadata": {},
   "source": [
    "-> 추천 알고리즘 예측 성능 벤치마크 결과\n",
    "- SVD++ 알고리즘이 RMSE, MAE 성적 가장 좋지만, 상대적으로 시간 오래걸림\n",
    "- SVD, K-NN Baseline 다음으로 성능 평가 수치 좋음\n",
    "    - Baseline: 각 개인이 평점을 부여하는 성향을 반영해 평점을 계산하는 방식\n",
    "    - K-NN 자체는 성능 상대적으로 떨어지지만 Baseline 결합해 대폭 향상"
   ]
  },
  {
   "cell_type": "markdown",
   "id": "449c91e5",
   "metadata": {},
   "source": [
    "6. 베이스라인 평점\n",
    ": 개인의 성향을 반영해 아이템 평가에 편향성 요소를 반영하여 평점을 부과하는 것\n",
    "    - 어떤 사람은 엄격한 잣대로 평가하고, 어떤 사람은 수고한 강사를 생각해 별로였어도 좋은 점수를 주기도 함\n",
    "- 베이스 라인 평점 공식: 전체 평균 평점 + 사용자 편향 점수 + 아이템 평향 점수\n",
    "    - 전체 평균 평점: 모든 사용자 아이템에 대한 평점 평균한 값\n",
    "    - 사용자 편향 점수: 사용자별 아이템 평점 평균 값 - 전체 평균 평점\n",
    "    - 아이템 평향 점수: 아이템별 평점 평균 값 - 전체 평균 평점"
   ]
  },
  {
   "cell_type": "markdown",
   "id": "51046809",
   "metadata": {},
   "source": [
    "![image](https://user-images.githubusercontent.com/79856553/151999327-703b3062-b156-494b-97d8-4b2c23aa0ffe.png)"
   ]
  },
  {
   "cell_type": "markdown",
   "id": "43a4a249",
   "metadata": {},
   "source": [
    "-> 영화 평점 베이스라인 평점 고려해 적용\n",
    "- 전체 평균 평점: 3.5, 어벤저스3편의 평균 평점: 4.2 일 때\n",
    "- 전체 평균 평점 = 3.5\n",
    "- 사용자 편향 점수 = 3.0-3.5=-0.5\n",
    "- 아이템 편향 점수 = 4.2-3.5=0.7\n",
    "- **베이스라인 평점 = 3.5 - 0.5 + 0.7 = 3.7**"
   ]
  },
  {
   "cell_type": "markdown",
   "id": "8020dea6",
   "metadata": {},
   "source": [
    "7. 교차 검증과 하이퍼 파라미터 튜닝\n",
    ": Surprise는 교차 검증과 하이퍼 파라미터 튜닝 위해 사이킷런과 유사한 cross_validate()와 gridSearchCV 클래스 제공\n",
    "   1. **교차 검증 cross_validate()**\n",
    "       - surprise.model_selection 모듈 내에 존재\n",
    "       - 폴드된 데이터 세트의 개수와 성능 측정 방법 명시해 교차 검증 수행"
   ]
  },
  {
   "cell_type": "code",
   "execution_count": null,
   "id": "fde47cfd",
   "metadata": {},
   "outputs": [],
   "source": [
    "# cross_validate() 이용해 ratings.csv를 df로 로딩한 데이터 교차검증 수행, 성능평가\n",
    "from surprise.model_selection import cross_validate \n",
    "\n",
    "# Pandas DataFrame에서 Surprise Dataset으로 데이터 로딩 \n",
    "ratings = pd.read_csv('./ml-latest-small/ratings.csv') # reading data in pandas df\n",
    "reader = Reader(rating_scale=(0.5, 5.0))\n",
    "data = Dataset.load_from_df(ratings[['userId', 'movieId', 'rating']], reader)\n",
    "\n",
    "algo = SVD(random_state=0) \n",
    "cross_validate(algo, data, measures=['RMSE', 'MAE'], cv=5, verbose=True) "
   ]
  },
  {
   "cell_type": "markdown",
   "id": "0bbe14c8",
   "metadata": {},
   "source": [
    "![image](https://user-images.githubusercontent.com/79856553/152001135-0f857136-25b4-4429-abeb-98699a9d0b8a.png)"
   ]
  },
  {
   "cell_type": "markdown",
   "id": "fca3ad52",
   "metadata": {},
   "source": [
    "B. **하이퍼 파라미터 튜닝 GridSearchCV**\n",
    "- 사이킷런에서와 유사하게 교차 검증 통한 하이퍼 파라미터 최적화 수행\n",
    "- SVD의 경우 주로 점진적 하강 방식의 반복횟수 지정하는 n_epochs와 SVD의 잠재 요인 K의 크기를 지정하는 n_factors 튜닝"
   ]
  },
  {
   "cell_type": "code",
   "execution_count": null,
   "id": "dc8d9d4e",
   "metadata": {},
   "outputs": [],
   "source": [
    "from surprise.model_selection import GridSearchCV\n",
    "\n",
    "# 최적화할 파라미터들을 딕셔너리 형태로 지정. \n",
    "param_grid = {'n_epochs': [20, 40, 60], 'n_factors': [50, 100, 200] }\n",
    "\n",
    "# CV를 3개 폴드 세트로 지정, 성능 평가는 rmse, mse 로 수행 하도록 GridSearchCV 구성\n",
    "gs = GridSearchCV(SVD, param_grid, measures=['rmse', 'mae'], cv=3)\n",
    "gs.fit(data)\n",
    "\n",
    "# 최고 RMSE Evaluation 점수와 그때의 하이퍼 파라미터\n",
    "print(gs.best_score['rmse'])\n",
    "print(gs.best_params['rmse'])"
   ]
  },
  {
   "cell_type": "markdown",
   "id": "ec1a3943",
   "metadata": {},
   "source": [
    "![image](https://user-images.githubusercontent.com/79856553/152001580-267fa6eb-4b53-4d9e-9c06-69203f4d8b96.png)"
   ]
  },
  {
   "cell_type": "markdown",
   "id": "e7fea2e5",
   "metadata": {},
   "source": [
    "8. Surprise를 이용한 개인화 영화 추천 시스템 구축\n",
    "- ratings.csv 데이터를 학습 데이터와 테스트 데이터로 분리하지 않고 전체 학습 데이터로 사용\n",
    "- 데이터 세트 전체를 학습 데이터로 사용하려면 **DatasetAutoFolds 클래스** 이용"
   ]
  },
  {
   "cell_type": "code",
   "execution_count": null,
   "id": "922932d1",
   "metadata": {},
   "outputs": [],
   "source": [
    "from surprise.dataset import DatasetAutoFolds\n",
    "\n",
    "reader = Reader(line_format='user item rating timestamp', sep=',', rating_scale=(0.5, 5))\n",
    "# DatasetAutoFolds 클래스를 ratings_noh.csv 파일 기반으로 생성. \n",
    "data_folds = DatasetAutoFolds(ratings_file='./ml-latest-small/ratings_noh.csv', reader=reader)\n",
    "\n",
    "#전체 데이터를 학습데이터로 생성함. \n",
    "trainset = data_folds.build_full_trainset()"
   ]
  },
  {
   "cell_type": "code",
   "execution_count": null,
   "id": "bd4632b9",
   "metadata": {},
   "outputs": [],
   "source": [
    "# SVD 학습 수행\n",
    "algo = SVD(n_epochs=20, n_factors=50, random_state=0)\n",
    "algo.fit(trainset)"
   ]
  },
  {
   "cell_type": "code",
   "execution_count": null,
   "id": "1ea708fc",
   "metadata": {},
   "outputs": [],
   "source": [
    "# 영화에 대한 상세 속성 정보 DataFrame로딩\n",
    "movies = pd.read_csv('./ml-latest-small/movies.csv')\n",
    "\n",
    "# userId=9 의 movieId 데이터 추출하여 movieId=42 데이터가 있는지 확인. \n",
    "movieIds = ratings[ratings['userId']==9]['movieId']\n",
    "if movieIds[movieIds==42].count() == 0:\n",
    "    print('사용자 아이디 9는 영화 아이디 42의 평점 없음')\n",
    "\n",
    "print(movies[movies['movieId']==42])"
   ]
  },
  {
   "cell_type": "code",
   "execution_count": null,
   "id": "63d57c0b",
   "metadata": {},
   "outputs": [],
   "source": [
    "# 학습된 SVD 객체에서 predict() 메서드 내에 userId와 movieId값 입력 -> 문자열\n",
    "uid = str(9)\n",
    "iid = str(42)\n",
    "\n",
    "pred = algo.predict(uid, iid, verbose=True)"
   ]
  },
  {
   "cell_type": "code",
   "execution_count": null,
   "id": "a07c0b2f",
   "metadata": {},
   "outputs": [],
   "source": [
    "# 아이디 9인 사용자가 아직 평점 매기지 않은 영화 정보 반환\n",
    "def get_unseen_surprise(ratings, movies, userId):\n",
    "    #입력값으로 들어온 userId에 해당하는 사용자가 평점을 매긴 모든 영화를 리스트로 생성\n",
    "    seen_movies = ratings[ratings['userId']== userId]['movieId'].tolist()\n",
    "    \n",
    "    # 모든 영화들의 movieId를 리스트로 생성. \n",
    "    total_movies = movies['movieId'].tolist()\n",
    "    \n",
    "    # 모든 영화들의 movieId중 이미 평점을 매긴 영화의 movieId를 제외하여 리스트로 생성\n",
    "    unseen_movies= [movie for movie in total_movies if movie not in seen_movies]\n",
    "    print('평점 매긴 영화수:',len(seen_movies), '추천대상 영화수:',len(unseen_movies), \\\n",
    "          '전체 영화수:',len(total_movies))\n",
    "    \n",
    "    return unseen_movies\n",
    "\n",
    "unseen_movies = get_unseen_surprise(ratings, movies, 9)"
   ]
  },
  {
   "cell_type": "markdown",
   "id": "a84ca97c",
   "metadata": {},
   "source": [
    "-> 결과) 전체 9742개 영화 중 46개만 평점 매김\n",
    "- 추천 대상 영화 9696개\n",
    "- SVD 이용해 높은 예측 평점 가진 순으로 영화 추천"
   ]
  },
  {
   "cell_type": "code",
   "execution_count": null,
   "id": "8bca2b96",
   "metadata": {},
   "outputs": [],
   "source": [
    "def recomm_movie_by_surprise(algo, userId, unseen_movies, top_n=10):\n",
    "    # 알고리즘 객체의 predict() 메서드를 평점이 없는 영화에 반복 수행한 후 결과를 list 객체로 저장\n",
    "    predictions = [algo.predict(str(userId), str(movieId)) for movieId in unseen_movies]\n",
    "    \n",
    "    # predictions list 객체는 surprise의 Predictions 객체를 원소로 가지고 있음.\n",
    "    # [Prediction(uid='9', iid='1', est=3.69), Prediction(uid='9', iid='2', est=2.98),,,,]\n",
    "    # 이를 est 값으로 정렬하기 위해서 아래의 sortkey_est 함수를 정의함.\n",
    "    # sortkey_est 함수는 list 객체의 sort() 함수의 키 값으로 사용되어 정렬 수행.\n",
    "    def sortkey_est(pred):\n",
    "        return pred.est\n",
    "    \n",
    "    # sortkey_est( ) 반환값의 내림 차순으로 정렬 수행하고 top_n개의 최상위 값 추출.\n",
    "    predictions.sort(key=sortkey_est, reverse=True)\n",
    "    top_predictions= predictions[:top_n]\n",
    "    \n",
    "    # top_n으로 추출된 영화의 정보 추출. 영화 아이디, 추천 예상 평점, 제목 추출\n",
    "    top_movie_ids = [ int(pred.iid) for pred in top_predictions]\n",
    "    top_movie_rating = [ pred.est for pred in top_predictions]\n",
    "    top_movie_titles = movies[movies.movieId.isin(top_movie_ids)]['title']\n",
    "    top_movie_preds = [ (id, title, rating) for id, title, rating in zip(top_movie_ids, top_movie_titles, top_movie_rating)]\n",
    "    \n",
    "    return top_movie_preds\n",
    "\n",
    "unseen_movies = get_unseen_surprise(ratings, movies, 9)\n",
    "top_movie_preds = recomm_movie_by_surprise(algo, 9, unseen_movies, top_n=10)\n",
    "print('##### Top-10 추천 영화 리스트 #####')\n",
    "\n",
    "for top_movie in top_movie_preds:\n",
    "    print(top_movie[1], \":\", top_movie[2])"
   ]
  },
  {
   "cell_type": "markdown",
   "id": "606175a8",
   "metadata": {},
   "source": [
    "![image](https://user-images.githubusercontent.com/79856553/152002775-0bef22ab-3f88-48ce-8f6f-ab353c8de27e.png)"
   ]
  },
  {
   "cell_type": "markdown",
   "id": "cb16616d",
   "metadata": {},
   "source": [
    "## 09. 정리"
   ]
  },
  {
   "cell_type": "markdown",
   "id": "87831ce7",
   "metadata": {},
   "source": [
    "1. 추천 시스템의 대표적인 방식: 콘텐츠 기반 필터링 & 협업 필터링\n",
    "\n",
    "\n",
    "2. **콘텐츠 기반 필터링**: 아이템을 구성하는 여러 가지 콘텐츠 중 사용자가 좋아하는 콘텐츠를 필터링하여 이에 맞는 아이템 추천하는 방식\n",
    "    1. 사용자가 좋아하는 영화 분석한 뒤, 그 **영화 콘텐츠와 유사한 다른 영화 추천**\n",
    "    \n",
    "    \n",
    "3. **협업 필터링** - 최근접 이웃 협업 필터링 & 잠재 요인 협업 필터링\n",
    "    1. **최근접 이웃 협업 필터링** - 사용자 기반 & 아이템 기반\n",
    "        1. 일반적으로 아이템 기반이 정확도 더 높음\n",
    "        2. **특정 아이템과 가장 근접하게 유사한 다른 아이템 추천**(아이템 기반)\n",
    "        3. 유사도 기준: 사용자들의 아이템에 대한 평가를 벡터화한 값\n",
    "        4. 아이템-사용자 행렬 데이터 세트 만들고, 아이템 별로 코사인 유사도 이용해 사용자 평점 피처 벡처에 따른 TOP-N 유사 아이템 추천\n",
    "    2. **잠재 요인 협업 필터링**\n",
    "        1. 사용자-아이템 평점 행렬 데이터에 **숨어 있는 잠재 요인을 추출**하여 사용자가 **아직 평점을 매기지 않은 아이템에 대한 평점 예측**하여 추천에 반영\n",
    "        2. 다차원 사용자-아이템 평점 행렬 -(행렬분해)-> 저차원 사용자-잠재요인, 아이템-잠재요인 행렬\n",
    "        3. 행렬 분해 기법은 경사 하강법으로 구현\n",
    "        \n",
    "        \n",
    "4. **Surprise**\n",
    "    - 파이썬의 추천 시스템 패키지 중 하나\n",
    "    - 사이킷런과 유사한 API 지향\n",
    "    - 간단한 API만 이용해 파이썬 기반에서 추천 시스템 구현해줌"
   ]
  },
  {
   "cell_type": "code",
   "execution_count": null,
   "id": "8937e15a",
   "metadata": {},
   "outputs": [],
   "source": []
  }
 ],
 "metadata": {
  "kernelspec": {
   "display_name": "Python 3",
   "language": "python",
   "name": "python3"
  },
  "language_info": {
   "codemirror_mode": {
    "name": "ipython",
    "version": 3
   },
   "file_extension": ".py",
   "mimetype": "text/x-python",
   "name": "python",
   "nbconvert_exporter": "python",
   "pygments_lexer": "ipython3",
   "version": "3.8.8"
  }
 },
 "nbformat": 4,
 "nbformat_minor": 5
}
